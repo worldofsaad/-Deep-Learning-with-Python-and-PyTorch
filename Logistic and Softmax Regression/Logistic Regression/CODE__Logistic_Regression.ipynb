{
  "nbformat": 4,
  "nbformat_minor": 0,
  "metadata": {
    "colab": {
      "name": "CODE__Logistic Regression.ipynb",
      "provenance": [],
      "collapsed_sections": []
    },
    "kernelspec": {
      "name": "python3",
      "display_name": "Python 3"
    }
  },
  "cells": [
    {
      "cell_type": "code",
      "metadata": {
        "id": "XEC0t4mNQdpR",
        "colab_type": "code",
        "colab": {
          "base_uri": "https://localhost:8080/",
          "height": 221
        },
        "outputId": "7b5f0940-a03b-4049-fb46-9467d76d65a0"
      },
      "source": [
        "import torch\n",
        "import torch.nn as nn\n",
        "import matplotlib.pyplot as plt\n",
        "torch.manual_seed(1)\n",
        "\n",
        "model1 = nn.Sequential(nn.Linear(2,1),nn.Sigmoid())\n",
        "X = torch.tensor([[-1.0,3.0],[3.0,6.0],[3.0,1.0]])\n",
        "yhat = model1(X)\n",
        "print(list(model.parameters()))\n",
        "print(yhat)\n",
        "\n",
        "\n",
        "class Log_Regr(nn.Module):\n",
        "  def __init__(self,in_):\n",
        "    super(Log_Regr, self).__init__()\n",
        "    self.linear=nn.Linear(in_,1)\n",
        "\n",
        "  def forward(self,x):\n",
        "    yhat = torch.sigmoid(self.linear(x))\n",
        "    return yhat\n",
        "\n",
        "model = Log_Regr(2)\n",
        "print(list(model.parameters()))\n",
        "yhat = model(X)\n",
        "print(yhat)"
      ],
      "execution_count": 13,
      "outputs": [
        {
          "output_type": "stream",
          "text": [
            "[Parameter containing:\n",
            "tensor([[ 0.3319, -0.6657]], requires_grad=True), Parameter containing:\n",
            "tensor([0.4241], requires_grad=True)]\n",
            "tensor([[0.1919],\n",
            "        [0.2856],\n",
            "        [0.6556]], grad_fn=<SigmoidBackward>)\n",
            "[Parameter containing:\n",
            "tensor([[ 0.3319, -0.6657]], requires_grad=True), Parameter containing:\n",
            "tensor([0.4241], requires_grad=True)]\n",
            "tensor([[0.1296],\n",
            "        [0.0708],\n",
            "        [0.6801]], grad_fn=<SigmoidBackward>)\n"
          ],
          "name": "stdout"
        }
      ]
    },
    {
      "cell_type": "code",
      "metadata": {
        "id": "oZMGKbOBQurF",
        "colab_type": "code",
        "colab": {}
      },
      "source": [
        ""
      ],
      "execution_count": 0,
      "outputs": []
    }
  ]
}