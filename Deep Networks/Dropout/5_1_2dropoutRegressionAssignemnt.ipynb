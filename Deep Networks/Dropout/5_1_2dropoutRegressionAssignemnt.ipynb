{
  "nbformat": 4,
  "nbformat_minor": 0,
  "metadata": {
    "kernelspec": {
      "display_name": "Python 3",
      "language": "python",
      "name": "python3"
    },
    "language_info": {
      "codemirror_mode": {
        "name": "ipython",
        "version": 3
      },
      "file_extension": ".py",
      "mimetype": "text/x-python",
      "name": "python",
      "nbconvert_exporter": "python",
      "pygments_lexer": "ipython3",
      "version": "3.6.5"
    },
    "colab": {
      "name": "5.1.2dropoutRegressionAssignemnt.ipynb",
      "provenance": [],
      "collapsed_sections": []
    }
  },
  "cells": [
    {
      "cell_type": "markdown",
      "metadata": {
        "id": "rHk1ERfYu7Eb",
        "colab_type": "text"
      },
      "source": [
        "<div class=\"alert alert-block alert-info\" style=\"margin-top: 20px\">\n",
        " <a href=\"http://cocl.us/pytorch_link_top\"><img src = \"http://cocl.us/Pytorch_top\" width = 950, align = \"center\"></a>"
      ]
    },
    {
      "cell_type": "markdown",
      "metadata": {
        "id": "SmEfHw6uu7Ec",
        "colab_type": "text"
      },
      "source": [
        "<img src = \"https://ibm.box.com/shared/static/ugcqz6ohbvff804xp84y4kqnvvk3bq1g.png\"  width = 200, align = \"center\">\n",
        "\n",
        "<h1 align=center><font size = 5>Using Dropout in Regression Assignment   </font></h1> "
      ]
    },
    {
      "cell_type": "markdown",
      "metadata": {
        "id": "CfOT4JM-u7Ec",
        "colab_type": "text"
      },
      "source": [
        "# Table of Contents\n",
        "in this lab, you will see how adding dropout to your model will decrease overfitting with <code>nn.Sequential</code>.\n",
        "\n",
        "<div class=\"alert alert-block alert-info\" style=\"margin-top: 20px\">\n",
        "<li><a href=\"#ref0\">Make Some Data </a></li>\n",
        "<li><a href=\"#ref1\">Create the Model and Cost Function the Pytorch way</a></li>\n",
        "<li><a href=\"#ref2\">Batch Gradient Descent</a></li>\n",
        "<br>\n",
        "<p></p>\n",
        "Estimated Time Needed: <strong>20 min</strong>\n",
        "</div>\n",
        "\n",
        "<hr>"
      ]
    },
    {
      "cell_type": "markdown",
      "metadata": {
        "id": "EakejiXou7Ed",
        "colab_type": "text"
      },
      "source": [
        "Import all the libraries you need for this lab:  "
      ]
    },
    {
      "cell_type": "code",
      "metadata": {
        "id": "0yTeiVpLu7Ee",
        "colab_type": "code",
        "colab": {}
      },
      "source": [
        "import torch\n",
        "import matplotlib.pyplot as plt\n",
        "import torch.nn as nn\n",
        "\n",
        "import numpy as np"
      ],
      "execution_count": 0,
      "outputs": []
    },
    {
      "cell_type": "markdown",
      "metadata": {
        "id": "hfmPPm-Uu7Ei",
        "colab_type": "text"
      },
      "source": [
        "<a id=\"ref0\"></a>\n",
        "<h2 align=center>Get Some Data </h2>"
      ]
    },
    {
      "cell_type": "markdown",
      "metadata": {
        "id": "v8YAk9fnu7Ei",
        "colab_type": "text"
      },
      "source": [
        "Create polynomial dataset objects: "
      ]
    },
    {
      "cell_type": "code",
      "metadata": {
        "id": "2D8wD-CIu7Ej",
        "colab_type": "code",
        "colab": {}
      },
      "source": [
        "from torch.utils.data import Dataset, DataLoader\n",
        "\n",
        "class Data(Dataset):\n",
        "    def __init__(self,N_SAMPLES = 40,noise_std=1,train=True):\n",
        "      \n",
        "      \n",
        "        self.x = torch.linspace(-1, 1, N_SAMPLES).view(-1,1)\n",
        "        self.f=self.x**2\n",
        "        \n",
        "        if train!=True:\n",
        "            torch.manual_seed(1)\n",
        "         \n",
        "            self.y = self.f+noise_std*torch.randn(self.f.size())\n",
        "            self.y=self.y.view(-1,1)\n",
        "            torch.manual_seed(0)\n",
        "        else:\n",
        "            self.y = self.f+noise_std*torch.randn(self.f.size())\n",
        "            self.y=self.y.view(-1,1)\n",
        "    def __getitem__(self,index):    \n",
        "        return self.x[index],self.y[index]\n",
        "    def __len__(self):\n",
        "        return self.len\n",
        "    def plot(self):\n",
        "        plt.figure(figsize=(6.1, 10))\n",
        "        plt.scatter(self.x.numpy(), self.y.numpy(), label=\"Samples\")\n",
        "        plt.plot(self.x.numpy(), self.f.numpy()  ,label=\"True function\",color='orange')\n",
        "        plt.xlabel(\"x\")\n",
        "        plt.ylabel(\"y\")\n",
        "        plt.xlim((-1, 1))\n",
        "        plt.ylim((-2, 2.5))\n",
        "        plt.legend(loc=\"best\")\n",
        "        plt.show()"
      ],
      "execution_count": 0,
      "outputs": []
    },
    {
      "cell_type": "markdown",
      "metadata": {
        "id": "8Z38LEzqu7Em",
        "colab_type": "text"
      },
      "source": [
        "Create a dataset object:"
      ]
    },
    {
      "cell_type": "code",
      "metadata": {
        "id": "uLYRbfgSu7Em",
        "colab_type": "code",
        "colab": {
          "base_uri": "https://localhost:8080/",
          "height": 610
        },
        "outputId": "0b9db54d-3182-4c76-8bc9-f70a98e30a64"
      },
      "source": [
        "data_set=Data()\n",
        "data_set.plot()"
      ],
      "execution_count": 3,
      "outputs": [
        {
          "output_type": "display_data",
          "data": {
            "image/png": "[encoded data removed]",
            "text/plain": [
              "<Figure size 439.2x720 with 1 Axes>"
            ]
          },
          "metadata": {
            "tags": [],
            "needs_background": "light"
          }
        }
      ]
    },
    {
      "cell_type": "markdown",
      "metadata": {
        "id": "3can9fUgu7Ep",
        "colab_type": "text"
      },
      "source": [
        "Get some validation data: "
      ]
    },
    {
      "cell_type": "code",
      "metadata": {
        "id": "ECKxFoZIu7Ep",
        "colab_type": "code",
        "colab": {}
      },
      "source": [
        "torch.manual_seed(0) \n",
        "validation_set=Data(train=False)"
      ],
      "execution_count": 0,
      "outputs": []
    },
    {
      "cell_type": "markdown",
      "metadata": {
        "id": "93ZcBtMnu7Es",
        "colab_type": "text"
      },
      "source": [
        "<a id=\"ref1\"></a>\n",
        "<h2 align=center>Create the Model, Optimizer, and Total Loss Function (cost)</h2>"
      ]
    },
    {
      "cell_type": "markdown",
      "metadata": {
        "id": "34LlCBpju7Es",
        "colab_type": "text"
      },
      "source": [
        "\n"
      ]
    },
    {
      "cell_type": "code",
      "metadata": {
        "id": "JDMyn91wu7Et",
        "colab_type": "code",
        "colab": {
          "base_uri": "https://localhost:8080/",
          "height": 34
        },
        "outputId": "d8eea053-a60a-414f-b9f8-2bda8780f767"
      },
      "source": [
        "torch.manual_seed(4) "
      ],
      "execution_count": 5,
      "outputs": [
        {
          "output_type": "execute_result",
          "data": {
            "text/plain": [
              "<torch._C.Generator at 0x7f5cb7253130>"
            ]
          },
          "metadata": {
            "tags": []
          },
          "execution_count": 5
        }
      ]
    },
    {
      "cell_type": "markdown",
      "metadata": {
        "id": "eEp3b1mgu7Ew",
        "colab_type": "text"
      },
      "source": [
        "### Create a three-layer neural network <code>model</code> with a ReLU() activation function for regression. All the appropriate layers should be 300 units."
      ]
    },
    {
      "cell_type": "code",
      "metadata": {
        "id": "2OaGfgmQu7Ew",
        "colab_type": "code",
        "colab": {}
      },
      "source": [
        "model = torch.nn.Sequential(\n",
        "    torch.nn.Linear(1,300),\n",
        "    torch.nn.ReLU(),\n",
        "    torch.nn.Linear(300,300),\n",
        "    torch.nn.ReLU(),\n",
        "    torch.nn.Linear(300,1)\n",
        ")"
      ],
      "execution_count": 0,
      "outputs": []
    },
    {
      "cell_type": "markdown",
      "metadata": {
        "id": "Weg0P33Bu7Ez",
        "colab_type": "text"
      },
      "source": [
        "Double-click __here__ for the solution.\n",
        "\n",
        "<!-- Your answer is below:\n",
        "\n",
        "n_hidden = 30\n",
        "model= torch.nn.Sequential(\n",
        "    torch.nn.Linear(1, n_hidden), \n",
        "    torch.nn.ReLU(),\n",
        "    torch.nn.Linear(n_hidden, n_hidden),\n",
        "\n",
        "    torch.nn.ReLU(),\n",
        "    torch.nn.Linear(n_hidden, 1),\n",
        ")\n",
        "-->\n"
      ]
    },
    {
      "cell_type": "markdown",
      "metadata": {
        "id": "P2XZSdXtu7Ez",
        "colab_type": "text"
      },
      "source": [
        "### Create a three-layer neural network <code>model_drop</code> with a ReLU() activation function for regression. All the appropriate layers should be 300 units. Apply dropout to all but the last layer and make the probability of dropout is 50%."
      ]
    },
    {
      "cell_type": "code",
      "metadata": {
        "id": "kK2A2Q6ou7Ez",
        "colab_type": "code",
        "colab": {}
      },
      "source": [
        "model_drop = torch.nn.Sequential(\n",
        "    torch.nn.Linear(1,300),\n",
        "    torch.nn.Dropout(0.5),\n",
        "    torch.nn.ReLU(),\n",
        "    torch.nn.Linear(300,300),\n",
        "    torch.nn.Dropout(0.5),\n",
        "    torch.nn.ReLU(),\n",
        "    torch.nn.Linear(300,1)\n",
        ")"
      ],
      "execution_count": 0,
      "outputs": []
    },
    {
      "cell_type": "markdown",
      "metadata": {
        "id": "bIfDl3KFu7E2",
        "colab_type": "text"
      },
      "source": [
        "Double-click __here__ for the solution.\n",
        "<!-- Your answer is below:\n",
        "n_hidden = 300\n",
        "model_drop= torch.nn.Sequential(\n",
        "    torch.nn.Linear(1, n_hidden),\n",
        "    torch.nn.Dropout(0.5),  \n",
        "    torch.nn.ReLU(),\n",
        "    torch.nn.Linear(n_hidden, n_hidden),\n",
        "    torch.nn.Dropout(0.5), \n",
        "    torch.nn.ReLU(),\n",
        "    torch.nn.Linear(n_hidden, 1),\n",
        ")\n",
        "-->\n"
      ]
    },
    {
      "cell_type": "markdown",
      "metadata": {
        "id": "nCThgJawu7E2",
        "colab_type": "text"
      },
      "source": [
        "<a id=\"ref2\"></a>\n",
        "<h2 align=center>Train the Model via Mini-Batch Gradient Descent </h2>"
      ]
    },
    {
      "cell_type": "markdown",
      "metadata": {
        "id": "P5y9aWdou7E3",
        "colab_type": "text"
      },
      "source": [
        "Set the model using dropout to training mode; this is the default mode, but it's a good practice. "
      ]
    },
    {
      "cell_type": "code",
      "metadata": {
        "id": "m09XZgdku7E3",
        "colab_type": "code",
        "colab": {
          "base_uri": "https://localhost:8080/",
          "height": 170
        },
        "outputId": "6a7ce643-679d-4806-de1d-009fbaa73a1b"
      },
      "source": [
        "model_drop.train()"
      ],
      "execution_count": 9,
      "outputs": [
        {
          "output_type": "execute_result",
          "data": {
            "text/plain": [
              "Sequential(\n",
              "  (0): Linear(in_features=1, out_features=300, bias=True)\n",
              "  (1): Dropout(p=0.5, inplace=False)\n",
              "  (2): ReLU()\n",
              "  (3): Linear(in_features=300, out_features=300, bias=True)\n",
              "  (4): Dropout(p=0.5, inplace=False)\n",
              "  (5): ReLU()\n",
              "  (6): Linear(in_features=300, out_features=1, bias=True)\n",
              ")"
            ]
          },
          "metadata": {
            "tags": []
          },
          "execution_count": 9
        }
      ]
    },
    {
      "cell_type": "markdown",
      "metadata": {
        "id": "nrlYfoZcu7E6",
        "colab_type": "text"
      },
      "source": [
        "Train the model by using the Adam optimizer. See the unit on other optimizers. Use the mean square loss: "
      ]
    },
    {
      "cell_type": "code",
      "metadata": {
        "id": "U_DpBrRiu7E7",
        "colab_type": "code",
        "colab": {}
      },
      "source": [
        "optimizer_ofit = torch.optim.Adam(model.parameters(), lr=0.01)\n",
        "optimizer_drop = torch.optim.Adam(model_drop.parameters(), lr=0.01)\n",
        "criterion = torch.nn.MSELoss()"
      ],
      "execution_count": 0,
      "outputs": []
    },
    {
      "cell_type": "markdown",
      "metadata": {
        "id": "cdf_hnvGu7E9",
        "colab_type": "text"
      },
      "source": [
        "Initialize a dictionary that stores the training and validation loss for each model:"
      ]
    },
    {
      "cell_type": "code",
      "metadata": {
        "id": "V_Hg5Evou7E9",
        "colab_type": "code",
        "colab": {}
      },
      "source": [
        "LOSS={}\n",
        "LOSS['training data no dropout']=[]\n",
        "LOSS['validation data no dropout']=[]\n",
        "LOSS['training data dropout']=[]\n",
        "LOSS['validation data dropout']=[]"
      ],
      "execution_count": 0,
      "outputs": []
    },
    {
      "cell_type": "markdown",
      "metadata": {
        "id": "8gZa7yU0u7E_",
        "colab_type": "text"
      },
      "source": [
        "Run 500 iterations of batch gradient decent:"
      ]
    },
    {
      "cell_type": "code",
      "metadata": {
        "id": "KCGQm6GYu7FA",
        "colab_type": "code",
        "colab": {}
      },
      "source": [
        "epochs=500\n",
        "\n",
        "for epoch in range(epochs):\n",
        "    #make a prediction for both models \n",
        "    yhat = model(data_set.x)\n",
        "    yhat_drop = model_drop(data_set.x)\n",
        "    #calculate the lossf or both models \n",
        "    loss = criterion(yhat, data_set.y)\n",
        "    loss_drop = criterion(yhat_drop, data_set.y)\n",
        "    \n",
        "    #store the loss for  both the training and validation  data for both models \n",
        "    LOSS['training data no dropout'].append(loss.item())\n",
        "    LOSS['validation data no dropout'].append(criterion(model(validation_set.x), validation_set.y).item())\n",
        "    LOSS['training data dropout'].append(loss_drop.item())\n",
        "    model_drop.eval()\n",
        "    LOSS['validation data dropout'].append(criterion(model_drop(validation_set.x), validation_set.y).item())\n",
        "    model_drop.train()\n",
        "    \n",
        "    #clear gradient \n",
        "    optimizer_ofit.zero_grad()\n",
        "    optimizer_drop.zero_grad()\n",
        "    #Backward pass: compute gradient of the loss with respect to all the learnable parameters\n",
        "    loss.backward()\n",
        "    loss_drop.backward()\n",
        "    #the step function on an Optimizer makes an update to its parameters\n",
        "    optimizer_ofit.step()\n",
        "    optimizer_drop.step()"
      ],
      "execution_count": 0,
      "outputs": []
    },
    {
      "cell_type": "markdown",
      "metadata": {
        "id": "j00B7voUu7FC",
        "colab_type": "text"
      },
      "source": [
        "### Make a prediction by using the test set assign <code>model</code> to yhat and <code>model_drop</code> to yhat_drop."
      ]
    },
    {
      "cell_type": "code",
      "metadata": {
        "id": "glb7CMdiu7FC",
        "colab_type": "code",
        "colab": {}
      },
      "source": [
        "yhat = model(validation_set.x)\n",
        "model_drop.eval()\n",
        "yhat_drop=model_drop(validation_set.x)\n"
      ],
      "execution_count": 0,
      "outputs": []
    },
    {
      "cell_type": "markdown",
      "metadata": {
        "id": "urnHwdvXu7FE",
        "colab_type": "text"
      },
      "source": [
        "Double-click __here__ for the solution.\n",
        "<!-- Your answer is below:\n",
        "yhat=model(data_set.x)\n",
        "model_drop.eval()\n",
        "yhat_drop=model_drop(data_set.x),\n",
        ")\n",
        "-->\n"
      ]
    },
    {
      "cell_type": "markdown",
      "metadata": {
        "id": "oSnqgBdsu7FE",
        "colab_type": "text"
      },
      "source": [
        "Plot predictions of both models. Compare them to the training points and the true function:"
      ]
    },
    {
      "cell_type": "code",
      "metadata": {
        "id": "QBpjtIl3u7FF",
        "colab_type": "code",
        "colab": {
          "base_uri": "https://localhost:8080/",
          "height": 610
        },
        "outputId": "cc20e334-9a7f-4997-cb58-bbcd9c904396"
      },
      "source": [
        "plt.figure(figsize=(6.1, 10))\n",
        "\n",
        "plt.scatter(data_set.x.numpy(), data_set.y.numpy(), label=\"Samples\")\n",
        "plt.plot(data_set.x.numpy(), data_set.f.numpy()  ,label=\"True function\",color='orange')\n",
        "plt.plot(data_set.x.numpy(),yhat.detach().numpy(),label='no dropout',c='r')\n",
        "plt.plot(data_set.x.numpy(),yhat_drop.detach().numpy(),label=\"dropout\",c='g')\n",
        "\n",
        "\n",
        "plt.xlabel(\"x\")\n",
        "plt.ylabel(\"y\")\n",
        "plt.xlim((-1, 1))\n",
        "plt.ylim((-2, 2.5))\n",
        "plt.legend(loc=\"best\")\n",
        "plt.show()"
      ],
      "execution_count": 15,
      "outputs": [
        {
          "output_type": "display_data",
          "data": {
            "image/png": "[encoded data removed]",
            "text/plain": [
              "<Figure size 439.2x720 with 1 Axes>"
            ]
          },
          "metadata": {
            "tags": [],
            "needs_background": "light"
          }
        }
      ]
    },
    {
      "cell_type": "markdown",
      "metadata": {
        "id": "QnRws6GGu7FH",
        "colab_type": "text"
      },
      "source": [
        "You can see that the model using dropout does better at tracking the function that generated the data. "
      ]
    },
    {
      "cell_type": "markdown",
      "metadata": {
        "id": "D640VZ_Hu7FH",
        "colab_type": "text"
      },
      "source": [
        "Plot out the loss for training and validation data on both models:  "
      ]
    },
    {
      "cell_type": "code",
      "metadata": {
        "id": "3bW2Cg45u7FH",
        "colab_type": "code",
        "colab": {
          "base_uri": "https://localhost:8080/",
          "height": 606
        },
        "outputId": "33375ead-f92d-4782-ba9f-450ba208c5c0"
      },
      "source": [
        "plt.figure(figsize=(6.1, 10))\n",
        "for key, value in LOSS.items():\n",
        "    plt.plot(np.log(np.array(value)),label=key)\n",
        "    plt.legend()\n",
        "    plt.xlabel(\"iterations\")\n",
        "    plt.ylabel(\"Log of cost or total loss\")"
      ],
      "execution_count": 16,
      "outputs": [
        {
          "output_type": "display_data",
          "data": {
            "image/png": "[encoded data removed]",
            "text/plain": [
              "<Figure size 439.2x720 with 1 Axes>"
            ]
          },
          "metadata": {
            "tags": [],
            "needs_background": "light"
          }
        }
      ]
    },
    {
      "cell_type": "markdown",
      "metadata": {
        "id": "mHCUob2Yu7FK",
        "colab_type": "text"
      },
      "source": [
        ""
      ]
    },
    {
      "cell_type": "markdown",
      "metadata": {
        "id": "AhDc2jEau7FK",
        "colab_type": "text"
      },
      "source": [
        "<div class=\"alert alert-block alert-info\" style=\"margin-top: 20px\">\n",
        " <a href=\"http://cocl.us/pytorch_link_bottom\"><img src = \"http://cocl.us/pytorch_image_bottom\" width = 950, align = \"center\"></a>"
      ]
    },
    {
      "cell_type": "markdown",
      "metadata": {
        "id": "EH61eZv5u7FK",
        "colab_type": "text"
      },
      "source": [
        "### About the Authors:  \n",
        "\n",
        " [Joseph Santarcangelo]( https://www.linkedin.com/in/joseph-s-50398b136/) has a PhD in Electrical Engineering. His research focused on using machine learning, signal processing, and computer vision to determine how videos impact human cognition. \n",
        "\n",
        "Other contributors: [Michelle Carey](  https://www.linkedin.com/in/michelleccarey/) ,[Morvan Youtube channel]( https://www.youtube.com/channel/UCdyjiB5H8Pu7aDTNVXTTpcg), [Mavis Zhou](  https://www.linkedin.com/in/jiahui-mavis-zhou-a4537814a/)"
      ]
    },
    {
      "cell_type": "markdown",
      "metadata": {
        "id": "2LHy7oF5u7FL",
        "colab_type": "text"
      },
      "source": [
        "<hr>"
      ]
    },
    {
      "cell_type": "markdown",
      "metadata": {
        "id": "Fi2q7lPZu7FL",
        "colab_type": "text"
      },
      "source": [
        "Copyright &copy; 2018 [cognitiveclass.ai](cognitiveclass.ai?utm_source=bducopyrightlink&utm_medium=dswb&utm_campaign=bdu). This notebook and its source code are released under the terms of the [MIT License](https://bigdatauniversity.com/mit-license/)."
      ]
    }
  ]
}