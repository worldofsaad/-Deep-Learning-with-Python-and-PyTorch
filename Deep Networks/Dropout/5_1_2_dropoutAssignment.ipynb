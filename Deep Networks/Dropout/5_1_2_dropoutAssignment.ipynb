{
  "nbformat": 4,
  "nbformat_minor": 0,
  "metadata": {
    "kernelspec": {
      "display_name": "Python 3",
      "language": "python",
      "name": "python3"
    },
    "language_info": {
      "codemirror_mode": {
        "name": "ipython",
        "version": 3
      },
      "file_extension": ".py",
      "mimetype": "text/x-python",
      "name": "python",
      "nbconvert_exporter": "python",
      "pygments_lexer": "ipython3",
      "version": "3.6.5"
    },
    "colab": {
      "name": "5.1.2.dropoutAssignment.ipynb",
      "provenance": [],
      "collapsed_sections": []
    }
  },
  "cells": [
    {
      "cell_type": "markdown",
      "metadata": {
        "id": "3AYEyJcghshX",
        "colab_type": "text"
      },
      "source": [
        "<div class=\"alert alert-block alert-info\" style=\"margin-top: 20px\">\n",
        " <a href=\"http://cocl.us/pytorch_link_top\"><img src = \"http://cocl.us/Pytorch_top\" width = 950, align = \"center\"></a>"
      ]
    },
    {
      "cell_type": "markdown",
      "metadata": {
        "id": "4fKUWD5EhshY",
        "colab_type": "text"
      },
      "source": [
        "<img src = \"https://ibm.box.com/shared/static/ugcqz6ohbvff804xp84y4kqnvvk3bq1g.png\" width = 200, align = \"center\">\n",
        "\n",
        "<h1 align=center><font size = 5>Using Dropout for Classification Assignment  </font></h1> "
      ]
    },
    {
      "cell_type": "markdown",
      "metadata": {
        "id": "-B5PzYybhshY",
        "colab_type": "text"
      },
      "source": [
        "# Table of Contents\n",
        "in this lab, you will see how adding dropout to your model will decrease overfitting by using <code>nn.Sequential</code> and Cross Entropy Loss.\n",
        "\n",
        "<div class=\"alert alert-block alert-info\" style=\"margin-top: 20px\">\n",
        "<li><a href=\"#ref0\">Make Some Data</a></li>\n",
        "<li><a href=\"#ref1\">Create the Model and Cost Function the Pytorch way</a></li>\n",
        "<li><a href=\"#ref2\">Batch Gradient Descent</a></li>\n",
        "<br>\n",
        "<p></p>\n",
        "Estimated Time Needed: <strong>20 min</strong>\n",
        "</div>\n",
        "\n",
        "<hr>"
      ]
    },
    {
      "cell_type": "markdown",
      "metadata": {
        "id": "tlIQv1OyhshZ",
        "colab_type": "text"
      },
      "source": [
        "Import all the libraries that you need for the lab:  "
      ]
    },
    {
      "cell_type": "code",
      "metadata": {
        "id": "avgMr-8Ghsha",
        "colab_type": "code",
        "colab": {}
      },
      "source": [
        "import torch\n",
        "from torch import nn\n",
        "import matplotlib.pyplot as plt\n",
        "import torch.nn as nn\n",
        "import torch.nn.functional as F\n",
        "import numpy as np\n",
        "from matplotlib.colors import ListedColormap"
      ],
      "execution_count": 0,
      "outputs": []
    },
    {
      "cell_type": "markdown",
      "metadata": {
        "id": "7F6n_saShshd",
        "colab_type": "text"
      },
      "source": [
        "Use this function only for plotting: "
      ]
    },
    {
      "cell_type": "code",
      "metadata": {
        "id": "nyp5t_8hhshe",
        "colab_type": "code",
        "colab": {}
      },
      "source": [
        "def plot_decision_regions_3class(data_set,model=None):\n",
        "\n",
        "    cmap_light = ListedColormap(['#FFAAAA', '#AAFFAA','#00AAFF'])\n",
        "    cmap_bold = ListedColormap(['#FF0000', '#00FF00','#00AAFF'])\n",
        "    X=data_set.x.numpy()\n",
        "    y=data_set.y.numpy()\n",
        "    h = .02\n",
        "    x_min, x_max = X[:, 0].min()-0.1 , X[:, 0].max()+0.1 \n",
        "    y_min, y_max = X[:, 1].min()-0.1 , X[:, 1].max() +0.1 \n",
        "    xx, yy = np.meshgrid(np.arange(x_min, x_max, h),np.arange(y_min, y_max, h))\n",
        "    newdata=np.c_[xx.ravel(), yy.ravel()]\n",
        "    \n",
        "    #XX=torch.torch.Tensor(newdata)\n",
        "    #_,yhat=torch.max(model(XX),1)\n",
        "    #yhat=yhat.numpy().reshape(xx.shape)\n",
        "    \n",
        "    Z=data_set.fun(newdata).flatten()\n",
        "    f=np.zeros(Z.shape)\n",
        "    f[Z>0]=1\n",
        "    f=f.reshape(xx.shape)\n",
        "    if model!=None:\n",
        "        model.eval()\n",
        "        XX=torch.torch.Tensor(newdata)\n",
        "        _,yhat=torch.max(model(XX),1)\n",
        "        yhat=yhat.numpy().reshape(xx.shape)\n",
        "        plt.pcolormesh(xx, yy, yhat, cmap=cmap_light)\n",
        "        plt.contour(xx, yy, f, cmap=plt.cm.Paired)\n",
        "    else:\n",
        "        plt.contour(xx, yy, f, cmap=plt.cm.Paired)\n",
        "        plt.pcolormesh(xx, yy, f, cmap=cmap_light) \n",
        "\n",
        "    plt.title(\"decision region vs True decision boundary\")\n",
        "    plt.legend()\n",
        " "
      ],
      "execution_count": 0,
      "outputs": []
    },
    {
      "cell_type": "markdown",
      "metadata": {
        "id": "9u445VQMhshg",
        "colab_type": "text"
      },
      "source": [
        "Use this function to calculate accuracy: "
      ]
    },
    {
      "cell_type": "code",
      "metadata": {
        "id": "RQeaJyK-hshh",
        "colab_type": "code",
        "colab": {}
      },
      "source": [
        "def accuracy(model,data_set):\n",
        "    _,yhat=torch.max(model(data_set.x),1)\n",
        "    return (yhat==data_set.y).numpy().mean()"
      ],
      "execution_count": 0,
      "outputs": []
    },
    {
      "cell_type": "markdown",
      "metadata": {
        "id": "4ayGMMGWhshj",
        "colab_type": "text"
      },
      "source": [
        "<a id=\"ref0\"></a>\n",
        "<h2 align=center>Get Some Data </h2>"
      ]
    },
    {
      "cell_type": "markdown",
      "metadata": {
        "id": "_O0nk7aWhshk",
        "colab_type": "text"
      },
      "source": [
        "Create a nonlinearly separable dataset:    "
      ]
    },
    {
      "cell_type": "code",
      "metadata": {
        "id": "3x-b3bmrhshk",
        "colab_type": "code",
        "colab": {}
      },
      "source": [
        "from torch.utils.data import Dataset, DataLoader\n",
        "\n",
        "class Data(Dataset):\n",
        "    def __init__(self,N_SAMPLES = 1000,noise_std=0.1,train=True):\n",
        "      \n",
        "        a=np.matrix([-1,1,2,1,1,-3,1]).T\n",
        "        \n",
        "        self.x = np.matrix(np.random.rand(N_SAMPLES,2))\n",
        "\n",
        "        self.f=np.array(a[0]+(self.x)*a[1:3]+np.multiply(self.x[:,0], self.x[:,1])*a[4]+np.multiply(self.x, self.x)*a[5:7]).flatten()\n",
        "        self.a=a\n",
        "       \n",
        "        self.y=np.zeros(N_SAMPLES)\n",
        "        self.y[self.f> 0]=1\n",
        "        self.y=torch.from_numpy(self.y).type(torch.LongTensor)\n",
        "        self.x=torch.from_numpy(self.x).type(torch.FloatTensor)\n",
        "        self.x = self.x+noise_std*torch.randn(self.x.size())\n",
        "        self.f=torch.from_numpy(self.f)\n",
        "        self.a=a\n",
        "        if train==True:\n",
        "            torch.manual_seed(1)\n",
        "         \n",
        "            self.x = self.x+noise_std*torch.randn(self.x.size())\n",
        "            torch.manual_seed(0)\n",
        "        \n",
        "            \n",
        "    def __getitem__(self,index):    \n",
        "        return self.x[index],self.y[index]\n",
        "    def __len__(self):\n",
        "        return self.len\n",
        "    def plot(self):\n",
        "        X=data_set.x.numpy()\n",
        "        y=data_set.y.numpy()\n",
        "        h = .02\n",
        "        x_min, x_max = X[:, 0].min() , X[:, 0].max()\n",
        "        y_min, y_max = X[:, 1].min(), X[:, 1].max() \n",
        "        xx, yy = np.meshgrid(np.arange(x_min, x_max, h),np.arange(y_min, y_max, h))\n",
        "        Z=data_set.fun(np.c_[xx.ravel(), yy.ravel()]).flatten()\n",
        "        f=np.zeros(Z.shape)\n",
        "        f[Z>0]=1\n",
        "        f=f.reshape(xx.shape)\n",
        "        plt.title('True decision boundary  and sample points with noise ')\n",
        "      \n",
        "\n",
        "        plt.plot(self.x[self.y==0,0].numpy(),self.x[self.y==0,1].numpy(),'bo',label='y=0' ) \n",
        "        plt.plot(self.x[self.y==1,0].numpy(), self.x[self.y==1,1].numpy(),'ro',label='y=1' )\n",
        "        plt.contour(xx, yy, f, cmap=plt.cm.Paired)\n",
        "        plt.xlim(0,1)\n",
        "        plt.ylim(0,1)\n",
        "        plt.legend()\n",
        "    def fun(self,x):\n",
        "        \n",
        "        x=np.matrix(x)\n",
        "\n",
        "        out=np.array(self.a[0]+(x)*self.a[1:3]+np.multiply(x[:,0], x[:,1])*self.a[4]+np.multiply(x, x)*self.a[5:7])\n",
        "        out=np.array(out)\n",
        "        return out\n",
        "  "
      ],
      "execution_count": 0,
      "outputs": []
    },
    {
      "cell_type": "markdown",
      "metadata": {
        "id": "gfASppCshshn",
        "colab_type": "text"
      },
      "source": [
        "Create a dataset object:"
      ]
    },
    {
      "cell_type": "code",
      "metadata": {
        "id": "gYrqWhqrhshn",
        "colab_type": "code",
        "colab": {
          "base_uri": "https://localhost:8080/",
          "height": 281
        },
        "outputId": "fa80cf5c-726c-49fb-ef7c-ea2bd50ac8b4"
      },
      "source": [
        "data_set=Data(noise_std=0.2)\n",
        "data_set.plot()\n"
      ],
      "execution_count": 5,
      "outputs": [
        {
          "output_type": "display_data",
          "data": {
            "image/png": "[encoded data removed]",
            "text/plain": [
              "<Figure size 432x288 with 1 Axes>"
            ]
          },
          "metadata": {
            "tags": [],
            "needs_background": "light"
          }
        }
      ]
    },
    {
      "cell_type": "markdown",
      "metadata": {
        "id": "_QbInM4rhshq",
        "colab_type": "text"
      },
      "source": [
        "Get some validation data: "
      ]
    },
    {
      "cell_type": "code",
      "metadata": {
        "id": "UYYXI608hshr",
        "colab_type": "code",
        "colab": {}
      },
      "source": [
        "torch.manual_seed(0) \n",
        "validation_set=Data(train=False)"
      ],
      "execution_count": 0,
      "outputs": []
    },
    {
      "cell_type": "markdown",
      "metadata": {
        "id": "NftPGsuohsht",
        "colab_type": "text"
      },
      "source": [
        "<a id=\"ref1\"></a>\n",
        "<h2 align=center>Create the Model, Optimizer, and Total Loss Function (cost)</h2>"
      ]
    },
    {
      "cell_type": "markdown",
      "metadata": {
        "id": "s69_dEzwhshu",
        "colab_type": "text"
      },
      "source": [
        "### Create a three-layer neural network <code>model</code> with a ReLU() activation function for regression. All the appropriate layers should be 300 units.\n"
      ]
    },
    {
      "cell_type": "code",
      "metadata": {
        "id": "Xn_rIcYlhshu",
        "colab_type": "code",
        "colab": {}
      },
      "source": [
        "model = nn.Sequential(\n",
        "    nn.Linear(2,300),\n",
        "    nn.ReLU(),\n",
        "    nn.Linear(300,300),\n",
        "    nn.ReLU(),\n",
        "    nn.Linear(300,2)\n",
        ")"
      ],
      "execution_count": 0,
      "outputs": []
    },
    {
      "cell_type": "markdown",
      "metadata": {
        "id": "PX3-xRJbhshx",
        "colab_type": "text"
      },
      "source": [
        "\n",
        "Double-click __here__ for the solution.\n",
        "<!-- Your answer is below:\n",
        "    n_hidden = 300\n",
        "    model= torch.nn.Sequential(\n",
        "    torch.nn.Linear(2, n_hidden), \n",
        "    torch.nn.ReLU(),\n",
        "    torch.nn.Linear(n_hidden, n_hidden),\n",
        "    torch.nn.ReLU(),\n",
        "    torch.nn.Linear(n_hidden, 2)\n",
        ")\n",
        "  -->\n"
      ]
    },
    {
      "cell_type": "markdown",
      "metadata": {
        "id": "xYwITk46hshx",
        "colab_type": "text"
      },
      "source": [
        "### Create a three-layer neural network <code>model_drop</code> with a ReLU() activation function for regression. All the appropriate layers should be 300 units. Apply dropout to all but the last layer and make the probability of dropout is 50%."
      ]
    },
    {
      "cell_type": "code",
      "metadata": {
        "id": "4rsfhKBchshx",
        "colab_type": "code",
        "colab": {}
      },
      "source": [
        "model_drop = nn.Sequential(\n",
        "    nn.Linear(2, 300),\n",
        "    nn.Dropout(0.5),\n",
        "    nn.ReLU(),\n",
        "    nn.Linear(300,300),\n",
        "    nn.Dropout(0.5),\n",
        "    nn.ReLU(),\n",
        "    nn.Linear(300,2)\n",
        ")"
      ],
      "execution_count": 0,
      "outputs": []
    },
    {
      "cell_type": "markdown",
      "metadata": {
        "id": "QVSK5r9uhsh0",
        "colab_type": "text"
      },
      "source": [
        "\n",
        "Double-click __here__ for the solution.\n",
        "<!-- Your answer is below:\n",
        "n_hidden = 300\n",
        "model_drop= torch.nn.Sequential(\n",
        "    torch.nn.Linear(2, n_hidden),\n",
        "    torch.nn.Dropout(0.5),  \n",
        "    torch.nn.ReLU(),\n",
        "    torch.nn.Linear(n_hidden, n_hidden),\n",
        "    torch.nn.Dropout(0.5), \n",
        "    torch.nn.ReLU(),\n",
        "    torch.nn.Linear(n_hidden, 2)\n",
        ")\n",
        "-->"
      ]
    },
    {
      "cell_type": "markdown",
      "metadata": {
        "id": "ZXmzAZixhsh1",
        "colab_type": "text"
      },
      "source": [
        "<a id=\"ref2\"></a>\n",
        "<h2 align=center>Train the Model via Mini-Batch Gradient Descent </h2>"
      ]
    },
    {
      "cell_type": "markdown",
      "metadata": {
        "id": "1204_wbfhsh1",
        "colab_type": "text"
      },
      "source": [
        "Set the model by using dropout to training mode; this is the default mode, but it's a good practice. "
      ]
    },
    {
      "cell_type": "code",
      "metadata": {
        "id": "t31SbouIhsh2",
        "colab_type": "code",
        "colab": {
          "base_uri": "https://localhost:8080/",
          "height": 170
        },
        "outputId": "5934256e-99ed-4e3f-c98c-0b715a2bdd09"
      },
      "source": [
        "model_drop.train()"
      ],
      "execution_count": 14,
      "outputs": [
        {
          "output_type": "execute_result",
          "data": {
            "text/plain": [
              "Sequential(\n",
              "  (0): Linear(in_features=2, out_features=300, bias=True)\n",
              "  (1): Dropout(p=0.5, inplace=False)\n",
              "  (2): ReLU()\n",
              "  (3): Linear(in_features=300, out_features=300, bias=True)\n",
              "  (4): Dropout(p=0.5, inplace=False)\n",
              "  (5): ReLU()\n",
              "  (6): Linear(in_features=300, out_features=2, bias=True)\n",
              ")"
            ]
          },
          "metadata": {
            "tags": []
          },
          "execution_count": 14
        }
      ]
    },
    {
      "cell_type": "markdown",
      "metadata": {
        "id": "RB53WVZEhsh4",
        "colab_type": "text"
      },
      "source": [
        "Train the model by using the Adam optimizer. See the unit on other optimizers. Use the Cross Entropy Loss:"
      ]
    },
    {
      "cell_type": "code",
      "metadata": {
        "id": "1yNwVRodhsh4",
        "colab_type": "code",
        "colab": {}
      },
      "source": [
        "optimizer_ofit = torch.optim.Adam(model.parameters(), lr=0.01)\n",
        "optimizer_drop = torch.optim.Adam(model_drop.parameters(), lr=0.01)\n",
        "criterion = torch.nn.CrossEntropyLoss()"
      ],
      "execution_count": 0,
      "outputs": []
    },
    {
      "cell_type": "markdown",
      "metadata": {
        "id": "i-MEJyNvhsh6",
        "colab_type": "text"
      },
      "source": [
        "## Create the appropriate loss function."
      ]
    },
    {
      "cell_type": "markdown",
      "metadata": {
        "id": "Bf9K38Mlhsh7",
        "colab_type": "text"
      },
      "source": [
        "<!-- Your answer is below:\n",
        "criterion = torch.nn.CrossEntropyLoss()\n",
        "-->\n"
      ]
    },
    {
      "cell_type": "markdown",
      "metadata": {
        "id": "zFRV3a9phsh7",
        "colab_type": "text"
      },
      "source": [
        "Initialize a dictionary that stores the training and validation loss for each model:"
      ]
    },
    {
      "cell_type": "code",
      "metadata": {
        "id": "LklN4zNEhsh7",
        "colab_type": "code",
        "colab": {}
      },
      "source": [
        "LOSS={}\n",
        "LOSS['training data no dropout']=[]\n",
        "LOSS['validation data no dropout']=[]\n",
        "LOSS['training data dropout']=[]\n",
        "LOSS['validation data dropout']=[]"
      ],
      "execution_count": 0,
      "outputs": []
    },
    {
      "cell_type": "markdown",
      "metadata": {
        "id": "rxBr6BuIhsh9",
        "colab_type": "text"
      },
      "source": [
        "Run 500 iterations of batch gradient decent: "
      ]
    },
    {
      "cell_type": "code",
      "metadata": {
        "id": "iA9N8APNhsh-",
        "colab_type": "code",
        "colab": {}
      },
      "source": [
        "epochs=500\n",
        "\n",
        "for epoch in range(epochs):\n",
        "    #make a prediction for both models \n",
        "    yhat = model(data_set.x)\n",
        "    yhat_drop = model_drop(data_set.x)\n",
        "    #calculate the lossf or both models \n",
        "    loss = criterion(yhat, data_set.y)\n",
        "    loss_drop = criterion(yhat_drop, data_set.y)\n",
        "    \n",
        "    #store the loss for  both the training and validation  data for both models \n",
        "    LOSS['training data no dropout'].append(loss.item())\n",
        "    LOSS['validation data no dropout'].append(criterion(model(validation_set.x), validation_set.y).item())\n",
        "    LOSS['training data dropout'].append(loss_drop.item())\n",
        "    model_drop.eval()\n",
        "    LOSS['validation data dropout'].append(criterion(model_drop(validation_set.x), validation_set.y).item())\n",
        "    model_drop.train()\n",
        "    \n",
        "    #clear gradient \n",
        "    optimizer_ofit.zero_grad()\n",
        "    optimizer_drop.zero_grad()\n",
        "    #Backward pass: compute gradient of the loss with respect to all the learnable parameters\n",
        "    loss.backward()\n",
        "    loss_drop.backward()\n",
        "    #the step function on an Optimizer makes an update to its parameters\n",
        "    optimizer_ofit.step()\n",
        "    optimizer_drop.step()"
      ],
      "execution_count": 0,
      "outputs": []
    },
    {
      "cell_type": "markdown",
      "metadata": {
        "id": "7glLosPVhsiA",
        "colab_type": "text"
      },
      "source": [
        "Set the model with dropout to evaluation mode: "
      ]
    },
    {
      "cell_type": "code",
      "metadata": {
        "id": "BGFGrcDUhsiA",
        "colab_type": "code",
        "colab": {
          "base_uri": "https://localhost:8080/",
          "height": 170
        },
        "outputId": "fb63e57b-9ba2-40cb-ac71-3f09438f4a35"
      },
      "source": [
        "model_drop.eval()"
      ],
      "execution_count": 18,
      "outputs": [
        {
          "output_type": "execute_result",
          "data": {
            "text/plain": [
              "Sequential(\n",
              "  (0): Linear(in_features=2, out_features=300, bias=True)\n",
              "  (1): Dropout(p=0.5, inplace=False)\n",
              "  (2): ReLU()\n",
              "  (3): Linear(in_features=300, out_features=300, bias=True)\n",
              "  (4): Dropout(p=0.5, inplace=False)\n",
              "  (5): ReLU()\n",
              "  (6): Linear(in_features=300, out_features=2, bias=True)\n",
              ")"
            ]
          },
          "metadata": {
            "tags": []
          },
          "execution_count": 18
        }
      ]
    },
    {
      "cell_type": "markdown",
      "metadata": {
        "id": "cFwK0BjphsiC",
        "colab_type": "text"
      },
      "source": [
        "### Test the accuracy of the model without dropout on the validation data. "
      ]
    },
    {
      "cell_type": "code",
      "metadata": {
        "id": "HIZHTV6YhsiD",
        "colab_type": "code",
        "colab": {
          "base_uri": "https://localhost:8080/",
          "height": 34
        },
        "outputId": "7db80fda-0e06-43e0-ed0a-f4e1f0f61189"
      },
      "source": [
        "z = model(validation_set.x)\n",
        "_,yhat = z.max(1)\n",
        "(yhat==validation_set.y).numpy().mean()"
      ],
      "execution_count": 21,
      "outputs": [
        {
          "output_type": "execute_result",
          "data": {
            "text/plain": [
              "0.906"
            ]
          },
          "metadata": {
            "tags": []
          },
          "execution_count": 21
        }
      ]
    },
    {
      "cell_type": "markdown",
      "metadata": {
        "id": "xvMyF6NphsiF",
        "colab_type": "text"
      },
      "source": [
        "Double-click __here__ for the solution.\n",
        "<!-- Your answer is below:\n",
        "_,yhat=torch.max(model(validation_set.x),1)\n",
        "(yhat==validation_set.y).numpy().mean()\n",
        "-->"
      ]
    },
    {
      "cell_type": "markdown",
      "metadata": {
        "id": "lMuNaF2ihsiG",
        "colab_type": "text"
      },
      "source": [
        "### Test the accuracy of the model without dropout on the validation data. "
      ]
    },
    {
      "cell_type": "code",
      "metadata": {
        "id": "wDpToJTOhsiG",
        "colab_type": "code",
        "colab": {
          "base_uri": "https://localhost:8080/",
          "height": 34
        },
        "outputId": "8b2bf688-3e66-42d4-b59e-a6ac32bde889"
      },
      "source": [
        "z = model_drop(validation_set.x)\n",
        "_,yhat_d = z.max(1)\n",
        "(yhat_d==validation_set.y).numpy().mean()"
      ],
      "execution_count": 22,
      "outputs": [
        {
          "output_type": "execute_result",
          "data": {
            "text/plain": [
              "0.918"
            ]
          },
          "metadata": {
            "tags": []
          },
          "execution_count": 22
        }
      ]
    },
    {
      "cell_type": "markdown",
      "metadata": {
        "id": "BDk_QuNahsiI",
        "colab_type": "text"
      },
      "source": [
        "Double-click __here__ for the solution.\n",
        "<!-- Your answer is below:\n",
        "_,yhat=torch.max(model_drop(validation_set.x),1)\n",
        "(yhat==validation_set.y).numpy().mean()\n",
        "-->\n"
      ]
    },
    {
      "cell_type": "markdown",
      "metadata": {
        "id": "f1jWibaLhsiI",
        "colab_type": "text"
      },
      "source": [
        "You see that the model with dropout performs better on the validation data. "
      ]
    },
    {
      "cell_type": "markdown",
      "metadata": {
        "id": "_6HPPEhyhsiJ",
        "colab_type": "text"
      },
      "source": [
        "Plot the decision boundary and the prediction of the networks in different colors:"
      ]
    },
    {
      "cell_type": "markdown",
      "metadata": {
        "id": "gL8Q1mkshsiJ",
        "colab_type": "text"
      },
      "source": [
        "## true function"
      ]
    },
    {
      "cell_type": "code",
      "metadata": {
        "id": "foVhVH-6hsiJ",
        "colab_type": "code",
        "colab": {
          "base_uri": "https://localhost:8080/",
          "height": 298
        },
        "outputId": "5ee1fd6a-1a03-4b54-dae4-6679169dbecc"
      },
      "source": [
        "plot_decision_regions_3class(data_set)"
      ],
      "execution_count": 23,
      "outputs": [
        {
          "output_type": "stream",
          "text": [
            "No handles with labels found to put in legend.\n"
          ],
          "name": "stderr"
        },
        {
          "output_type": "display_data",
          "data": {
            "image/png": "[encoded data removed]",
            "text/plain": [
              "<Figure size 432x288 with 1 Axes>"
            ]
          },
          "metadata": {
            "tags": [],
            "needs_background": "light"
          }
        }
      ]
    },
    {
      "cell_type": "markdown",
      "metadata": {
        "id": "CJa4xJMkhsiL",
        "colab_type": "text"
      },
      "source": [
        "## model without dropout "
      ]
    },
    {
      "cell_type": "code",
      "metadata": {
        "id": "Hds10-cMhsiL",
        "colab_type": "code",
        "colab": {
          "base_uri": "https://localhost:8080/",
          "height": 298
        },
        "outputId": "30e883c5-18d5-4395-a5ea-9a4bd9968c3e"
      },
      "source": [
        "plot_decision_regions_3class(data_set,model)"
      ],
      "execution_count": 24,
      "outputs": [
        {
          "output_type": "stream",
          "text": [
            "No handles with labels found to put in legend.\n"
          ],
          "name": "stderr"
        },
        {
          "output_type": "display_data",
          "data": {
            "image/png": "[encoded data removed]",
            "text/plain": [
              "<Figure size 432x288 with 1 Axes>"
            ]
          },
          "metadata": {
            "tags": [],
            "needs_background": "light"
          }
        }
      ]
    },
    {
      "cell_type": "markdown",
      "metadata": {
        "id": "f1sni4mJhsiN",
        "colab_type": "text"
      },
      "source": [
        "## model with dropout "
      ]
    },
    {
      "cell_type": "code",
      "metadata": {
        "id": "mTqI_78GhsiO",
        "colab_type": "code",
        "colab": {
          "base_uri": "https://localhost:8080/",
          "height": 298
        },
        "outputId": "86dc24dd-9414-44cf-9e29-44ae8823e12a"
      },
      "source": [
        "plot_decision_regions_3class(data_set,model_drop)"
      ],
      "execution_count": 25,
      "outputs": [
        {
          "output_type": "stream",
          "text": [
            "No handles with labels found to put in legend.\n"
          ],
          "name": "stderr"
        },
        {
          "output_type": "display_data",
          "data": {
            "image/png": "[encoded data removed]",
            "text/plain": [
              "<Figure size 432x288 with 1 Axes>"
            ]
          },
          "metadata": {
            "tags": [],
            "needs_background": "light"
          }
        }
      ]
    },
    {
      "cell_type": "markdown",
      "metadata": {
        "id": "O8y-ZYh8hsiQ",
        "colab_type": "text"
      },
      "source": [
        "You can see that the model using dropout does better at tracking the function that generated the data. "
      ]
    },
    {
      "cell_type": "markdown",
      "metadata": {
        "id": "C0NXRIiRhsiR",
        "colab_type": "text"
      },
      "source": [
        "Plot out the loss for training and validation data on both models:  "
      ]
    },
    {
      "cell_type": "code",
      "metadata": {
        "id": "w0q_zwzchsiR",
        "colab_type": "code",
        "colab": {
          "base_uri": "https://localhost:8080/",
          "height": 606
        },
        "outputId": "9c533ba6-df9f-4c94-c84d-79f7b398bb0b"
      },
      "source": [
        "plt.figure(figsize=(6.1, 10))\n",
        "for key, value in LOSS.items():\n",
        "    plt.plot(np.log(np.array(value)),label=key)\n",
        "    plt.legend()\n",
        "    plt.xlabel(\"iterations\")\n",
        "    plt.ylabel(\"Log of cost or total loss\")"
      ],
      "execution_count": 26,
      "outputs": [
        {
          "output_type": "display_data",
          "data": {
            "image/png": "[encoded data removed]",
            "text/plain": [
              "<Figure size 439.2x720 with 1 Axes>"
            ]
          },
          "metadata": {
            "tags": [],
            "needs_background": "light"
          }
        }
      ]
    },
    {
      "cell_type": "markdown",
      "metadata": {
        "id": "ZhlHmb2ghsiT",
        "colab_type": "text"
      },
      "source": [
        "You see that the model without dropout performs better on the training data, but it performs worse on the validation data. This suggests overfitting.  However, the model using dropout performed better on the validation data, but worse on the training data. "
      ]
    },
    {
      "cell_type": "markdown",
      "metadata": {
        "id": "pc16rfYQhsiV",
        "colab_type": "text"
      },
      "source": [
        "<div class=\"alert alert-block alert-info\" style=\"margin-top: 20px\">\n",
        " <a href=\"http://cocl.us/pytorch_link_bottom\"><img src = \"http://cocl.us/pytorch_image_bottom\" width = 950, align = \"center\"></a>"
      ]
    },
    {
      "cell_type": "markdown",
      "metadata": {
        "id": "OY1dTCOZhsiW",
        "colab_type": "text"
      },
      "source": [
        "### About the Authors:  \n",
        "\n",
        " [Joseph Santarcangelo]( https://www.linkedin.com/in/joseph-s-50398b136/) has a PhD in Electrical Engineering. His research focused on using machine learning, signal processing, and computer vision to determine how videos impact human cognition. \n",
        "\n",
        "Other contributors: [Michelle Carey](  https://www.linkedin.com/in/michelleccarey/), [Morvan Youtube channel]( https://www.youtube.com/channel/UCdyjiB5H8Pu7aDTNVXTTpcg), [Mavis Zhou](  https://www.linkedin.com/in/jiahui-mavis-zhou-a4537814a/)"
      ]
    },
    {
      "cell_type": "markdown",
      "metadata": {
        "id": "P94fH1PEhsiW",
        "colab_type": "text"
      },
      "source": [
        "<hr>"
      ]
    },
    {
      "cell_type": "markdown",
      "metadata": {
        "id": "594JOI7jhsiW",
        "colab_type": "text"
      },
      "source": [
        "Copyright &copy; 2018 [cognitiveclass.ai](cognitiveclass.ai?utm_source=bducopyrightlink&utm_medium=dswb&utm_campaign=bdu). This notebook and its source code are released under the terms of the [MIT License](https://bigdatauniversity.com/mit-license/)."
      ]
    }
  ]
}