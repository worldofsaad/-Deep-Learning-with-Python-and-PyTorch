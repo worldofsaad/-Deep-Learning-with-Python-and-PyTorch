{
  "nbformat": 4,
  "nbformat_minor": 0,
  "metadata": {
    "kernelspec": {
      "display_name": "Python 3",
      "language": "python",
      "name": "python3"
    },
    "language_info": {
      "codemirror_mode": {
        "name": "ipython",
        "version": 3
      },
      "file_extension": ".py",
      "mimetype": "text/x-python",
      "name": "python",
      "nbconvert_exporter": "python",
      "pygments_lexer": "ipython3",
      "version": "3.6.5"
    },
    "colab": {
      "name": "5.4.1_MomentumwithPolynomialFunctions.ipynb",
      "provenance": [],
      "collapsed_sections": []
    }
  },
  "cells": [
    {
      "cell_type": "markdown",
      "metadata": {
        "id": "KskuVG49E4gP",
        "colab_type": "text"
      },
      "source": [
        "<a href=\"http://cocl.us/pytorch_link_top\">\n",
        "    <img src=\"https://s3-api.us-geo.objectstorage.softlayer.net/cf-courses-data/CognitiveClass/DL0110EN/notebook_images%20/Pytochtop.png\" width=\"750\" alt=\"IBM Product \" />\n",
        "</a> \n"
      ]
    },
    {
      "cell_type": "markdown",
      "metadata": {
        "id": "g_s8M0BsE4gQ",
        "colab_type": "text"
      },
      "source": [
        "<img src=\"https://s3-api.us-geo.objectstorage.softlayer.net/cf-courses-data/CognitiveClass/DL0110EN/notebook_images%20/cc-logo-square.png\" width=\"200\" alt=\"cognitiveclass.ai logo\" />"
      ]
    },
    {
      "cell_type": "markdown",
      "metadata": {
        "id": "XlxjSyWpE4gQ",
        "colab_type": "text"
      },
      "source": [
        "<h1>Momentum</h1>"
      ]
    },
    {
      "cell_type": "markdown",
      "metadata": {
        "id": "3ZAQjKJ9E4gR",
        "colab_type": "text"
      },
      "source": [
        "<h2>Table of Contents</h2>\n",
        "<p>In this lab, you will deal with several problems associated with optimization and see how momentum can improve your results.</p>\n",
        "<ul>\n",
        "    <li><a href=\"#Saddle\">Saddle Points</a></li>\n",
        "    <li><a href=\"#Minima\">Local Minima</a></li>\n",
        "    <li><a href=\"#Noise\"> Noise </a></li>\n",
        "</ul>\n",
        "\n",
        "<p>Estimated Time Needed: <b>25 min</b></p>\n",
        "<hr>"
      ]
    },
    {
      "cell_type": "markdown",
      "metadata": {
        "id": "3EsdWqANE4gS",
        "colab_type": "text"
      },
      "source": [
        "<h2>Preparation</h2>"
      ]
    },
    {
      "cell_type": "markdown",
      "metadata": {
        "id": "6Gd4BbcFE4gT",
        "colab_type": "text"
      },
      "source": [
        "Import the following libraries that you'll use for this lab:"
      ]
    },
    {
      "cell_type": "code",
      "metadata": {
        "id": "DVxoAm8FE4gT",
        "colab_type": "code",
        "colab": {
          "base_uri": "https://localhost:8080/",
          "height": 34
        },
        "outputId": "2852842e-7819-4d77-8dff-539f009a19bb"
      },
      "source": [
        "# These are the libraries that will be used for this lab.\n",
        "\n",
        "import torch \n",
        "import torch.nn as nn\n",
        "import matplotlib.pylab as plt\n",
        "import numpy as np\n",
        "\n",
        "torch.manual_seed(0)"
      ],
      "execution_count": 2,
      "outputs": [
        {
          "output_type": "execute_result",
          "data": {
            "text/plain": [
              "<torch._C.Generator at 0x7f5824193f30>"
            ]
          },
          "metadata": {
            "tags": []
          },
          "execution_count": 2
        }
      ]
    },
    {
      "cell_type": "markdown",
      "metadata": {
        "id": "ftB0W_NYE4gX",
        "colab_type": "text"
      },
      "source": [
        "This function will plot a cubic function and the parameter values obtained via Gradient Descent."
      ]
    },
    {
      "cell_type": "code",
      "metadata": {
        "id": "WLzfZ3LVE4gY",
        "colab_type": "code",
        "colab": {}
      },
      "source": [
        "# Plot the cubic\n",
        "\n",
        "def plot_cubic(w, optimizer):\n",
        "    LOSS = []\n",
        "    # parameter values \n",
        "    W = torch.arange(-4, 4, 0.1)\n",
        "    # plot the loss fuction \n",
        "    for w.state_dict()['linear.weight'][0] in W:\n",
        "        LOSS.append(cubic(w(torch.tensor([[1.0]]))).item())\n",
        "    w.state_dict()['linear.weight'][0] = 4.0\n",
        "    n_epochs = 10\n",
        "    parameter = []\n",
        "    loss_list = []\n",
        "\n",
        "    # n_epochs\n",
        "    # Use PyTorch custom module to implement a ploynomial function\n",
        "    for n in range(n_epochs):\n",
        "        optimizer.zero_grad() \n",
        "        loss = cubic(w(torch.tensor([[1.0]])))\n",
        "        loss_list.append(loss)\n",
        "        parameter.append(w.state_dict()['linear.weight'][0].detach().data.item())\n",
        "        loss.backward()\n",
        "        optimizer.step()\n",
        "    plt.plot(parameter, loss_list, 'ro', label='parameter values')\n",
        "    plt.plot(W.numpy(), LOSS, label='objective function')\n",
        "    plt.xlabel('w')\n",
        "    plt.ylabel('l(w)')\n",
        "    plt.legend()  "
      ],
      "execution_count": 0,
      "outputs": []
    },
    {
      "cell_type": "markdown",
      "metadata": {
        "id": "JwltnPNDE4gb",
        "colab_type": "text"
      },
      "source": [
        "This function will plot a 4th order function and the parameter values obtained via Gradient Descent. You can also add Gaussian noise with a standard deviation determined by the parameter <code>std</code>."
      ]
    },
    {
      "cell_type": "code",
      "metadata": {
        "id": "yDyDVxeqE4gc",
        "colab_type": "code",
        "colab": {}
      },
      "source": [
        "# Plot the fourth order function and the parameter values\n",
        "\n",
        "def plot_fourth_order(w, optimizer, std=0, color='r', paramlabel='parameter values', objfun=True):\n",
        "    W = torch.arange(-4, 6, 0.1)\n",
        "    LOSS = []\n",
        "    for w.state_dict()['linear.weight'][0] in W:\n",
        "        LOSS.append(fourth_order(w(torch.tensor([[1.0]]))).item())\n",
        "    w.state_dict()['linear.weight'][0] = 6\n",
        "    n_epochs = 100\n",
        "    parameter = []\n",
        "    loss_list = []\n",
        "\n",
        "    #n_epochs\n",
        "    for n in range(n_epochs):\n",
        "        optimizer.zero_grad()\n",
        "        loss = fourth_order(w(torch.tensor([[1.0]]))) + std * torch.randn(1, 1)\n",
        "        loss_list.append(loss)\n",
        "        parameter.append(w.state_dict()['linear.weight'][0].detach().data.item())\n",
        "        loss.backward()\n",
        "        optimizer.step()\n",
        "    \n",
        "    # Plotting\n",
        "    if objfun:\n",
        "        plt.plot(W.numpy(), LOSS, label='objective function')\n",
        "    plt.plot(parameter, loss_list, 'ro',label=paramlabel, color=color)\n",
        "    plt.xlabel('w')\n",
        "    plt.ylabel('l(w)')\n",
        "    plt.legend()"
      ],
      "execution_count": 0,
      "outputs": []
    },
    {
      "cell_type": "markdown",
      "metadata": {
        "id": "Wc3sKAdCE4gf",
        "colab_type": "text"
      },
      "source": [
        "This is a custom module. It will behave like a single parameter value. We do it this way so we can use PyTorch's build-in optimizers ."
      ]
    },
    {
      "cell_type": "code",
      "metadata": {
        "id": "nP2PrcyHE4gf",
        "colab_type": "code",
        "colab": {}
      },
      "source": [
        "# Create a linear model\n",
        "\n",
        "class one_param(nn.Module):\n",
        "    \n",
        "    # Constructor\n",
        "    def __init__(self, input_size, output_size):\n",
        "        super(one_param, self).__init__()\n",
        "        self.linear = nn.Linear(input_size, output_size, bias=False)\n",
        "        \n",
        "    # Prediction\n",
        "    def forward(self, x):\n",
        "        yhat = self.linear(x)\n",
        "        return yhat"
      ],
      "execution_count": 0,
      "outputs": []
    },
    {
      "cell_type": "markdown",
      "metadata": {
        "id": "Y5VX9-_iE4gi",
        "colab_type": "text"
      },
      "source": [
        "We create an object <code>w</code>, when we call the object with an input of one, it will behave like an individual parameter value. i.e <code>w(1)</code> is analogous to $w$ "
      ]
    },
    {
      "cell_type": "code",
      "metadata": {
        "id": "LHlx9c1GE4gj",
        "colab_type": "code",
        "colab": {}
      },
      "source": [
        "# Create a one_param object\n",
        "\n",
        "w = one_param(1, 1)"
      ],
      "execution_count": 0,
      "outputs": []
    },
    {
      "cell_type": "markdown",
      "metadata": {
        "id": "m2olneoVE4go",
        "colab_type": "text"
      },
      "source": [
        "<!--Empty Space for separating topics-->"
      ]
    },
    {
      "cell_type": "markdown",
      "metadata": {
        "id": "ARyvXh_xE4gp",
        "colab_type": "text"
      },
      "source": [
        "<h2 id=\"Saddle\">Saddle Points</h2>"
      ]
    },
    {
      "cell_type": "markdown",
      "metadata": {
        "id": "ayCo381dE4gp",
        "colab_type": "text"
      },
      "source": [
        "Let's create a cubic function with Saddle points "
      ]
    },
    {
      "cell_type": "code",
      "metadata": {
        "id": "Ahw5YwcKE4gq",
        "colab_type": "code",
        "colab": {}
      },
      "source": [
        "# Define a function to output a cubic \n",
        "\n",
        "def cubic(yhat):\n",
        "    out = yhat ** 3\n",
        "    return out"
      ],
      "execution_count": 0,
      "outputs": []
    },
    {
      "cell_type": "markdown",
      "metadata": {
        "id": "BYKQtFsRE4gt",
        "colab_type": "text"
      },
      "source": [
        "We create an optimizer with no momentum term "
      ]
    },
    {
      "cell_type": "code",
      "metadata": {
        "id": "9ihSi7gXE4gt",
        "colab_type": "code",
        "colab": {}
      },
      "source": [
        "# Create a optimizer without momentum\n",
        "\n",
        "optimizer = torch.optim.SGD(w.parameters(), lr=0.01, momentum=0)"
      ],
      "execution_count": 0,
      "outputs": []
    },
    {
      "cell_type": "markdown",
      "metadata": {
        "id": "tXx5xwTuE4gw",
        "colab_type": "text"
      },
      "source": [
        "We run several iterations of stochastic gradient descent and plot the results. We see the parameter values get stuck in the saddle point."
      ]
    },
    {
      "cell_type": "code",
      "metadata": {
        "id": "-_2922-rE4gw",
        "colab_type": "code",
        "colab": {
          "base_uri": "https://localhost:8080/",
          "height": 279
        },
        "outputId": "0dcbefa6-bc23-4a29-e550-f3f6ea3a938c"
      },
      "source": [
        "# Plot the model\n",
        "\n",
        "plot_cubic(w, optimizer)"
      ],
      "execution_count": 9,
      "outputs": [
        {
          "output_type": "display_data",
          "data": {
            "image/png": "[encoded data removed]",
            "text/plain": [
              "<Figure size 432x288 with 1 Axes>"
            ]
          },
          "metadata": {
            "tags": [],
            "needs_background": "light"
          }
        }
      ]
    },
    {
      "cell_type": "markdown",
      "metadata": {
        "id": "Ar5SEOOVE4g0",
        "colab_type": "text"
      },
      "source": [
        "we create an optimizer with momentum term of 0.9"
      ]
    },
    {
      "cell_type": "code",
      "metadata": {
        "id": "l371fmYWE4g0",
        "colab_type": "code",
        "colab": {}
      },
      "source": [
        "# Create a optimizer with momentum\n",
        "\n",
        "optimizer = torch.optim.SGD(w.parameters(), lr=0.01, momentum=0.90)"
      ],
      "execution_count": 0,
      "outputs": []
    },
    {
      "cell_type": "markdown",
      "metadata": {
        "id": "plOtNynOE4g3",
        "colab_type": "text"
      },
      "source": [
        "We run several iterations of stochastic gradient descent with momentum and plot the results. We see the parameter values do not get stuck in the saddle point."
      ]
    },
    {
      "cell_type": "code",
      "metadata": {
        "id": "z7qmV2MfE4g3",
        "colab_type": "code",
        "colab": {
          "base_uri": "https://localhost:8080/",
          "height": 279
        },
        "outputId": "4d61d940-28c9-414e-e005-47ca7bb7e23b"
      },
      "source": [
        "# Plot the model\n",
        "\n",
        "plot_cubic(w, optimizer)"
      ],
      "execution_count": 13,
      "outputs": [
        {
          "output_type": "display_data",
          "data": {
            "image/png": "[encoded data removed]",
            "text/plain": [
              "<Figure size 432x288 with 1 Axes>"
            ]
          },
          "metadata": {
            "tags": [],
            "needs_background": "light"
          }
        }
      ]
    },
    {
      "cell_type": "markdown",
      "metadata": {
        "id": "xJuSCBaLE4g6",
        "colab_type": "text"
      },
      "source": [
        "<!--Empty Space for separating topics-->"
      ]
    },
    {
      "cell_type": "markdown",
      "metadata": {
        "id": "VB48DQ2lE4g6",
        "colab_type": "text"
      },
      "source": [
        "<h2 id=\"Minima\">Local Minima</h2>"
      ]
    },
    {
      "cell_type": "markdown",
      "metadata": {
        "id": "MDduWVqdE4g6",
        "colab_type": "text"
      },
      "source": [
        "In this section, we will create a fourth order polynomial with a local minimum at <i>4</i> and a global minimum a <i>-2</i>. We will then see how the momentum parameter affects convergence to a global minimum. The fourth order polynomial is given by:"
      ]
    },
    {
      "cell_type": "code",
      "metadata": {
        "id": "U8PBcykLE4g7",
        "colab_type": "code",
        "colab": {}
      },
      "source": [
        "# Create a function to calculate the fourth order polynomial \n",
        "\n",
        "def fourth_order(yhat): \n",
        "    out = torch.mean(2 * (yhat ** 4) - 9 * (yhat ** 3) - 21 * (yhat ** 2) + 88 * yhat + 48)\n",
        "    return out"
      ],
      "execution_count": 0,
      "outputs": []
    },
    {
      "cell_type": "markdown",
      "metadata": {
        "id": "Btx8mf8BE4g9",
        "colab_type": "text"
      },
      "source": [
        "We create an optimizer with no momentum term. We run several iterations of stochastic gradient descent and plot the results. We see the parameter values get stuck in the local minimum."
      ]
    },
    {
      "cell_type": "code",
      "metadata": {
        "id": "fWPIo1RQE4g9",
        "colab_type": "code",
        "colab": {
          "base_uri": "https://localhost:8080/",
          "height": 279
        },
        "outputId": "b48d2c66-c09d-4783-c1a2-7fea1323c3be"
      },
      "source": [
        "# Make the prediction without momentum\n",
        "\n",
        "optimizer = torch.optim.SGD(w.parameters(), lr=0.001)\n",
        "plot_fourth_order(w, optimizer)"
      ],
      "execution_count": 15,
      "outputs": [
        {
          "output_type": "display_data",
          "data": {
            "image/png": "[encoded data removed]",
            "text/plain": [
              "<Figure size 432x288 with 1 Axes>"
            ]
          },
          "metadata": {
            "tags": [],
            "needs_background": "light"
          }
        }
      ]
    },
    {
      "cell_type": "markdown",
      "metadata": {
        "id": "sF3oeOG8E4hA",
        "colab_type": "text"
      },
      "source": [
        "We create an optimizer with a  momentum term of 0.9. We run several iterations of stochastic gradient descent and plot the results. We see the parameter values reach a global minimum."
      ]
    },
    {
      "cell_type": "code",
      "metadata": {
        "id": "uVcCj2IgE4hA",
        "colab_type": "code",
        "colab": {
          "base_uri": "https://localhost:8080/",
          "height": 279
        },
        "outputId": "5ecf2747-2ae6-45ac-aae7-baa4c300bffd"
      },
      "source": [
        "# Make the prediction with momentum\n",
        "\n",
        "optimizer = torch.optim.SGD(w.parameters(), lr=0.001, momentum=0.9)\n",
        "plot_fourth_order(w, optimizer)"
      ],
      "execution_count": 16,
      "outputs": [
        {
          "output_type": "display_data",
          "data": {
            "image/png": "[encoded data removed]",
            "text/plain": [
              "<Figure size 432x288 with 1 Axes>"
            ]
          },
          "metadata": {
            "tags": [],
            "needs_background": "light"
          }
        }
      ]
    },
    {
      "cell_type": "markdown",
      "metadata": {
        "id": "UHOV3q0mE4hD",
        "colab_type": "text"
      },
      "source": [
        "<!--Empty Space for separating topics-->"
      ]
    },
    {
      "cell_type": "markdown",
      "metadata": {
        "id": "aK6EPz9yE4hD",
        "colab_type": "text"
      },
      "source": [
        "<h2 id=\"Noise\">Noise</h2>"
      ]
    },
    {
      "cell_type": "markdown",
      "metadata": {
        "id": "43qww54dE4hE",
        "colab_type": "text"
      },
      "source": [
        "In this section, we will create a fourth order polynomial with a local minimum at 4 and a global minimum a -2, but we will add noise to the function when the Gradient is calculated. We will then see how the momentum parameter affects convergence to a global minimum. "
      ]
    },
    {
      "cell_type": "markdown",
      "metadata": {
        "id": "MvE41Bb5E4hE",
        "colab_type": "text"
      },
      "source": [
        "with no momentum, we get stuck in a local minimum "
      ]
    },
    {
      "cell_type": "code",
      "metadata": {
        "id": "j301DScrE4hG",
        "colab_type": "code",
        "colab": {
          "base_uri": "https://localhost:8080/",
          "height": 279
        },
        "outputId": "74d26a89-342d-4165-af37-c405a257249b"
      },
      "source": [
        "# Make the prediction without momentum when there is noise\n",
        "\n",
        "optimizer = torch.optim.SGD(w.parameters(), lr=0.001)\n",
        "plot_fourth_order(w, optimizer, std=10)"
      ],
      "execution_count": 17,
      "outputs": [
        {
          "output_type": "display_data",
          "data": {
            "image/png": "[encoded data removed]",
            "text/plain": [
              "<Figure size 432x288 with 1 Axes>"
            ]
          },
          "metadata": {
            "tags": [],
            "needs_background": "light"
          }
        }
      ]
    },
    {
      "cell_type": "markdown",
      "metadata": {
        "id": "B-YlG3egE4hJ",
        "colab_type": "text"
      },
      "source": [
        "with  momentum, we get to the global  minimum "
      ]
    },
    {
      "cell_type": "code",
      "metadata": {
        "id": "ozhGLV7CE4hK",
        "colab_type": "code",
        "colab": {
          "base_uri": "https://localhost:8080/",
          "height": 279
        },
        "outputId": "5b269828-0f2d-4a10-8150-1790a9e3eac7"
      },
      "source": [
        "# Make the prediction with momentum when there is noise\n",
        "\n",
        "optimizer = torch.optim.SGD(w.parameters(), lr=0.001,momentum=0.9)\n",
        "plot_fourth_order(w, optimizer, std=10)"
      ],
      "execution_count": 18,
      "outputs": [
        {
          "output_type": "display_data",
          "data": {
            "image/png": "[encoded data removed]",
            "text/plain": [
              "<Figure size 432x288 with 1 Axes>"
            ]
          },
          "metadata": {
            "tags": [],
            "needs_background": "light"
          }
        }
      ]
    },
    {
      "cell_type": "markdown",
      "metadata": {
        "id": "CEowFGO3E4hM",
        "colab_type": "text"
      },
      "source": [
        "<!--Empty Space for separating topics-->"
      ]
    },
    {
      "cell_type": "markdown",
      "metadata": {
        "id": "uIt-tXxdE4hM",
        "colab_type": "text"
      },
      "source": [
        "<h3>Practice</h3>"
      ]
    },
    {
      "cell_type": "markdown",
      "metadata": {
        "id": "n53wLt37E4hN",
        "colab_type": "text"
      },
      "source": [
        "Create two <code> SGD</code>  objects with a learning rate of <code> 0.001</code>. Use the default momentum parameter value  for one and a value of <code> 0.9</code> for the second. Use the function <code>plot_fourth_order</code> with an <code>std=100</code>, to plot the different steps of each. Make sure you run the function on two independent cells."
      ]
    },
    {
      "cell_type": "markdown",
      "metadata": {
        "id": "taHdgvarE4hP",
        "colab_type": "text"
      },
      "source": [
        "Double-click <b>here</b> for the solution.\n",
        "\n",
        "<!-- \n",
        "optimizer1 = torch.optim.SGD(w.parameters(), lr = 0.001)\n",
        "plot_fourth_order(w, optimizer1, std = 100, color = 'black', paramlabel = 'parameter values with optimizer 1')\n",
        "\n",
        "optimizer2 = torch.optim.SGD(w.parameters(), lr = 0.001, momentum = 0.9)\n",
        "plot_fourth_order(w, optimizer2, std = 100, color = 'red', paramlabel = 'parameter values with optimizer 2', objfun = False)\n",
        " -->"
      ]
    },
    {
      "cell_type": "code",
      "metadata": {
        "id": "d66-q8f3E4hN",
        "colab_type": "code",
        "colab": {
          "base_uri": "https://localhost:8080/",
          "height": 279
        },
        "outputId": "1f20d052-b1e7-42a2-811a-d852c0674663"
      },
      "source": [
        "# Practice: Create two SGD optimizer with lr = 0.001, and one without momentum and the other with momentum = 0.9. Plot the result out.\n",
        "\n",
        "# Type your code here\n",
        "\n",
        "optimizer = torch.optim.SGD(w.parameters(),lr=0.001,momentum=1)\n",
        "plot_fourth_order(w,optimizer,std=100)"
      ],
      "execution_count": 19,
      "outputs": [
        {
          "output_type": "display_data",
          "data": {
            "image/png": "[encoded data removed]",
            "text/plain": [
              "<Figure size 432x288 with 1 Axes>"
            ]
          },
          "metadata": {
            "tags": [],
            "needs_background": "light"
          }
        }
      ]
    },
    {
      "cell_type": "code",
      "metadata": {
        "id": "q_tkTLBJNV1e",
        "colab_type": "code",
        "colab": {
          "base_uri": "https://localhost:8080/",
          "height": 279
        },
        "outputId": "7e90707d-85b5-4f00-9a16-d3ea4bb4eaeb"
      },
      "source": [
        "optimizer = torch.optim.SGD(w.parameters(),lr=0.001,momentum=0.9)\n",
        "plot_fourth_order(w,optimizer,100)"
      ],
      "execution_count": 20,
      "outputs": [
        {
          "output_type": "display_data",
          "data": {
            "image/png": "[encoded data removed]",
            "text/plain": [
              "<Figure size 432x288 with 1 Axes>"
            ]
          },
          "metadata": {
            "tags": [],
            "needs_background": "light"
          }
        }
      ]
    },
    {
      "cell_type": "markdown",
      "metadata": {
        "id": "yEaF9CjHE4hP",
        "colab_type": "text"
      },
      "source": [
        "<a href=\"http://cocl.us/pytorch_link_bottom\">\n",
        "    <img src=\"https://s3-api.us-geo.objectstorage.softlayer.net/cf-courses-data/CognitiveClass/DL0110EN/notebook_images%20/notebook_bottom%20.png\" width=\"750\" alt=\"PyTorch Bottom\" />\n",
        "</a>"
      ]
    },
    {
      "cell_type": "markdown",
      "metadata": {
        "id": "kvTMhqbhE4hQ",
        "colab_type": "text"
      },
      "source": [
        "<h2>About the Authors:</h2> \n",
        "\n",
        "<a href=\"https://www.linkedin.com/in/joseph-s-50398b136/\">Joseph Santarcangelo</a> has a PhD in Electrical Engineering, his research focused on using machine learning, signal processing, and computer vision to determine how videos impact human cognition. Joseph has been working for IBM since he completed his PhD."
      ]
    },
    {
      "cell_type": "markdown",
      "metadata": {
        "id": "3xi7L6BlE4hQ",
        "colab_type": "text"
      },
      "source": [
        "Other contributors: <a href=\"https://www.linkedin.com/in/michelleccarey/\">Michelle Carey</a>, <a href=\"www.linkedin.com/in/jiahui-mavis-zhou-a4537814a\">Mavis Zhou</a> "
      ]
    },
    {
      "cell_type": "markdown",
      "metadata": {
        "id": "V9UrqBdhE4hR",
        "colab_type": "text"
      },
      "source": [
        "<hr>"
      ]
    },
    {
      "cell_type": "markdown",
      "metadata": {
        "id": "rLEVmF4xE4hR",
        "colab_type": "text"
      },
      "source": [
        "Copyright &copy; 2018 <a href=\"cognitiveclass.ai?utm_source=bducopyrightlink&utm_medium=dswb&utm_campaign=bdu\">cognitiveclass.ai</a>. This notebook and its source code are released under the terms of the <a href=\"https://bigdatauniversity.com/mit-license/\">MIT License</a>."
      ]
    }
  ]
}