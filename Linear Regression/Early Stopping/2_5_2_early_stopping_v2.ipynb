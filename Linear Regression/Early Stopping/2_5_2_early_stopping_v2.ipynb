{
  "nbformat": 4,
  "nbformat_minor": 0,
  "metadata": {
    "kernelspec": {
      "display_name": "Python 3",
      "language": "python",
      "name": "python3"
    },
    "language_info": {
      "codemirror_mode": {
        "name": "ipython",
        "version": 3
      },
      "file_extension": ".py",
      "mimetype": "text/x-python",
      "name": "python",
      "nbconvert_exporter": "python",
      "pygments_lexer": "ipython3",
      "version": "3.6.5"
    },
    "colab": {
      "name": "2.5.2_early_stopping_v2.ipynb",
      "provenance": []
    }
  },
  "cells": [
    {
      "cell_type": "markdown",
      "metadata": {
        "id": "SAUg40EAOE4-",
        "colab_type": "text"
      },
      "source": [
        "<a href=\"http://cocl.us/pytorch_link_top\">\n",
        "    <img src=\"https://s3-api.us-geo.objectstorage.softlayer.net/cf-courses-data/CognitiveClass/DL0110EN/notebook_images%20/Pytochtop.png\" width=\"750\" alt=\"IBM Product \" />\n",
        "</a> "
      ]
    },
    {
      "cell_type": "markdown",
      "metadata": {
        "id": "rECPDp0IOE5B",
        "colab_type": "text"
      },
      "source": [
        "<img src=\"https://s3-api.us-geo.objectstorage.softlayer.net/cf-courses-data/CognitiveClass/DL0110EN/notebook_images%20/cc-logo-square.png\" width=\"200\" alt=\"cognitiveclass.ai logo\" />"
      ]
    },
    {
      "cell_type": "markdown",
      "metadata": {
        "id": "UywGaAG3OE5D",
        "colab_type": "text"
      },
      "source": [
        "<h1>Linear regression: Training and Validation Data</h1>"
      ]
    },
    {
      "cell_type": "markdown",
      "metadata": {
        "id": "Ms6xBN0ROE5E",
        "colab_type": "text"
      },
      "source": [
        "<h2>Table of Contents</h2>\n",
        "<p>In this lab, you will perform early stopping and save the model that minimizes the total loss on the validation data for every iteration. <br><i>( <b>Note:</b> Early Stopping is a general term. We will focus on the variant where we use the validation data. You can also use a pre-determined number iterations</i>. )</p>\n",
        "\n",
        "<ul>\n",
        "    <li><a href=\"#Makeup_Data\">Make Some Data</a></li>\n",
        "    <li><a href=\"#LR_Loader_Cost\">Create a Linear Regression Object, Data Loader and Criterion Function</a></li>\n",
        "    <li><a href=\"#Stop\">Early Stopping and Saving the Mode</a></li>\n",
        "    <li><a href=\"#Result\">View Results</a></li>\n",
        "</ul>\n",
        "\n",
        "<p>Estimated Time Needed: <strong>15 min</strong></p>\n",
        "\n",
        "<hr>"
      ]
    },
    {
      "cell_type": "markdown",
      "metadata": {
        "id": "w4fq7r8yOE5F",
        "colab_type": "text"
      },
      "source": [
        "<h2>Preparation</h2>"
      ]
    },
    {
      "cell_type": "markdown",
      "metadata": {
        "id": "SWNScNuvOE5G",
        "colab_type": "text"
      },
      "source": [
        "We'll need the following libraries, and set the random seed."
      ]
    },
    {
      "cell_type": "code",
      "metadata": {
        "id": "zkPwquOLOE5H",
        "colab_type": "code",
        "colab": {
          "base_uri": "https://localhost:8080/",
          "height": 34
        },
        "outputId": "8d631fc6-710e-4d25-d080-7b29ebf2b29b"
      },
      "source": [
        "# Import the libraries and set random seed\n",
        "\n",
        "from torch import nn\n",
        "import torch\n",
        "import numpy as np\n",
        "import matplotlib.pyplot as plt\n",
        "from torch import nn,optim\n",
        "from torch.utils.data import Dataset, DataLoader\n",
        "\n",
        "torch.manual_seed(1)"
      ],
      "execution_count": 1,
      "outputs": [
        {
          "output_type": "execute_result",
          "data": {
            "text/plain": [
              "<torch._C.Generator at 0x7f5227d356b0>"
            ]
          },
          "metadata": {
            "tags": []
          },
          "execution_count": 1
        }
      ]
    },
    {
      "cell_type": "markdown",
      "metadata": {
        "id": "dH0GKPHhOE5N",
        "colab_type": "text"
      },
      "source": [
        "<!--Empty Space for separating topics-->"
      ]
    },
    {
      "cell_type": "markdown",
      "metadata": {
        "id": "_R4ujk9lOE5O",
        "colab_type": "text"
      },
      "source": [
        "<h2 id=\"#Makeup_Data\">Make Some Data</h2>"
      ]
    },
    {
      "cell_type": "markdown",
      "metadata": {
        "id": "yOHMp8gKOE5P",
        "colab_type": "text"
      },
      "source": [
        "First let's create some artificial data, in a dataset class.  The class will include the option to produce training data or validation data. The training data includes outliers."
      ]
    },
    {
      "cell_type": "code",
      "metadata": {
        "id": "hKxirmjDOE5Q",
        "colab_type": "code",
        "colab": {}
      },
      "source": [
        "# Create Data Class\n",
        "\n",
        "class Data(Dataset):\n",
        "    \n",
        "    # Constructor\n",
        "    def __init__(self, train = True):\n",
        "        if train == True:\n",
        "            self.x = torch.arange(-3, 3, 0.1).view(-1, 1)\n",
        "            self.f = -3 * self.x + 1\n",
        "            self.y = self.f + 0.1 * torch.randn(self.x.size())\n",
        "            self.len = self.x.shape[0]\n",
        "            if train == True:\n",
        "                self.y[50:] = 20\n",
        "        else:\n",
        "            self.x = torch.arange(-3, 3, 0.1).view(-1, 1)\n",
        "            self.y = -3 * self.x + 1\n",
        "            self.len = self.x.shape[0]\n",
        "            \n",
        "    # Getter\n",
        "    def __getitem__(self, index):    \n",
        "        return self.x[index], self.y[index]\n",
        "    \n",
        "    # Get Length\n",
        "    def __len__(self):\n",
        "        return self.len"
      ],
      "execution_count": 0,
      "outputs": []
    },
    {
      "cell_type": "markdown",
      "metadata": {
        "id": "MKEn-KTKOE5U",
        "colab_type": "text"
      },
      "source": [
        "We create two objects, one that contains training data and a second that contains validation data, we will assume the training data has the outliers."
      ]
    },
    {
      "cell_type": "code",
      "metadata": {
        "id": "KnLIHJlJOE5U",
        "colab_type": "code",
        "colab": {}
      },
      "source": [
        "#Create train_data object and val_data object\n",
        "\n",
        "train_data = Data()\n",
        "val_data = Data(train = False)"
      ],
      "execution_count": 0,
      "outputs": []
    },
    {
      "cell_type": "markdown",
      "metadata": {
        "id": "RbCh0rz0OE5Y",
        "colab_type": "text"
      },
      "source": [
        "We overlay the training points in red over the function that generated the data. Notice the outliers are at x=-3 and around x=2"
      ]
    },
    {
      "cell_type": "code",
      "metadata": {
        "id": "bj9-oeC-OE5Z",
        "colab_type": "code",
        "colab": {
          "base_uri": "https://localhost:8080/",
          "height": 265
        },
        "outputId": "cf6e6d06-0668-4e74-d5c2-899611d36171"
      },
      "source": [
        "# Plot the training data points\n",
        "\n",
        "plt.plot(train_data.x.numpy(), train_data.y.numpy(), 'xr')\n",
        "plt.plot(train_data.x.numpy(), train_data.f.numpy())\n",
        "plt.show()"
      ],
      "execution_count": 4,
      "outputs": [
        {
          "output_type": "display_data",
          "data": {
            "image/png": "[encoded data removed]",
            "text/plain": [
              "<Figure size 432x288 with 1 Axes>"
            ]
          },
          "metadata": {
            "tags": []
          }
        }
      ]
    },
    {
      "cell_type": "markdown",
      "metadata": {
        "id": "WyBAk1YzOE5d",
        "colab_type": "text"
      },
      "source": [
        "<!--Empty Space for separating topics-->"
      ]
    },
    {
      "cell_type": "markdown",
      "metadata": {
        "id": "PckYDloMOE5e",
        "colab_type": "text"
      },
      "source": [
        "<h2 id=\"LR_Loader_Cost\">Create a Linear Regression Class, Object, Data Loader, Criterion Function</h2>"
      ]
    },
    {
      "cell_type": "markdown",
      "metadata": {
        "id": "8zuwc8N7OE5f",
        "colab_type": "text"
      },
      "source": [
        "Create linear regression model class."
      ]
    },
    {
      "cell_type": "code",
      "metadata": {
        "id": "YmyV3gD4OE5g",
        "colab_type": "code",
        "colab": {}
      },
      "source": [
        "# Create linear regression model class\n",
        "\n",
        "from torch import nn\n",
        "\n",
        "class linear_regression(nn.Module):\n",
        "    \n",
        "    # Constructor\n",
        "    def __init__(self, input_size, output_size):\n",
        "        super(linear_regression, self).__init__()\n",
        "        self.linear = nn.Linear(input_size, output_size)\n",
        "    \n",
        "    # Predition\n",
        "    def forward(self, x):\n",
        "        yhat = self.linear(x)\n",
        "        return yhat"
      ],
      "execution_count": 0,
      "outputs": []
    },
    {
      "cell_type": "markdown",
      "metadata": {
        "id": "z3jLt1_VOE5j",
        "colab_type": "text"
      },
      "source": [
        "Create the model object "
      ]
    },
    {
      "cell_type": "code",
      "metadata": {
        "id": "BIeYcT8VOE5l",
        "colab_type": "code",
        "colab": {}
      },
      "source": [
        "# Create the model object\n",
        "\n",
        "model = linear_regression(1, 1)"
      ],
      "execution_count": 0,
      "outputs": []
    },
    {
      "cell_type": "markdown",
      "metadata": {
        "id": "hk5mCZ9nOE5o",
        "colab_type": "text"
      },
      "source": [
        "We create the optimizer, the criterion function and a Data Loader object."
      ]
    },
    {
      "cell_type": "code",
      "metadata": {
        "id": "DA2xyVVJOE5o",
        "colab_type": "code",
        "colab": {}
      },
      "source": [
        "# Create optimizer, cost function and data loader object\n",
        "\n",
        "optimizer = optim.SGD(model.parameters(), lr = 0.1)\n",
        "criterion = nn.MSELoss()\n",
        "trainloader = DataLoader(dataset = train_data, batch_size = 1)"
      ],
      "execution_count": 0,
      "outputs": []
    },
    {
      "cell_type": "markdown",
      "metadata": {
        "id": "DhFz0ZwVOE5s",
        "colab_type": "text"
      },
      "source": [
        "<!--Empty Space for separating topics-->"
      ]
    },
    {
      "cell_type": "markdown",
      "metadata": {
        "id": "0_LI9sF8OE5t",
        "colab_type": "text"
      },
      "source": [
        "<h2 id=\"Stop\">Early Stopping and Saving the Mode</h2>"
      ]
    },
    {
      "cell_type": "markdown",
      "metadata": {
        "id": "0qDynmkgOE5u",
        "colab_type": "text"
      },
      "source": [
        "Run several epochs of gradient descent and save the model that performs best on the validation data."
      ]
    },
    {
      "cell_type": "code",
      "metadata": {
        "id": "l25FoV1eOE5v",
        "colab_type": "code",
        "colab": {}
      },
      "source": [
        "# Train the model\n",
        "\n",
        "LOSS_TRAIN = []\n",
        "LOSS_VAL = []\n",
        "n=1;\n",
        "min_loss = 1000\n",
        "\n",
        "def train_model_early_stopping(epochs, min_loss):\n",
        "    for epoch in range(epochs):\n",
        "        for x, y in trainloader:\n",
        "            yhat = model(x)\n",
        "            loss = criterion(yhat, y)\n",
        "            optimizer.zero_grad()\n",
        "            loss.backward()\n",
        "            optimizer.step()\n",
        "            loss_train = criterion(model(train_data.x), train_data.y).data\n",
        "            loss_val = criterion(model(val_data.x), val_data.y).data\n",
        "            LOSS_TRAIN.append(loss_train)\n",
        "            LOSS_VAL.append(loss_val)\n",
        "            if loss_val < min_loss:\n",
        "                value = epoch\n",
        "                min_loss = loss_val\n",
        "                torch.save(model.state_dict(), 'best_model.pt')\n",
        "\n",
        "train_model_early_stopping(20, min_loss)"
      ],
      "execution_count": 0,
      "outputs": []
    },
    {
      "cell_type": "markdown",
      "metadata": {
        "id": "floJ6lJ2OE5y",
        "colab_type": "text"
      },
      "source": [
        "<!--Empty Space for separating topics-->"
      ]
    },
    {
      "cell_type": "markdown",
      "metadata": {
        "id": "nCDaqP54OE5z",
        "colab_type": "text"
      },
      "source": [
        "<h2 id=\"Result\">View Results</h2>"
      ]
    },
    {
      "cell_type": "markdown",
      "metadata": {
        "id": "WdqIUhTGOE50",
        "colab_type": "text"
      },
      "source": [
        "View the  loss for every iteration on the training set and validation set."
      ]
    },
    {
      "cell_type": "code",
      "metadata": {
        "id": "4BT5KXc_OE51",
        "colab_type": "code",
        "colab": {
          "base_uri": "https://localhost:8080/",
          "height": 279
        },
        "outputId": "f5d7df39-4dc4-4a10-c613-553a652f87c1"
      },
      "source": [
        "# Plot the loss\n",
        "\n",
        "plt.plot(LOSS_TRAIN, label = 'training loss')\n",
        "plt.plot(LOSS_VAL, label = 'validation loss')\n",
        "plt.xlabel(\"epochs\")\n",
        "plt.ylabel(\"Loss\")\n",
        "plt.legend(loc = 'upper right')\n",
        "plt.show()"
      ],
      "execution_count": 9,
      "outputs": [
        {
          "output_type": "display_data",
          "data": {
            "image/png": "[encoded data removed]",
            "text/plain": [
              "<Figure size 432x288 with 1 Axes>"
            ]
          },
          "metadata": {
            "tags": []
          }
        }
      ]
    },
    {
      "cell_type": "markdown",
      "metadata": {
        "id": "uk-KUgrAOE54",
        "colab_type": "text"
      },
      "source": [
        "We will create a new linear regression object; we will use the parameters saved in the early stopping. The model must be the same input dimension and output dimension as the original model."
      ]
    },
    {
      "cell_type": "code",
      "metadata": {
        "id": "yeSCIcKEOE55",
        "colab_type": "code",
        "colab": {}
      },
      "source": [
        "# Create a new linear regression model object\n",
        "\n",
        "model_best = linear_regression(1, 1)"
      ],
      "execution_count": 0,
      "outputs": []
    },
    {
      "cell_type": "markdown",
      "metadata": {
        "id": "TTFZZp5ZOE58",
        "colab_type": "text"
      },
      "source": [
        "Load the model parameters <code>torch.load()</code>, then assign them to the object <code>model_best</code> using the method <code>load_state_dict</code>. "
      ]
    },
    {
      "cell_type": "code",
      "metadata": {
        "id": "aNyoQ3WPOE58",
        "colab_type": "code",
        "colab": {
          "base_uri": "https://localhost:8080/",
          "height": 34
        },
        "outputId": "62682a41-1299-4cdd-e747-4cdecd14355f"
      },
      "source": [
        "# Assign the best model to model_best\n",
        "\n",
        "model_best.load_state_dict(torch.load('best_model.pt'))\n"
      ],
      "execution_count": 11,
      "outputs": [
        {
          "output_type": "execute_result",
          "data": {
            "text/plain": [
              "<All keys matched successfully>"
            ]
          },
          "metadata": {
            "tags": []
          },
          "execution_count": 11
        }
      ]
    },
    {
      "cell_type": "markdown",
      "metadata": {
        "id": "4lSxkBD7OE5_",
        "colab_type": "text"
      },
      "source": [
        "Let's compare the prediction  from the model obtained using early stopping and the model derived from  using the maximum number of iterations."
      ]
    },
    {
      "cell_type": "code",
      "metadata": {
        "id": "b69OLDbUOE6A",
        "colab_type": "code",
        "colab": {
          "base_uri": "https://localhost:8080/",
          "height": 265
        },
        "outputId": "92862155-77bb-4a2f-8e1e-440e8c625417"
      },
      "source": [
        "plt.plot(model_best(val_data.x).data.numpy(), label = 'best model')\n",
        "plt.plot(model(val_data.x).data.numpy(), label = 'maximum iterations')\n",
        "plt.plot(val_data.y.numpy(), 'rx', label = 'true line')\n",
        "plt.legend()\n",
        "plt.show()"
      ],
      "execution_count": 12,
      "outputs": [
        {
          "output_type": "display_data",
          "data": {
            "image/png": "[encoded data removed]",
            "text/plain": [
              "<Figure size 432x288 with 1 Axes>"
            ]
          },
          "metadata": {
            "tags": []
          }
        }
      ]
    },
    {
      "cell_type": "markdown",
      "metadata": {
        "id": "MnJBrHI0OE6D",
        "colab_type": "text"
      },
      "source": [
        "We can see the model obtained via  early stopping fits the data points much better. For more variations of early stopping see:"
      ]
    },
    {
      "cell_type": "markdown",
      "metadata": {
        "id": "RanEy2XvOE6E",
        "colab_type": "text"
      },
      "source": [
        "\n",
        "Prechelt, Lutz.<i> \"Early stopping-but when?.\" Neural Networks: Tricks of the trade. Springer, Berlin, Heidelberg, 1998. 55-69</i>."
      ]
    },
    {
      "cell_type": "markdown",
      "metadata": {
        "id": "deWJ7fZyOE6F",
        "colab_type": "text"
      },
      "source": [
        "<!--Empty Space for separating topics-->"
      ]
    },
    {
      "cell_type": "markdown",
      "metadata": {
        "id": "rSg0UmhxOE6G",
        "colab_type": "text"
      },
      "source": [
        "<a href=\"http://cocl.us/pytorch_link_bottom\">\n",
        "    <img src=\"https://s3-api.us-geo.objectstorage.softlayer.net/cf-courses-data/CognitiveClass/DL0110EN/notebook_images%20/notebook_bottom%20.png\" width=\"750\" alt=\"PyTorch Bottom\" />\n",
        "</a>"
      ]
    },
    {
      "cell_type": "markdown",
      "metadata": {
        "id": "oea6LaIZOE6H",
        "colab_type": "text"
      },
      "source": [
        "<h2>About the Authors:</h2> \n",
        "\n",
        "<a href=\"https://www.linkedin.com/in/joseph-s-50398b136/\">Joseph Santarcangelo</a> has a PhD in Electrical Engineering, his research focused on using machine learning, signal processing, and computer vision to determine how videos impact human cognition. Joseph has been working for IBM since he completed his PhD."
      ]
    },
    {
      "cell_type": "markdown",
      "metadata": {
        "id": "IwIq3Jv1OE6H",
        "colab_type": "text"
      },
      "source": [
        "Other contributors: <a href=\"https://www.linkedin.com/in/michelleccarey/\">Michelle Carey</a>, <a href=\"www.linkedin.com/in/jiahui-mavis-zhou-a4537814a\">Mavis Zhou</a>"
      ]
    },
    {
      "cell_type": "markdown",
      "metadata": {
        "id": "gDhlxHO6OE6I",
        "colab_type": "text"
      },
      "source": [
        "<hr>"
      ]
    },
    {
      "cell_type": "markdown",
      "metadata": {
        "id": "lNEi4cNAOE6J",
        "colab_type": "text"
      },
      "source": [
        "Copyright &copy; 2018 <a href=\"cognitiveclass.ai?utm_source=bducopyrightlink&utm_medium=dswb&utm_campaign=bdu\">cognitiveclass.ai</a>. This notebook and its source code are released under the terms of the <a href=\"https://bigdatauniversity.com/mit-license/\">MIT License</a>."
      ]
    }
  ]
}