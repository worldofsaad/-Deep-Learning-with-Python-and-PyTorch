{
  "nbformat": 4,
  "nbformat_minor": 0,
  "metadata": {
    "colab": {
      "name": "code__multipleInputsOutputs.ipynb",
      "provenance": [],
      "collapsed_sections": []
    },
    "kernelspec": {
      "name": "python3",
      "display_name": "Python 3"
    }
  },
  "cells": [
    {
      "cell_type": "code",
      "metadata": {
        "id": "EbsAgGBVJNZC",
        "colab_type": "code",
        "outputId": "1fa46b76-f0e2-4497-fca4-359a86f66a28",
        "colab": {
          "base_uri": "https://localhost:8080/",
          "height": 296
        }
      },
      "source": [
        "import torch\n",
        "from torch import nn,optim\n",
        "from torch.utils.data import DataLoader, Dataset\n",
        "\n",
        "import numpy as np\n",
        "import matplotlib.pyplot as plt\n",
        "\n",
        "torch.manual_seed(1)\n",
        "class Data2D(Dataset):\n",
        "  def __init__(self):\n",
        "    self.x = torch.zeros(20,2)\n",
        "    self.x[:,0]=torch.arange(-1.0,1.0,0.1)\n",
        "    self.x[:,1]=torch.arange(-1.0,1.0,0.1)\n",
        "    self.w=torch.tensor([ [1.0,-1.0],[1.0,3.0] ])\n",
        "    self.b = torch.tensor([[-1.0,1.0]])\n",
        "    self.f = torch.mm(self.x, self.w) + self.b\n",
        "    self.y = self.f +0.1 * torch.randn(self.x.shape[0],1)\n",
        "    self.len = self.x.shape[0]\n",
        "  \n",
        "  def __getitem__(self,index):\n",
        "    return self.x[index], self.y[index]\n",
        "\n",
        "  def __len__(self):\n",
        "    return self.len\n",
        "\n",
        "\n",
        "data_set = Data2D()\n",
        "\n",
        "\n",
        "class LR(nn.Module):\n",
        "  def __init__(self, input, output):\n",
        "    super(LR,self).__init__()\n",
        "    self.linear=nn.Linear(input,output)\n",
        "    \n",
        "  def forward(self,x):\n",
        "    yhat = self.linear(x)\n",
        "    return yhat\n",
        "\n",
        "model = LR(2,2)\n",
        "\n",
        "optimiser = optim.SGD(model.parameters(), lr = 0.1)\n",
        "criterion = nn.MSELoss()\n",
        "trainloader = DataLoader(dataset=data_set, batch_size=5)\n",
        "\n",
        "LOSS=[]\n",
        "def regr(iter):\n",
        "  for epoch in range(iter):\n",
        "    for x,y in trainloader:\n",
        "      #print(x)\n",
        "      yhat = model(x)\n",
        "      loss = criterion(yhat,y)\n",
        "      LOSS.append(loss.item())\n",
        "      optimiser.zero_grad()\n",
        "      loss.backward()\n",
        "      optimiser.step()\n",
        "\n",
        "regr(100)\n",
        "\n",
        "\n",
        "plt.plot(LOSS)\n",
        "plt.xlabel(\"iterations \")\n",
        "plt.ylabel(\"Cost/total loss \")\n",
        "plt.show()\n",
        "\n",
        "x = torch.tensor([[-1.0,1.0]])\n",
        "print(model(x))"
      ],
      "execution_count": 0,
      "outputs": [
        {
          "output_type": "display_data",
          "data": {
            "image/png": "[encoded data removed]",
            "text/plain": [
              "<Figure size 432x288 with 1 Axes>"
            ]
          },
          "metadata": {
            "tags": []
          }
        },
        {
          "output_type": "stream",
          "text": [
            "tensor([[-1.7358,  0.3716]], grad_fn=<AddmmBackward>)\n"
          ],
          "name": "stdout"
        }
      ]
    },
    {
      "cell_type": "code",
      "metadata": {
        "id": "9N61AtY9Qog7",
        "colab_type": "code",
        "colab": {}
      },
      "source": [
        ""
      ],
      "execution_count": 0,
      "outputs": []
    }
  ]
}