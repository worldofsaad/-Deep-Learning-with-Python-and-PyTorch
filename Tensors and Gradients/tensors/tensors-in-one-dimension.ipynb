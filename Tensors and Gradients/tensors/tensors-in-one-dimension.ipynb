{
  "nbformat": 4,
  "nbformat_minor": 0,
  "metadata": {
    "colab": {
      "name": "Tensors in One Dimension.ipynb",
      "provenance": [],
      "collapsed_sections": [],
      "authorship_tag": "ABX9TyPuzxg6YKXvPvssrAajttY4",
      "include_colab_link": true
    },
    "kernelspec": {
      "name": "python3",
      "display_name": "Python 3"
    }
  },
  "cells": [
    {
      "cell_type": "markdown",
      "metadata": {
        "id": "view-in-github",
        "colab_type": "text"
      },
      "source": [
        "<a href=\"https://colab.research.google.com/gist/worldofsaad/0c8dc469489759d7eab698388a8552a3/tensors-in-one-dimension.ipynb\" target=\"_parent\"><img src=\"https://colab.research.google.com/assets/colab-badge.svg\" alt=\"Open In Colab\"/></a>"
      ]
    },
    {
      "cell_type": "code",
      "metadata": {
        "id": "0JymlpFjNdRb",
        "colab_type": "code",
        "outputId": "543b2447-e11a-4eb1-9fbe-59b16d8277c9",
        "colab": {
          "base_uri": "https://localhost:8080/",
          "height": 979
        }
      },
      "source": [
        "import torch\n",
        "import numpy as np\n",
        "import pandas as pd\n",
        "\n",
        "# converting list to tensor\n",
        "a = torch.tensor([1,2,3,4,5]) \n",
        "\n",
        "#printing item\n",
        "a[0].item()\n",
        "\n",
        "#data type\n",
        "a.dtype\n",
        "\n",
        "#tensor type\n",
        "a.type()\n",
        "\n",
        "#change the type of tensor\n",
        "b = torch.tensor([1,2,3,4])\n",
        "print(\"old type = \",b.type())\n",
        "b = b.type(torch.FloatTensor)\n",
        "print(\"new type = \",b.type())\n",
        "\n",
        "#SIZE and Dimensions\n",
        "a.size()\n",
        "a.ndimension()\n",
        "\n",
        "#add dimension\n",
        "#cols=a.view(5,1) \n",
        "cols=a.view(-1,1)\n",
        "print(cols)\n",
        "\n",
        "#convert numpy to tensor\n",
        "numpy_ar=np.array([0.1,0.2,0.3,0.4,0.5])\n",
        "n_tensor = torch.from_numpy(numpy_ar)\n",
        "print(n_tensor)\n",
        "\n",
        "#convert tensor to numpy\n",
        "back_to_n = n_tensor.numpy()\n",
        "print(back_to_n)\n",
        "\n",
        "#convert pandas to tensor\n",
        "p_series = pd.Series([0.1,0.2,0.3,0.4,0.5])\n",
        "pd_tensor = torch.from_numpy(p_series.values)\n",
        "\n",
        "#convert to list from tensor\n",
        "tensor_to_list = pd_tensor.tolist()\n",
        "\n",
        "\n",
        "#INDEXING AND SLICING \n",
        "print(\"\\n\\n\\nINDEXING AND SLICING\\n\")\n",
        "\n",
        "\n",
        "#Changing the items\n",
        "print(\"OLD = \",a)\n",
        "a[0]=100\n",
        "print(\"NEW = \",a)\n",
        "\n",
        "#slicing\n",
        "d = a[1:4]\n",
        "print(d)\n",
        "\n",
        "#change in series\n",
        "a[2:5] = torch.tensor([101,102,103])\n",
        "print(\"change in series:\",a)\n",
        "\n",
        "\n",
        "\n",
        "\n",
        "#OPERATIONS\n",
        "print(\"\\n\\n\\nOperations\\n\")\n",
        "\n",
        "#addition or subtraction\n",
        "u = torch.tensor([3,4,1,7])\n",
        "v = torch.tensor([6,1,7,8])\n",
        "r = u+v\n",
        "print(\"addition\",r)\n",
        "r = u-v\n",
        "print(\"subtraction\",r)\n",
        "\n",
        "#Scaler multiplication\n",
        "r = r *10\n",
        "print(\"multiplication\",r)\n",
        "\n",
        "#two tensors multiply\n",
        "r = u*v\n",
        "print(\"two tensors multiply\",r)\n",
        "\n",
        "#DOT PRODUCT\n",
        "r_dot = torch.dot(u,v)\n",
        "print(\"Dot product\",r_dot)\n",
        "\n",
        "#adding constant to tensor\n",
        "r = r + 1\n",
        "print(\"adding constant to\",r)\n",
        "\n",
        "\n",
        "\n",
        "\n",
        "#FUNCTIONS\n",
        "print(\"\\n\\n\\nFunctions\\n\")\n",
        "\n",
        "#MEAN\n",
        "r = r.type(torch.FloatTensor)\n",
        "print(r)\n",
        "print(\"Mean\",r.mean())\n",
        "\n",
        "#MAX\n",
        "print(\"MAX\",r.max())\n",
        "\n",
        "#SIN\n",
        "r = torch.tensor([0,np.pi/2,np.pi])\n",
        "print(r)\n",
        "print(\"sin\",torch.sin(r))\n",
        "\n",
        "#LIN SPACE\n",
        "r = torch.linspace(-0.2,0.2,steps=10)\n",
        "print(\"linspace\",r)\n",
        "\n",
        "#plotting\n",
        "data = torch.linspace(0,2*np.pi,100)\n",
        "sin = torch.sin(data)\n",
        "import matplotlib.pyplot as plt\n",
        "%matplotlib inline\n",
        "plt.plot(data.numpy(),sin.numpy())"
      ],
      "execution_count": 67,
      "outputs": [
        {
          "output_type": "stream",
          "text": [
            "old type =  torch.LongTensor\n",
            "new type =  torch.FloatTensor\n",
            "tensor([[1],\n",
            "        [2],\n",
            "        [3],\n",
            "        [4],\n",
            "        [5]])\n",
            "tensor([0.1000, 0.2000, 0.3000, 0.4000, 0.5000], dtype=torch.float64)\n",
            "[0.1 0.2 0.3 0.4 0.5]\n",
            "\n",
            "\n",
            "\n",
            "INDEXING AND SLICING\n",
            "\n",
            "OLD =  tensor([1, 2, 3, 4, 5])\n",
            "NEW =  tensor([100,   2,   3,   4,   5])\n",
            "tensor([2, 3, 4])\n",
            "change in series: tensor([100,   2, 101, 102, 103])\n",
            "\n",
            "\n",
            "\n",
            "Operations\n",
            "\n",
            "addition tensor([ 9,  5,  8, 15])\n",
            "subtraction tensor([-3,  3, -6, -1])\n",
            "multiplication tensor([-30,  30, -60, -10])\n",
            "two tensors multiply tensor([18,  4,  7, 56])\n",
            "Dot product tensor(85)\n",
            "adding constant to tensor([19,  5,  8, 57])\n",
            "\n",
            "\n",
            "\n",
            "Functions\n",
            "\n",
            "tensor([19.,  5.,  8., 57.])\n",
            "Mean tensor(22.2500)\n",
            "MAX tensor(57.)\n",
            "tensor([0.0000, 1.5708, 3.1416])\n",
            "sin tensor([ 0.0000e+00,  1.0000e+00, -8.7423e-08])\n",
            "linspace tensor([-0.2000, -0.1556, -0.1111, -0.0667, -0.0222,  0.0222,  0.0667,  0.1111,\n",
            "         0.1556,  0.2000])\n"
          ],
          "name": "stdout"
        },
        {
          "output_type": "execute_result",
          "data": {
            "text/plain": [
              "[<matplotlib.lines.Line2D at 0x7f75c125b1d0>]"
            ]
          },
          "metadata": {
            "tags": []
          },
          "execution_count": 67
        },
        {
          "output_type": "display_data",
          "data": {
            "image/png": "[encoded data removed]",
            "text/plain": [
              "<Figure size 432x288 with 1 Axes>"
            ]
          },
          "metadata": {
            "tags": []
          }
        }
      ]
    },
    {
      "cell_type": "code",
      "metadata": {
        "id": "Byui5bkaZWe0",
        "colab_type": "code",
        "colab": {}
      },
      "source": [
        ""
      ],
      "execution_count": 0,
      "outputs": []
    }
  ]
}