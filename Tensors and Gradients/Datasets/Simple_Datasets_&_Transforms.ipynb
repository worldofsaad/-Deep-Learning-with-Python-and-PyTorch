{
  "nbformat": 4,
  "nbformat_minor": 0,
  "metadata": {
    "colab": {
      "name": "Simple Datasets & Transforms.ipynb",
      "provenance": [],
      "collapsed_sections": []
    },
    "kernelspec": {
      "name": "python3",
      "display_name": "Python 3"
    }
  },
  "cells": [
    {
      "cell_type": "code",
      "metadata": {
        "id": "2N0DEidx-rqj",
        "colab_type": "code",
        "colab": {
          "base_uri": "https://localhost:8080/",
          "height": 306
        },
        "outputId": "cd3e1d72-06c6-4a22-adfe-05e06a5e63c6"
      },
      "source": [
        "#preperation\n",
        "import torch\n",
        "from torch.utils.data import Dataset\n",
        "torch.manual_seed(1)\n",
        "\n",
        "#simple Dataset\n",
        "class toy_set(Dataset):\n",
        "  def __init__(self, length=100, transform= None):\n",
        "    self.len=length\n",
        "    self.x = 2 * torch.ones(length,2)\n",
        "    self.y = torch.ones(length,1)\n",
        "    self.transform=transform\n",
        "\n",
        "  def __getitem__(self,id):\n",
        "    result = self.x[id],self.y[id]\n",
        "    if(self.transform):\n",
        "      result = self.transform(result)\n",
        "    return result\n",
        "  \n",
        "  def __len__(self):\n",
        "    return self.len\n",
        "\n",
        "data_set = toy_set(length=300)\n",
        "print('Simple Dataset with length of',data_set.len)\n",
        "for i in range(0,4):\n",
        "  print(data_set[i])\n",
        "\n",
        "\n",
        "#transform\n",
        "class addxmulty(object):\n",
        "  def __init__(self,addx=10,multy=2):\n",
        "    self.addx = addx\n",
        "    self.multy = multy\n",
        "\n",
        "  def __call__(self,sample):\n",
        "    x = self.addx + sample[0]\n",
        "    y = self.multy * sample[1]\n",
        "    sample = x,y\n",
        "    return sample\n",
        "\n",
        "my_transform =addxmulty(addx=100,multy=4)\n",
        "data_set = toy_set(length=234, transform=my_transform)\n",
        "print('\\nTransform Dataset with length of',data_set.len)\n",
        "for i in range(0,4):\n",
        "  print(data_set[i])\n",
        "\n",
        "\n",
        "\n",
        "#COMPOSE\n",
        "from torchvision import transforms\n",
        "\n",
        "class addconstant(object):\n",
        "  def __init__(self, add=100):\n",
        "    self.add = add\n",
        "  \n",
        "  def __call__(self, result):\n",
        "    x = self.add + result[0]\n",
        "    y = self.add + result[1]\n",
        "    result = x,y\n",
        "    return result\n",
        "\n",
        "\n",
        "my_transform2 = addconstant(534)\n",
        "composed_transform = transforms.Compose([my_transform,my_transform2])\n",
        "\n",
        "data_set = toy_set(length=145, transform= composed_transform)\n",
        "print('\\nComposed Transform Dataset with length of',data_set.len)\n",
        "for i in range(0,4):\n",
        "  print(data_set[i])\n"
      ],
      "execution_count": 22,
      "outputs": [
        {
          "output_type": "stream",
          "text": [
            "Simple Dataset with length of 300\n",
            "(tensor([2., 2.]), tensor([1.]))\n",
            "(tensor([2., 2.]), tensor([1.]))\n",
            "(tensor([2., 2.]), tensor([1.]))\n",
            "(tensor([2., 2.]), tensor([1.]))\n",
            "\n",
            "Transform Dataset with length of 234\n",
            "(tensor([102., 102.]), tensor([4.]))\n",
            "(tensor([102., 102.]), tensor([4.]))\n",
            "(tensor([102., 102.]), tensor([4.]))\n",
            "(tensor([102., 102.]), tensor([4.]))\n",
            "\n",
            "Composed Transform Dataset with length of 145\n",
            "(tensor([636., 636.]), tensor([538.]))\n",
            "(tensor([636., 636.]), tensor([538.]))\n",
            "(tensor([636., 636.]), tensor([538.]))\n",
            "(tensor([636., 636.]), tensor([538.]))\n"
          ],
          "name": "stdout"
        }
      ]
    },
    {
      "cell_type": "code",
      "metadata": {
        "id": "GgsdCz9_-2gi",
        "colab_type": "code",
        "colab": {}
      },
      "source": [
        ""
      ],
      "execution_count": 0,
      "outputs": []
    }
  ]
}