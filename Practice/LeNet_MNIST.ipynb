{
  "nbformat": 4,
  "nbformat_minor": 0,
  "metadata": {
    "colab": {
      "name": "Simple Network.ipynb",
      "provenance": [],
      "collapsed_sections": []
    },
    "kernelspec": {
      "name": "python3",
      "display_name": "Python 3"
    }
  },
  "cells": [
    {
      "cell_type": "code",
      "metadata": {
        "id": "tOTINFQ7Ak1M",
        "colab_type": "code",
        "colab": {}
      },
      "source": [
        "import torch\n",
        "import torch.nn as nn\n",
        "import torch.nn.functional as F\n",
        "import torchvision.datasets as dsets\n",
        "import torchvision.transforms as transforms\n",
        "import matplotlib.pylab as plt\n",
        "import numpy as np\n",
        "\n",
        "\n",
        "\n",
        "class Net(nn.Module):\n",
        "  def __init__(self):\n",
        "    super(Net,self).__init__()\n",
        "\n",
        "    #convolution networks\n",
        "    self.c1 = nn.Conv2d(1,6,3)\n",
        "    self.c2 = nn.Conv2d(6,16,3)\n",
        "    \n",
        "    #linear layers\n",
        "    self.l1 = nn.Linear(6*6*16,120)\n",
        "    self.l2 = nn.Linear(120,84)\n",
        "    self.l3 = nn.Linear(84,10)\n",
        "\n",
        "  def forward(self,x):\n",
        "    out = F.max_pool2d(F.relu(self.c1(x)),2)\n",
        "    out = F.max_pool2d(F.relu(self.c2(out)),2)\n",
        "    out = out.view(-1,self.flat(out))\n",
        "    out = F.relu(self.l1(out))\n",
        "    out = F.relu(self.l2(out))\n",
        "    out = self.l3(out)\n",
        "    return out\n",
        "\n",
        "  def flat(self,x):\n",
        "    dim = x.size()[1:]\n",
        "    n_flat = 1\n",
        "    for n in dim:\n",
        "      n_flat *= n\n",
        "    return n_flat\n",
        "\n",
        "\n",
        "\n",
        "model = Net()\n"
      ],
      "execution_count": 0,
      "outputs": []
    },
    {
      "cell_type": "code",
      "metadata": {
        "id": "ToCxHtGQBR-4",
        "colab_type": "code",
        "colab": {}
      },
      "source": [
        "IMAGE_SIZE = 32\n",
        "composed = transforms.Compose([transforms.Resize((IMAGE_SIZE,IMAGE_SIZE)),transforms.ToTensor()])\n",
        "\n",
        "train_dataset = dsets.MNIST(root='./data',train=True,transform=composed,download=True)\n",
        "validation_dataset = dsets.MNIST(root='./data',train=False,transform=composed,download=True)\n",
        "\n",
        "criterion = nn.CrossEntropyLoss()\n",
        "train_loader = torch.utils.data.DataLoader(dataset=train_dataset, batch_size=100)\n",
        "validation_loader = torch.utils.data.DataLoader(dataset=validation_dataset, batch_size=5000)\n",
        "epochs =3\n",
        "learning_rate = 0.1\n",
        "LOSS=[]\n",
        "VAL=[]"
      ],
      "execution_count": 0,
      "outputs": []
    },
    {
      "cell_type": "code",
      "metadata": {
        "id": "FumkOOkaGtol",
        "colab_type": "code",
        "colab": {}
      },
      "source": [
        "def train():\n",
        "  for epoch in range(epochs):\n",
        "\n",
        "    for x,y in train_loader:\n",
        "      model.zero_grad()\n",
        "      z = model(x)\n",
        "      loss = criterion(z,y)\n",
        "      loss.backward()\n",
        "      #step\n",
        "      for p in model.parameters():\n",
        "        p.data.sub_(p.grad.data*learning_rate)\n",
        "\n",
        "    correct=0\n",
        "    for x,y in validation_loader:\n",
        "      z = model(x)\n",
        "      _,yhat = z.max(1)\n",
        "      correct+=(yhat==y).sum().item()\n",
        "    \n",
        "    accuracy = correct/len(validation_dataset)\n",
        "\n",
        "    LOSS.append(loss.item())\n",
        "    VAL.append(accuracy)\n",
        "      "
      ],
      "execution_count": 0,
      "outputs": []
    },
    {
      "cell_type": "code",
      "metadata": {
        "id": "CxdvOKnHJ9V6",
        "colab_type": "code",
        "colab": {}
      },
      "source": [
        "train()"
      ],
      "execution_count": 0,
      "outputs": []
    },
    {
      "cell_type": "code",
      "metadata": {
        "id": "hH0HWCS4KFts",
        "colab_type": "code",
        "colab": {
          "base_uri": "https://localhost:8080/",
          "height": 297
        },
        "outputId": "61936345-cb59-4ca5-dd85-6347e0f7b2da"
      },
      "source": [
        "fig, ax1 = plt.subplots()\n",
        "color = 'tab:red'\n",
        "ax1.plot(LOSS, color=color)\n",
        "ax1.set_xlabel('epoch', color=color)\n",
        "ax1.set_ylabel('total loss', color=color)\n",
        "ax1.tick_params(axis='y', color=color)\n",
        "    \n",
        "ax2 = ax1.twinx()  \n",
        "color = 'tab:blue'\n",
        "ax2.set_ylabel('accuracy', color=color)  \n",
        "ax2.plot( VAL, color=color)\n",
        "ax2.tick_params(axis='y', color=color)\n",
        "fig.tight_layout()"
      ],
      "execution_count": 29,
      "outputs": [
        {
          "output_type": "display_data",
          "data": {
            "image/png": "[encoded data removed]",
            "text/plain": [
              "<Figure size 432x288 with 2 Axes>"
            ]
          },
          "metadata": {
            "tags": [],
            "needs_background": "light"
          }
        }
      ]
    },
    {
      "cell_type": "code",
      "metadata": {
        "id": "j0jcscDfKlAX",
        "colab_type": "code",
        "colab": {}
      },
      "source": [
        ""
      ],
      "execution_count": 0,
      "outputs": []
    }
  ]
}