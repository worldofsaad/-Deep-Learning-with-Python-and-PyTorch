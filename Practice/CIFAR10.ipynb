{
  "nbformat": 4,
  "nbformat_minor": 0,
  "metadata": {
    "colab": {
      "name": "CIFAR10.ipynb",
      "provenance": []
    },
    "kernelspec": {
      "name": "python3",
      "display_name": "Python 3"
    }
  },
  "cells": [
    {
      "cell_type": "code",
      "metadata": {
        "id": "J6-pw2Hxbc8u",
        "colab_type": "code",
        "colab": {}
      },
      "source": [
        "import torch\n",
        "import torchvision\n",
        "import torchvision.datasets as dsets\n",
        "import torchvision.transforms as transforms\n",
        "import matplotlib.pyplot as plt\n",
        "import torch.nn as nn\n",
        "import torch.nn.functional as F\n",
        "import numpy as np"
      ],
      "execution_count": 0,
      "outputs": []
    },
    {
      "cell_type": "code",
      "metadata": {
        "id": "zD_COsvGbsFn",
        "colab_type": "code",
        "colab": {
          "base_uri": "https://localhost:8080/",
          "height": 51
        },
        "outputId": "68cafb7b-c04c-4a72-f11b-a0f720b0eba9"
      },
      "source": [
        "my_transform = transforms.Compose([transforms.ToTensor(),transforms.Normalize((0.5,0.5,0.5),(0.5,0.5,0.5))])\n",
        "trainset = dsets.CIFAR10(root='./data',train=True,transform = my_transform,download=True)\n",
        "validset = dsets.CIFAR10(root='./data',train=False,transform=my_transform,download=True)"
      ],
      "execution_count": 80,
      "outputs": [
        {
          "output_type": "stream",
          "text": [
            "Files already downloaded and verified\n",
            "Files already downloaded and verified\n"
          ],
          "name": "stdout"
        }
      ]
    },
    {
      "cell_type": "code",
      "metadata": {
        "id": "piUphiXjchxF",
        "colab_type": "code",
        "colab": {}
      },
      "source": [
        "trainloader = torch.utils.data.DataLoader(dataset=trainset,batch_size=4,shuffle=True,num_workers=2)\n",
        "validloader = torch.utils.data.DataLoader(dataset=validset,batch_size=4,shuffle=False,num_workers=2)"
      ],
      "execution_count": 0,
      "outputs": []
    },
    {
      "cell_type": "code",
      "metadata": {
        "id": "ZyU_5W_0ePuP",
        "colab_type": "code",
        "colab": {}
      },
      "source": [
        "def imshow(img):\n",
        "  img = img/2  + 0.5\n",
        "  npimg = img.numpy()\n",
        "  plt.imshow(np.transpose(npimg,(1,2,0)))\n",
        "  plt.show()\n",
        "\n",
        "\n",
        "classes = ('plane', 'car', 'bird', 'cat',\n",
        "           'deer', 'dog', 'frog', 'horse', 'ship', 'truck')\n",
        "\n"
      ],
      "execution_count": 0,
      "outputs": []
    },
    {
      "cell_type": "code",
      "metadata": {
        "id": "-oSYC7IAhh0g",
        "colab_type": "code",
        "colab": {}
      },
      "source": [
        "class Net (nn.Module):\n",
        "  def __init__(self):\n",
        "    super(Net,self).__init__()\n",
        "    self.conv1 = nn.Conv2d(3,6,5)\n",
        "    self.conv2 = nn.Conv2d(6,16,5)\n",
        "    self.pool = nn.MaxPool2d(2,2)\n",
        "    self.l1 = nn.Linear(16*5*5,120)\n",
        "    self.l2 = nn.Linear(120,84)\n",
        "    self.l3 = nn.Linear(84,10)\n",
        "\n",
        "  def forward(self,x):\n",
        "    out = self.pool(F.relu(self.conv1(x)))\n",
        "    out = self.pool(F.relu(self.conv2(out)))\n",
        "    out = out.view(-1,self.flat(out))\n",
        "    out = F.relu(self.l1(out))\n",
        "    out = F.relu(self.l2(out))\n",
        "    out = self.l3(out)\n",
        "    return out\n",
        "\n",
        "  def flat(self,x1):\n",
        "    dim = x1.shape[1:]\n",
        "    n = 1\n",
        "    for ns in dim:\n",
        "      n *= ns\n",
        "    return n\n",
        "\n"
      ],
      "execution_count": 0,
      "outputs": []
    },
    {
      "cell_type": "code",
      "metadata": {
        "id": "SXnYmgz3pYSe",
        "colab_type": "code",
        "colab": {
          "base_uri": "https://localhost:8080/",
          "height": 323
        },
        "outputId": "11fa5fbc-05f8-4d37-df2f-a1a727a1c031"
      },
      "source": [
        "epochs = 3\n",
        "model = Net()\n",
        "optimizer = torch.optim.SGD(model.parameters(),lr = 0.001,momentum=0.9)\n",
        "criterion = nn.CrossEntropyLoss()\n",
        "\n",
        "for epoch in range(epochs):\n",
        "  LOSS=0.0\n",
        "  for i,data in enumerate(trainloader,0):\n",
        "    x,y = data\n",
        "    optimizer.zero_grad()\n",
        "    z = model(x)\n",
        "    loss = criterion(z,y)\n",
        "    loss.backward()\n",
        "    optimizer.step()\n",
        "    LOSS +=loss.item()\n",
        "\n",
        "    if (i%2000==1999):\n",
        "      print('[%d, %5d] loss: %.3f' %\n",
        "            (epoch+1,i+1,LOSS/2000))\n",
        "      LOSS=0.0\n",
        "\n"
      ],
      "execution_count": 98,
      "outputs": [
        {
          "output_type": "stream",
          "text": [
            "[1,  2000] loss: 2.220\n",
            "[1,  4000] loss: 1.853\n",
            "[1,  6000] loss: 1.662\n",
            "[1,  8000] loss: 1.601\n",
            "[1, 10000] loss: 1.523\n",
            "[1, 12000] loss: 1.471\n",
            "[2,  2000] loss: 1.405\n",
            "[2,  4000] loss: 1.367\n",
            "[2,  6000] loss: 1.366\n",
            "[2,  8000] loss: 1.306\n",
            "[2, 10000] loss: 1.288\n",
            "[2, 12000] loss: 1.280\n",
            "[3,  2000] loss: 1.182\n",
            "[3,  4000] loss: 1.213\n",
            "[3,  6000] loss: 1.191\n",
            "[3,  8000] loss: 1.204\n",
            "[3, 10000] loss: 1.184\n",
            "[3, 12000] loss: 1.193\n"
          ],
          "name": "stdout"
        }
      ]
    },
    {
      "cell_type": "code",
      "metadata": {
        "id": "pAWom3_s18Mz",
        "colab_type": "code",
        "colab": {
          "base_uri": "https://localhost:8080/",
          "height": 34
        },
        "outputId": "674bdd82-46c3-4342-c1a8-0cc7746bac81"
      },
      "source": [
        "correct = 0\n",
        "total = 0\n",
        "with torch.no_grad():\n",
        "    for data in validloader:\n",
        "        images, labels = data\n",
        "        outputs = model(images)\n",
        "        _, predicted = torch.max(outputs.data, 1)\n",
        "        total += labels.size(0)\n",
        "        correct += (predicted == labels).sum().item()\n",
        "\n",
        "print('Accuracy of the network on the 10000 test images: %d %%' % (\n",
        "    100 * correct / total))"
      ],
      "execution_count": 99,
      "outputs": [
        {
          "output_type": "stream",
          "text": [
            "Accuracy of the network on the 10000 test images: 57 %\n"
          ],
          "name": "stdout"
        }
      ]
    },
    {
      "cell_type": "code",
      "metadata": {
        "id": "9HXBBf1F1844",
        "colab_type": "code",
        "colab": {}
      },
      "source": [
        ""
      ],
      "execution_count": 0,
      "outputs": []
    }
  ]
}