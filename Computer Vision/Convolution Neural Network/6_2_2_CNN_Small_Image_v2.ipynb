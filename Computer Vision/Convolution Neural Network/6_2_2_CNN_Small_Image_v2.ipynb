{
  "nbformat": 4,
  "nbformat_minor": 0,
  "metadata": {
    "kernelspec": {
      "display_name": "Python 3",
      "language": "python",
      "name": "python3"
    },
    "language_info": {
      "codemirror_mode": {
        "name": "ipython",
        "version": 3
      },
      "file_extension": ".py",
      "mimetype": "text/x-python",
      "name": "python",
      "nbconvert_exporter": "python",
      "pygments_lexer": "ipython3",
      "version": "3.6.5"
    },
    "colab": {
      "name": "6.2.2.CNN_Small_Image_v2.ipynb",
      "provenance": []
    },
    "widgets": {
      "application/vnd.jupyter.widget-state+json": {
        "2fd7e60c31864e3bb8ed1ecbff1ab51c": {
          "model_module": "@jupyter-widgets/controls",
          "model_name": "HBoxModel",
          "state": {
            "_view_name": "HBoxView",
            "_dom_classes": [],
            "_model_name": "HBoxModel",
            "_view_module": "@jupyter-widgets/controls",
            "_model_module_version": "1.5.0",
            "_view_count": null,
            "_view_module_version": "1.5.0",
            "box_style": "",
            "layout": "IPY_MODEL_19bf363c325941eeaf388f61b5daab84",
            "_model_module": "@jupyter-widgets/controls",
            "children": [
              "IPY_MODEL_dc57daae83e949ec8fb8a04b3893019d",
              "IPY_MODEL_80548f259fff49148b5706be1d4bb2e6"
            ]
          }
        },
        "19bf363c325941eeaf388f61b5daab84": {
          "model_module": "@jupyter-widgets/base",
          "model_name": "LayoutModel",
          "state": {
            "_view_name": "LayoutView",
            "grid_template_rows": null,
            "right": null,
            "justify_content": null,
            "_view_module": "@jupyter-widgets/base",
            "overflow": null,
            "_model_module_version": "1.2.0",
            "_view_count": null,
            "flex_flow": null,
            "width": null,
            "min_width": null,
            "border": null,
            "align_items": null,
            "bottom": null,
            "_model_module": "@jupyter-widgets/base",
            "top": null,
            "grid_column": null,
            "overflow_y": null,
            "overflow_x": null,
            "grid_auto_flow": null,
            "grid_area": null,
            "grid_template_columns": null,
            "flex": null,
            "_model_name": "LayoutModel",
            "justify_items": null,
            "grid_row": null,
            "max_height": null,
            "align_content": null,
            "visibility": null,
            "align_self": null,
            "height": null,
            "min_height": null,
            "padding": null,
            "grid_auto_rows": null,
            "grid_gap": null,
            "max_width": null,
            "order": null,
            "_view_module_version": "1.2.0",
            "grid_template_areas": null,
            "object_position": null,
            "object_fit": null,
            "grid_auto_columns": null,
            "margin": null,
            "display": null,
            "left": null
          }
        },
        "dc57daae83e949ec8fb8a04b3893019d": {
          "model_module": "@jupyter-widgets/controls",
          "model_name": "IntProgressModel",
          "state": {
            "_view_name": "ProgressView",
            "style": "IPY_MODEL_61668b7c38284003a1eb40ae8a0d0ac0",
            "_dom_classes": [],
            "description": "",
            "_model_name": "IntProgressModel",
            "bar_style": "info",
            "max": 1,
            "_view_module": "@jupyter-widgets/controls",
            "_model_module_version": "1.5.0",
            "value": 1,
            "_view_count": null,
            "_view_module_version": "1.5.0",
            "orientation": "horizontal",
            "min": 0,
            "description_tooltip": null,
            "_model_module": "@jupyter-widgets/controls",
            "layout": "IPY_MODEL_df8df042723547d59b1b7dfd9230f55e"
          }
        },
        "80548f259fff49148b5706be1d4bb2e6": {
          "model_module": "@jupyter-widgets/controls",
          "model_name": "HTMLModel",
          "state": {
            "_view_name": "HTMLView",
            "style": "IPY_MODEL_4a06bf502d42498d98794c85d946d8f6",
            "_dom_classes": [],
            "description": "",
            "_model_name": "HTMLModel",
            "placeholder": "​",
            "_view_module": "@jupyter-widgets/controls",
            "_model_module_version": "1.5.0",
            "value": " 9920512/? [00:20&lt;00:00, 1500895.95it/s]",
            "_view_count": null,
            "_view_module_version": "1.5.0",
            "description_tooltip": null,
            "_model_module": "@jupyter-widgets/controls",
            "layout": "IPY_MODEL_cbebe5bb9cf04a2aa801b9510676ef71"
          }
        },
        "61668b7c38284003a1eb40ae8a0d0ac0": {
          "model_module": "@jupyter-widgets/controls",
          "model_name": "ProgressStyleModel",
          "state": {
            "_view_name": "StyleView",
            "_model_name": "ProgressStyleModel",
            "description_width": "initial",
            "_view_module": "@jupyter-widgets/base",
            "_model_module_version": "1.5.0",
            "_view_count": null,
            "_view_module_version": "1.2.0",
            "bar_color": null,
            "_model_module": "@jupyter-widgets/controls"
          }
        },
        "df8df042723547d59b1b7dfd9230f55e": {
          "model_module": "@jupyter-widgets/base",
          "model_name": "LayoutModel",
          "state": {
            "_view_name": "LayoutView",
            "grid_template_rows": null,
            "right": null,
            "justify_content": null,
            "_view_module": "@jupyter-widgets/base",
            "overflow": null,
            "_model_module_version": "1.2.0",
            "_view_count": null,
            "flex_flow": null,
            "width": null,
            "min_width": null,
            "border": null,
            "align_items": null,
            "bottom": null,
            "_model_module": "@jupyter-widgets/base",
            "top": null,
            "grid_column": null,
            "overflow_y": null,
            "overflow_x": null,
            "grid_auto_flow": null,
            "grid_area": null,
            "grid_template_columns": null,
            "flex": null,
            "_model_name": "LayoutModel",
            "justify_items": null,
            "grid_row": null,
            "max_height": null,
            "align_content": null,
            "visibility": null,
            "align_self": null,
            "height": null,
            "min_height": null,
            "padding": null,
            "grid_auto_rows": null,
            "grid_gap": null,
            "max_width": null,
            "order": null,
            "_view_module_version": "1.2.0",
            "grid_template_areas": null,
            "object_position": null,
            "object_fit": null,
            "grid_auto_columns": null,
            "margin": null,
            "display": null,
            "left": null
          }
        },
        "4a06bf502d42498d98794c85d946d8f6": {
          "model_module": "@jupyter-widgets/controls",
          "model_name": "DescriptionStyleModel",
          "state": {
            "_view_name": "StyleView",
            "_model_name": "DescriptionStyleModel",
            "description_width": "",
            "_view_module": "@jupyter-widgets/base",
            "_model_module_version": "1.5.0",
            "_view_count": null,
            "_view_module_version": "1.2.0",
            "_model_module": "@jupyter-widgets/controls"
          }
        },
        "cbebe5bb9cf04a2aa801b9510676ef71": {
          "model_module": "@jupyter-widgets/base",
          "model_name": "LayoutModel",
          "state": {
            "_view_name": "LayoutView",
            "grid_template_rows": null,
            "right": null,
            "justify_content": null,
            "_view_module": "@jupyter-widgets/base",
            "overflow": null,
            "_model_module_version": "1.2.0",
            "_view_count": null,
            "flex_flow": null,
            "width": null,
            "min_width": null,
            "border": null,
            "align_items": null,
            "bottom": null,
            "_model_module": "@jupyter-widgets/base",
            "top": null,
            "grid_column": null,
            "overflow_y": null,
            "overflow_x": null,
            "grid_auto_flow": null,
            "grid_area": null,
            "grid_template_columns": null,
            "flex": null,
            "_model_name": "LayoutModel",
            "justify_items": null,
            "grid_row": null,
            "max_height": null,
            "align_content": null,
            "visibility": null,
            "align_self": null,
            "height": null,
            "min_height": null,
            "padding": null,
            "grid_auto_rows": null,
            "grid_gap": null,
            "max_width": null,
            "order": null,
            "_view_module_version": "1.2.0",
            "grid_template_areas": null,
            "object_position": null,
            "object_fit": null,
            "grid_auto_columns": null,
            "margin": null,
            "display": null,
            "left": null
          }
        },
        "fd75d73d17824f9091263641089239b5": {
          "model_module": "@jupyter-widgets/controls",
          "model_name": "HBoxModel",
          "state": {
            "_view_name": "HBoxView",
            "_dom_classes": [],
            "_model_name": "HBoxModel",
            "_view_module": "@jupyter-widgets/controls",
            "_model_module_version": "1.5.0",
            "_view_count": null,
            "_view_module_version": "1.5.0",
            "box_style": "",
            "layout": "IPY_MODEL_b06407d16a154bb7b2dce598d29c1120",
            "_model_module": "@jupyter-widgets/controls",
            "children": [
              "IPY_MODEL_58edda388e9b4c5da036fd08de307c6b",
              "IPY_MODEL_f7088b1fe2634f1c83c4ecae531c286a"
            ]
          }
        },
        "b06407d16a154bb7b2dce598d29c1120": {
          "model_module": "@jupyter-widgets/base",
          "model_name": "LayoutModel",
          "state": {
            "_view_name": "LayoutView",
            "grid_template_rows": null,
            "right": null,
            "justify_content": null,
            "_view_module": "@jupyter-widgets/base",
            "overflow": null,
            "_model_module_version": "1.2.0",
            "_view_count": null,
            "flex_flow": null,
            "width": null,
            "min_width": null,
            "border": null,
            "align_items": null,
            "bottom": null,
            "_model_module": "@jupyter-widgets/base",
            "top": null,
            "grid_column": null,
            "overflow_y": null,
            "overflow_x": null,
            "grid_auto_flow": null,
            "grid_area": null,
            "grid_template_columns": null,
            "flex": null,
            "_model_name": "LayoutModel",
            "justify_items": null,
            "grid_row": null,
            "max_height": null,
            "align_content": null,
            "visibility": null,
            "align_self": null,
            "height": null,
            "min_height": null,
            "padding": null,
            "grid_auto_rows": null,
            "grid_gap": null,
            "max_width": null,
            "order": null,
            "_view_module_version": "1.2.0",
            "grid_template_areas": null,
            "object_position": null,
            "object_fit": null,
            "grid_auto_columns": null,
            "margin": null,
            "display": null,
            "left": null
          }
        },
        "58edda388e9b4c5da036fd08de307c6b": {
          "model_module": "@jupyter-widgets/controls",
          "model_name": "IntProgressModel",
          "state": {
            "_view_name": "ProgressView",
            "style": "IPY_MODEL_3661b9b76b4c4fd2aca730d51e99b09f",
            "_dom_classes": [],
            "description": "",
            "_model_name": "IntProgressModel",
            "bar_style": "success",
            "max": 1,
            "_view_module": "@jupyter-widgets/controls",
            "_model_module_version": "1.5.0",
            "value": 1,
            "_view_count": null,
            "_view_module_version": "1.5.0",
            "orientation": "horizontal",
            "min": 0,
            "description_tooltip": null,
            "_model_module": "@jupyter-widgets/controls",
            "layout": "IPY_MODEL_b83748adb0b2456c9ca576c5188ca7b3"
          }
        },
        "f7088b1fe2634f1c83c4ecae531c286a": {
          "model_module": "@jupyter-widgets/controls",
          "model_name": "HTMLModel",
          "state": {
            "_view_name": "HTMLView",
            "style": "IPY_MODEL_36ea792abf9d47409dfa5055e1f32445",
            "_dom_classes": [],
            "description": "",
            "_model_name": "HTMLModel",
            "placeholder": "​",
            "_view_module": "@jupyter-widgets/controls",
            "_model_module_version": "1.5.0",
            "value": " 32768/? [00:01&lt;00:00, 25940.45it/s]",
            "_view_count": null,
            "_view_module_version": "1.5.0",
            "description_tooltip": null,
            "_model_module": "@jupyter-widgets/controls",
            "layout": "IPY_MODEL_dba9a1d87e71496397732f5f0e48bbff"
          }
        },
        "3661b9b76b4c4fd2aca730d51e99b09f": {
          "model_module": "@jupyter-widgets/controls",
          "model_name": "ProgressStyleModel",
          "state": {
            "_view_name": "StyleView",
            "_model_name": "ProgressStyleModel",
            "description_width": "initial",
            "_view_module": "@jupyter-widgets/base",
            "_model_module_version": "1.5.0",
            "_view_count": null,
            "_view_module_version": "1.2.0",
            "bar_color": null,
            "_model_module": "@jupyter-widgets/controls"
          }
        },
        "b83748adb0b2456c9ca576c5188ca7b3": {
          "model_module": "@jupyter-widgets/base",
          "model_name": "LayoutModel",
          "state": {
            "_view_name": "LayoutView",
            "grid_template_rows": null,
            "right": null,
            "justify_content": null,
            "_view_module": "@jupyter-widgets/base",
            "overflow": null,
            "_model_module_version": "1.2.0",
            "_view_count": null,
            "flex_flow": null,
            "width": null,
            "min_width": null,
            "border": null,
            "align_items": null,
            "bottom": null,
            "_model_module": "@jupyter-widgets/base",
            "top": null,
            "grid_column": null,
            "overflow_y": null,
            "overflow_x": null,
            "grid_auto_flow": null,
            "grid_area": null,
            "grid_template_columns": null,
            "flex": null,
            "_model_name": "LayoutModel",
            "justify_items": null,
            "grid_row": null,
            "max_height": null,
            "align_content": null,
            "visibility": null,
            "align_self": null,
            "height": null,
            "min_height": null,
            "padding": null,
            "grid_auto_rows": null,
            "grid_gap": null,
            "max_width": null,
            "order": null,
            "_view_module_version": "1.2.0",
            "grid_template_areas": null,
            "object_position": null,
            "object_fit": null,
            "grid_auto_columns": null,
            "margin": null,
            "display": null,
            "left": null
          }
        },
        "36ea792abf9d47409dfa5055e1f32445": {
          "model_module": "@jupyter-widgets/controls",
          "model_name": "DescriptionStyleModel",
          "state": {
            "_view_name": "StyleView",
            "_model_name": "DescriptionStyleModel",
            "description_width": "",
            "_view_module": "@jupyter-widgets/base",
            "_model_module_version": "1.5.0",
            "_view_count": null,
            "_view_module_version": "1.2.0",
            "_model_module": "@jupyter-widgets/controls"
          }
        },
        "dba9a1d87e71496397732f5f0e48bbff": {
          "model_module": "@jupyter-widgets/base",
          "model_name": "LayoutModel",
          "state": {
            "_view_name": "LayoutView",
            "grid_template_rows": null,
            "right": null,
            "justify_content": null,
            "_view_module": "@jupyter-widgets/base",
            "overflow": null,
            "_model_module_version": "1.2.0",
            "_view_count": null,
            "flex_flow": null,
            "width": null,
            "min_width": null,
            "border": null,
            "align_items": null,
            "bottom": null,
            "_model_module": "@jupyter-widgets/base",
            "top": null,
            "grid_column": null,
            "overflow_y": null,
            "overflow_x": null,
            "grid_auto_flow": null,
            "grid_area": null,
            "grid_template_columns": null,
            "flex": null,
            "_model_name": "LayoutModel",
            "justify_items": null,
            "grid_row": null,
            "max_height": null,
            "align_content": null,
            "visibility": null,
            "align_self": null,
            "height": null,
            "min_height": null,
            "padding": null,
            "grid_auto_rows": null,
            "grid_gap": null,
            "max_width": null,
            "order": null,
            "_view_module_version": "1.2.0",
            "grid_template_areas": null,
            "object_position": null,
            "object_fit": null,
            "grid_auto_columns": null,
            "margin": null,
            "display": null,
            "left": null
          }
        },
        "f61a34415a8d46d990018b32a1df7532": {
          "model_module": "@jupyter-widgets/controls",
          "model_name": "HBoxModel",
          "state": {
            "_view_name": "HBoxView",
            "_dom_classes": [],
            "_model_name": "HBoxModel",
            "_view_module": "@jupyter-widgets/controls",
            "_model_module_version": "1.5.0",
            "_view_count": null,
            "_view_module_version": "1.5.0",
            "box_style": "",
            "layout": "IPY_MODEL_718dfbf2c7b3452a926dcab47c92402a",
            "_model_module": "@jupyter-widgets/controls",
            "children": [
              "IPY_MODEL_d71b28267dc543c0891ea7acec894716",
              "IPY_MODEL_90d8db8673f040ad93986db052555f43"
            ]
          }
        },
        "718dfbf2c7b3452a926dcab47c92402a": {
          "model_module": "@jupyter-widgets/base",
          "model_name": "LayoutModel",
          "state": {
            "_view_name": "LayoutView",
            "grid_template_rows": null,
            "right": null,
            "justify_content": null,
            "_view_module": "@jupyter-widgets/base",
            "overflow": null,
            "_model_module_version": "1.2.0",
            "_view_count": null,
            "flex_flow": null,
            "width": null,
            "min_width": null,
            "border": null,
            "align_items": null,
            "bottom": null,
            "_model_module": "@jupyter-widgets/base",
            "top": null,
            "grid_column": null,
            "overflow_y": null,
            "overflow_x": null,
            "grid_auto_flow": null,
            "grid_area": null,
            "grid_template_columns": null,
            "flex": null,
            "_model_name": "LayoutModel",
            "justify_items": null,
            "grid_row": null,
            "max_height": null,
            "align_content": null,
            "visibility": null,
            "align_self": null,
            "height": null,
            "min_height": null,
            "padding": null,
            "grid_auto_rows": null,
            "grid_gap": null,
            "max_width": null,
            "order": null,
            "_view_module_version": "1.2.0",
            "grid_template_areas": null,
            "object_position": null,
            "object_fit": null,
            "grid_auto_columns": null,
            "margin": null,
            "display": null,
            "left": null
          }
        },
        "d71b28267dc543c0891ea7acec894716": {
          "model_module": "@jupyter-widgets/controls",
          "model_name": "IntProgressModel",
          "state": {
            "_view_name": "ProgressView",
            "style": "IPY_MODEL_bda3441c734a4c63bd7573ad5b77307e",
            "_dom_classes": [],
            "description": "",
            "_model_name": "IntProgressModel",
            "bar_style": "success",
            "max": 1,
            "_view_module": "@jupyter-widgets/controls",
            "_model_module_version": "1.5.0",
            "value": 1,
            "_view_count": null,
            "_view_module_version": "1.5.0",
            "orientation": "horizontal",
            "min": 0,
            "description_tooltip": null,
            "_model_module": "@jupyter-widgets/controls",
            "layout": "IPY_MODEL_72432a93f2d74f348c4426eb32a1ac0b"
          }
        },
        "90d8db8673f040ad93986db052555f43": {
          "model_module": "@jupyter-widgets/controls",
          "model_name": "HTMLModel",
          "state": {
            "_view_name": "HTMLView",
            "style": "IPY_MODEL_b5d14bc1754647f28c63a813150ed351",
            "_dom_classes": [],
            "description": "",
            "_model_name": "HTMLModel",
            "placeholder": "​",
            "_view_module": "@jupyter-widgets/controls",
            "_model_module_version": "1.5.0",
            "value": " 1654784/? [00:00&lt;00:00, 1702225.74it/s]",
            "_view_count": null,
            "_view_module_version": "1.5.0",
            "description_tooltip": null,
            "_model_module": "@jupyter-widgets/controls",
            "layout": "IPY_MODEL_4500589e7ea94c54b1c0f3a7658771da"
          }
        },
        "bda3441c734a4c63bd7573ad5b77307e": {
          "model_module": "@jupyter-widgets/controls",
          "model_name": "ProgressStyleModel",
          "state": {
            "_view_name": "StyleView",
            "_model_name": "ProgressStyleModel",
            "description_width": "initial",
            "_view_module": "@jupyter-widgets/base",
            "_model_module_version": "1.5.0",
            "_view_count": null,
            "_view_module_version": "1.2.0",
            "bar_color": null,
            "_model_module": "@jupyter-widgets/controls"
          }
        },
        "72432a93f2d74f348c4426eb32a1ac0b": {
          "model_module": "@jupyter-widgets/base",
          "model_name": "LayoutModel",
          "state": {
            "_view_name": "LayoutView",
            "grid_template_rows": null,
            "right": null,
            "justify_content": null,
            "_view_module": "@jupyter-widgets/base",
            "overflow": null,
            "_model_module_version": "1.2.0",
            "_view_count": null,
            "flex_flow": null,
            "width": null,
            "min_width": null,
            "border": null,
            "align_items": null,
            "bottom": null,
            "_model_module": "@jupyter-widgets/base",
            "top": null,
            "grid_column": null,
            "overflow_y": null,
            "overflow_x": null,
            "grid_auto_flow": null,
            "grid_area": null,
            "grid_template_columns": null,
            "flex": null,
            "_model_name": "LayoutModel",
            "justify_items": null,
            "grid_row": null,
            "max_height": null,
            "align_content": null,
            "visibility": null,
            "align_self": null,
            "height": null,
            "min_height": null,
            "padding": null,
            "grid_auto_rows": null,
            "grid_gap": null,
            "max_width": null,
            "order": null,
            "_view_module_version": "1.2.0",
            "grid_template_areas": null,
            "object_position": null,
            "object_fit": null,
            "grid_auto_columns": null,
            "margin": null,
            "display": null,
            "left": null
          }
        },
        "b5d14bc1754647f28c63a813150ed351": {
          "model_module": "@jupyter-widgets/controls",
          "model_name": "DescriptionStyleModel",
          "state": {
            "_view_name": "StyleView",
            "_model_name": "DescriptionStyleModel",
            "description_width": "",
            "_view_module": "@jupyter-widgets/base",
            "_model_module_version": "1.5.0",
            "_view_count": null,
            "_view_module_version": "1.2.0",
            "_model_module": "@jupyter-widgets/controls"
          }
        },
        "4500589e7ea94c54b1c0f3a7658771da": {
          "model_module": "@jupyter-widgets/base",
          "model_name": "LayoutModel",
          "state": {
            "_view_name": "LayoutView",
            "grid_template_rows": null,
            "right": null,
            "justify_content": null,
            "_view_module": "@jupyter-widgets/base",
            "overflow": null,
            "_model_module_version": "1.2.0",
            "_view_count": null,
            "flex_flow": null,
            "width": null,
            "min_width": null,
            "border": null,
            "align_items": null,
            "bottom": null,
            "_model_module": "@jupyter-widgets/base",
            "top": null,
            "grid_column": null,
            "overflow_y": null,
            "overflow_x": null,
            "grid_auto_flow": null,
            "grid_area": null,
            "grid_template_columns": null,
            "flex": null,
            "_model_name": "LayoutModel",
            "justify_items": null,
            "grid_row": null,
            "max_height": null,
            "align_content": null,
            "visibility": null,
            "align_self": null,
            "height": null,
            "min_height": null,
            "padding": null,
            "grid_auto_rows": null,
            "grid_gap": null,
            "max_width": null,
            "order": null,
            "_view_module_version": "1.2.0",
            "grid_template_areas": null,
            "object_position": null,
            "object_fit": null,
            "grid_auto_columns": null,
            "margin": null,
            "display": null,
            "left": null
          }
        },
        "52ebcb53f43a46388a980953ef654fff": {
          "model_module": "@jupyter-widgets/controls",
          "model_name": "HBoxModel",
          "state": {
            "_view_name": "HBoxView",
            "_dom_classes": [],
            "_model_name": "HBoxModel",
            "_view_module": "@jupyter-widgets/controls",
            "_model_module_version": "1.5.0",
            "_view_count": null,
            "_view_module_version": "1.5.0",
            "box_style": "",
            "layout": "IPY_MODEL_d978d406998547e4a592e563a06f51fd",
            "_model_module": "@jupyter-widgets/controls",
            "children": [
              "IPY_MODEL_9e01fc3c51fa47e6b34a87bc97e9d6b9",
              "IPY_MODEL_ac7d56a0ef1d433f8eadce9dffdaca3a"
            ]
          }
        },
        "d978d406998547e4a592e563a06f51fd": {
          "model_module": "@jupyter-widgets/base",
          "model_name": "LayoutModel",
          "state": {
            "_view_name": "LayoutView",
            "grid_template_rows": null,
            "right": null,
            "justify_content": null,
            "_view_module": "@jupyter-widgets/base",
            "overflow": null,
            "_model_module_version": "1.2.0",
            "_view_count": null,
            "flex_flow": null,
            "width": null,
            "min_width": null,
            "border": null,
            "align_items": null,
            "bottom": null,
            "_model_module": "@jupyter-widgets/base",
            "top": null,
            "grid_column": null,
            "overflow_y": null,
            "overflow_x": null,
            "grid_auto_flow": null,
            "grid_area": null,
            "grid_template_columns": null,
            "flex": null,
            "_model_name": "LayoutModel",
            "justify_items": null,
            "grid_row": null,
            "max_height": null,
            "align_content": null,
            "visibility": null,
            "align_self": null,
            "height": null,
            "min_height": null,
            "padding": null,
            "grid_auto_rows": null,
            "grid_gap": null,
            "max_width": null,
            "order": null,
            "_view_module_version": "1.2.0",
            "grid_template_areas": null,
            "object_position": null,
            "object_fit": null,
            "grid_auto_columns": null,
            "margin": null,
            "display": null,
            "left": null
          }
        },
        "9e01fc3c51fa47e6b34a87bc97e9d6b9": {
          "model_module": "@jupyter-widgets/controls",
          "model_name": "IntProgressModel",
          "state": {
            "_view_name": "ProgressView",
            "style": "IPY_MODEL_780e8ed4e33342c4a699c1bd4c9cf993",
            "_dom_classes": [],
            "description": "",
            "_model_name": "IntProgressModel",
            "bar_style": "success",
            "max": 1,
            "_view_module": "@jupyter-widgets/controls",
            "_model_module_version": "1.5.0",
            "value": 1,
            "_view_count": null,
            "_view_module_version": "1.5.0",
            "orientation": "horizontal",
            "min": 0,
            "description_tooltip": null,
            "_model_module": "@jupyter-widgets/controls",
            "layout": "IPY_MODEL_c582cb2a2aa4440cacd7aa00479aaf16"
          }
        },
        "ac7d56a0ef1d433f8eadce9dffdaca3a": {
          "model_module": "@jupyter-widgets/controls",
          "model_name": "HTMLModel",
          "state": {
            "_view_name": "HTMLView",
            "style": "IPY_MODEL_5a4d0d5cf8bb435e805b85d33a737f47",
            "_dom_classes": [],
            "description": "",
            "_model_name": "HTMLModel",
            "placeholder": "​",
            "_view_module": "@jupyter-widgets/controls",
            "_model_module_version": "1.5.0",
            "value": " 8192/? [00:00&lt;00:00, 32950.73it/s]",
            "_view_count": null,
            "_view_module_version": "1.5.0",
            "description_tooltip": null,
            "_model_module": "@jupyter-widgets/controls",
            "layout": "IPY_MODEL_a50e9412739b45a598770ac633879469"
          }
        },
        "780e8ed4e33342c4a699c1bd4c9cf993": {
          "model_module": "@jupyter-widgets/controls",
          "model_name": "ProgressStyleModel",
          "state": {
            "_view_name": "StyleView",
            "_model_name": "ProgressStyleModel",
            "description_width": "initial",
            "_view_module": "@jupyter-widgets/base",
            "_model_module_version": "1.5.0",
            "_view_count": null,
            "_view_module_version": "1.2.0",
            "bar_color": null,
            "_model_module": "@jupyter-widgets/controls"
          }
        },
        "c582cb2a2aa4440cacd7aa00479aaf16": {
          "model_module": "@jupyter-widgets/base",
          "model_name": "LayoutModel",
          "state": {
            "_view_name": "LayoutView",
            "grid_template_rows": null,
            "right": null,
            "justify_content": null,
            "_view_module": "@jupyter-widgets/base",
            "overflow": null,
            "_model_module_version": "1.2.0",
            "_view_count": null,
            "flex_flow": null,
            "width": null,
            "min_width": null,
            "border": null,
            "align_items": null,
            "bottom": null,
            "_model_module": "@jupyter-widgets/base",
            "top": null,
            "grid_column": null,
            "overflow_y": null,
            "overflow_x": null,
            "grid_auto_flow": null,
            "grid_area": null,
            "grid_template_columns": null,
            "flex": null,
            "_model_name": "LayoutModel",
            "justify_items": null,
            "grid_row": null,
            "max_height": null,
            "align_content": null,
            "visibility": null,
            "align_self": null,
            "height": null,
            "min_height": null,
            "padding": null,
            "grid_auto_rows": null,
            "grid_gap": null,
            "max_width": null,
            "order": null,
            "_view_module_version": "1.2.0",
            "grid_template_areas": null,
            "object_position": null,
            "object_fit": null,
            "grid_auto_columns": null,
            "margin": null,
            "display": null,
            "left": null
          }
        },
        "5a4d0d5cf8bb435e805b85d33a737f47": {
          "model_module": "@jupyter-widgets/controls",
          "model_name": "DescriptionStyleModel",
          "state": {
            "_view_name": "StyleView",
            "_model_name": "DescriptionStyleModel",
            "description_width": "",
            "_view_module": "@jupyter-widgets/base",
            "_model_module_version": "1.5.0",
            "_view_count": null,
            "_view_module_version": "1.2.0",
            "_model_module": "@jupyter-widgets/controls"
          }
        },
        "a50e9412739b45a598770ac633879469": {
          "model_module": "@jupyter-widgets/base",
          "model_name": "LayoutModel",
          "state": {
            "_view_name": "LayoutView",
            "grid_template_rows": null,
            "right": null,
            "justify_content": null,
            "_view_module": "@jupyter-widgets/base",
            "overflow": null,
            "_model_module_version": "1.2.0",
            "_view_count": null,
            "flex_flow": null,
            "width": null,
            "min_width": null,
            "border": null,
            "align_items": null,
            "bottom": null,
            "_model_module": "@jupyter-widgets/base",
            "top": null,
            "grid_column": null,
            "overflow_y": null,
            "overflow_x": null,
            "grid_auto_flow": null,
            "grid_area": null,
            "grid_template_columns": null,
            "flex": null,
            "_model_name": "LayoutModel",
            "justify_items": null,
            "grid_row": null,
            "max_height": null,
            "align_content": null,
            "visibility": null,
            "align_self": null,
            "height": null,
            "min_height": null,
            "padding": null,
            "grid_auto_rows": null,
            "grid_gap": null,
            "max_width": null,
            "order": null,
            "_view_module_version": "1.2.0",
            "grid_template_areas": null,
            "object_position": null,
            "object_fit": null,
            "grid_auto_columns": null,
            "margin": null,
            "display": null,
            "left": null
          }
        }
      }
    }
  },
  "cells": [
    {
      "cell_type": "markdown",
      "metadata": {
        "id": "cDY8-ex-ESKA",
        "colab_type": "text"
      },
      "source": [
        "<a href=\"http://cocl.us/pytorch_link_top\">\n",
        "    <img src=\"https://cocl.us/Pytorch_top\" width=\"750\" alt=\"IBM 10TB Storage\" />\n",
        "</a>"
      ]
    },
    {
      "cell_type": "markdown",
      "metadata": {
        "id": "V3V_G6yBESKB",
        "colab_type": "text"
      },
      "source": [
        "<img src=\"https://ibm.box.com/shared/static/ugcqz6ohbvff804xp84y4kqnvvk3bq1g.png\" width=\"200\" alt=\"cognitiveclass.ai logo\" />"
      ]
    },
    {
      "cell_type": "markdown",
      "metadata": {
        "id": "nhZuQA1IESKC",
        "colab_type": "text"
      },
      "source": [
        "<h1>Convolutional Neural Network with Small Images</h1> "
      ]
    },
    {
      "cell_type": "markdown",
      "metadata": {
        "id": "Ju8ijUJmESKD",
        "colab_type": "text"
      },
      "source": [
        "<h2>Table of Contents</h2>\n",
        "<p>In this lab, we will use a Convolutional Neural Network to classify handwritten digits from the MNIST database. We will reshape the images to make them faster to process </p>\n",
        "\n",
        "<ul>\n",
        "<li><a href=\"#Makeup_Data\">Get Some Data</a></li>\n",
        "<li><a href=\"#CNN\">Convolutional Neural Network</a></li>\n",
        "<li><a href=\"#Train\">Define Softmax, Criterion function, Optimizer and Train the Model</a></li>\n",
        "<li><a href=\"#Result\">Analyze Results</a></li>\n",
        "</ul>\n",
        "<p>Estimated Time Needed: <strong>25 min</strong></p>\n",
        "\n",
        "<hr>"
      ]
    },
    {
      "cell_type": "markdown",
      "metadata": {
        "id": "fZGlvp0OESKD",
        "colab_type": "text"
      },
      "source": [
        "<h2>Preparation</h2>"
      ]
    },
    {
      "cell_type": "code",
      "metadata": {
        "id": "T7wddnPcESKE",
        "colab_type": "code",
        "colab": {}
      },
      "source": [
        "# Import the libraries we need to use in this lab\n",
        "\n",
        "# Using the following line code to install the torchvision library\n",
        "# !conda install -y torchvision\n",
        "\n",
        "import torch \n",
        "import torch.nn as nn\n",
        "import torchvision.transforms as transforms\n",
        "import torchvision.datasets as dsets\n",
        "import matplotlib.pylab as plt\n",
        "import numpy as np"
      ],
      "execution_count": 0,
      "outputs": []
    },
    {
      "cell_type": "markdown",
      "metadata": {
        "id": "PFs3pPAmESKI",
        "colab_type": "text"
      },
      "source": [
        "Define the function <code>plot_channels</code> to plot out the kernel parameters of  each channel "
      ]
    },
    {
      "cell_type": "code",
      "metadata": {
        "id": "hN3DfWUMESKI",
        "colab_type": "code",
        "colab": {}
      },
      "source": [
        "# Define the function for plotting the channels\n",
        "\n",
        "def plot_channels(W):\n",
        "    n_out = W.shape[0]\n",
        "    n_in = W.shape[1]\n",
        "    w_min = W.min().item()\n",
        "    w_max = W.max().item()\n",
        "    fig, axes = plt.subplots(n_out, n_in)\n",
        "    fig.subplots_adjust(hspace=0.1)\n",
        "    out_index = 0\n",
        "    in_index = 0\n",
        "    \n",
        "    #plot outputs as rows inputs as columns \n",
        "    for ax in axes.flat:\n",
        "        if in_index > n_in-1:\n",
        "            out_index = out_index + 1\n",
        "            in_index = 0\n",
        "        ax.imshow(W[out_index, in_index, :, :], vmin=w_min, vmax=w_max, cmap='seismic')\n",
        "        ax.set_yticklabels([])\n",
        "        ax.set_xticklabels([])\n",
        "        in_index = in_index + 1\n",
        "\n",
        "    plt.show()"
      ],
      "execution_count": 0,
      "outputs": []
    },
    {
      "cell_type": "markdown",
      "metadata": {
        "id": "IewJdfbsESKL",
        "colab_type": "text"
      },
      "source": [
        "Define the function <code>plot_parameters</code> to plot out the kernel parameters of each channel with Multiple outputs . "
      ]
    },
    {
      "cell_type": "code",
      "metadata": {
        "id": "DT-2RO8YESKL",
        "colab_type": "code",
        "colab": {}
      },
      "source": [
        "# Define the function for plotting the parameters\n",
        "\n",
        "def plot_parameters(W, number_rows=1, name=\"\", i=0):\n",
        "    W = W.data[:, i, :, :]\n",
        "    n_filters = W.shape[0]\n",
        "    w_min = W.min().item()\n",
        "    w_max = W.max().item()\n",
        "    fig, axes = plt.subplots(number_rows, n_filters // number_rows)\n",
        "    fig.subplots_adjust(hspace=0.4)\n",
        "\n",
        "    for i, ax in enumerate(axes.flat):\n",
        "        if i < n_filters:\n",
        "            # Set the label for the sub-plot.\n",
        "            ax.set_xlabel(\"kernel:{0}\".format(i + 1))\n",
        "\n",
        "            # Plot the image.\n",
        "            ax.imshow(W[i, :], vmin=w_min, vmax=w_max, cmap='seismic')\n",
        "            ax.set_xticks([])\n",
        "            ax.set_yticks([])\n",
        "    plt.suptitle(name, fontsize=10)    \n",
        "    plt.show()"
      ],
      "execution_count": 0,
      "outputs": []
    },
    {
      "cell_type": "markdown",
      "metadata": {
        "id": "qm9ebE6UESKO",
        "colab_type": "text"
      },
      "source": [
        "Define the function <code>plot_activation</code> to plot out the activations of the Convolutional layers  "
      ]
    },
    {
      "cell_type": "code",
      "metadata": {
        "id": "hx_VITwnESKP",
        "colab_type": "code",
        "colab": {}
      },
      "source": [
        "# Define the function for plotting the activations\n",
        "\n",
        "def plot_activations(A, number_rows=1, name=\"\", i=0):\n",
        "    A = A[0, :, :, :].detach().numpy()\n",
        "    n_activations = A.shape[0]\n",
        "    A_min = A.min().item()\n",
        "    A_max = A.max().item()\n",
        "    fig, axes = plt.subplots(number_rows, n_activations // number_rows)\n",
        "    fig.subplots_adjust(hspace = 0.4)\n",
        "\n",
        "    for i, ax in enumerate(axes.flat):\n",
        "        if i < n_activations:\n",
        "            # Set the label for the sub-plot.\n",
        "            ax.set_xlabel(\"activation:{0}\".format(i + 1))\n",
        "\n",
        "            # Plot the image.\n",
        "            ax.imshow(A[i, :], vmin=A_min, vmax=A_max, cmap='seismic')\n",
        "            ax.set_xticks([])\n",
        "            ax.set_yticks([])\n",
        "    plt.show()"
      ],
      "execution_count": 0,
      "outputs": []
    },
    {
      "cell_type": "markdown",
      "metadata": {
        "id": "iIzNwxJ7ESKR",
        "colab_type": "text"
      },
      "source": [
        "Define the function <code>show_data</code> to plot out data samples as images."
      ]
    },
    {
      "cell_type": "code",
      "metadata": {
        "id": "iO8O1Q-dESKS",
        "colab_type": "code",
        "colab": {}
      },
      "source": [
        "def show_data(data_sample):\n",
        "    plt.imshow(data_sample[0].numpy().reshape(IMAGE_SIZE, IMAGE_SIZE), cmap='gray')\n",
        "    plt.title('y = '+ str(data_sample[1]))"
      ],
      "execution_count": 0,
      "outputs": []
    },
    {
      "cell_type": "markdown",
      "metadata": {
        "id": "tk0pBs_GESKU",
        "colab_type": "text"
      },
      "source": [
        "<!--Empty Space for separating topics-->"
      ]
    },
    {
      "cell_type": "markdown",
      "metadata": {
        "id": "RlaRYOyXESKV",
        "colab_type": "text"
      },
      "source": [
        "<h2 id=\"Makeup_Data\">Get the Data</h2> "
      ]
    },
    {
      "cell_type": "markdown",
      "metadata": {
        "id": "TVJMIIecESKV",
        "colab_type": "text"
      },
      "source": [
        "We create a transform to resize the image and convert it to a tensor ."
      ]
    },
    {
      "cell_type": "code",
      "metadata": {
        "id": "XZ35ETj-ESKW",
        "colab_type": "code",
        "colab": {}
      },
      "source": [
        "# The composer for resizeing the image\n",
        "\n",
        "IMAGE_SIZE = 8\n",
        "composed = transforms.Compose([transforms.Resize((IMAGE_SIZE, IMAGE_SIZE)), transforms.ToTensor()])"
      ],
      "execution_count": 0,
      "outputs": []
    },
    {
      "cell_type": "markdown",
      "metadata": {
        "id": "h9ioWs_cESKY",
        "colab_type": "text"
      },
      "source": [
        "Load the training dataset by setting the parameters <code>train </code> to <code>True</code>. We use the transform defined above."
      ]
    },
    {
      "cell_type": "code",
      "metadata": {
        "id": "JZ2f8gYMESKY",
        "colab_type": "code",
        "colab": {
          "base_uri": "https://localhost:8080/",
          "height": 403,
          "referenced_widgets": [
            "2fd7e60c31864e3bb8ed1ecbff1ab51c",
            "19bf363c325941eeaf388f61b5daab84",
            "dc57daae83e949ec8fb8a04b3893019d",
            "80548f259fff49148b5706be1d4bb2e6",
            "61668b7c38284003a1eb40ae8a0d0ac0",
            "df8df042723547d59b1b7dfd9230f55e",
            "4a06bf502d42498d98794c85d946d8f6",
            "cbebe5bb9cf04a2aa801b9510676ef71",
            "fd75d73d17824f9091263641089239b5",
            "b06407d16a154bb7b2dce598d29c1120",
            "58edda388e9b4c5da036fd08de307c6b",
            "f7088b1fe2634f1c83c4ecae531c286a",
            "3661b9b76b4c4fd2aca730d51e99b09f",
            "b83748adb0b2456c9ca576c5188ca7b3",
            "36ea792abf9d47409dfa5055e1f32445",
            "dba9a1d87e71496397732f5f0e48bbff",
            "f61a34415a8d46d990018b32a1df7532",
            "718dfbf2c7b3452a926dcab47c92402a",
            "d71b28267dc543c0891ea7acec894716",
            "90d8db8673f040ad93986db052555f43",
            "bda3441c734a4c63bd7573ad5b77307e",
            "72432a93f2d74f348c4426eb32a1ac0b",
            "b5d14bc1754647f28c63a813150ed351",
            "4500589e7ea94c54b1c0f3a7658771da",
            "52ebcb53f43a46388a980953ef654fff",
            "d978d406998547e4a592e563a06f51fd",
            "9e01fc3c51fa47e6b34a87bc97e9d6b9",
            "ac7d56a0ef1d433f8eadce9dffdaca3a",
            "780e8ed4e33342c4a699c1bd4c9cf993",
            "c582cb2a2aa4440cacd7aa00479aaf16",
            "5a4d0d5cf8bb435e805b85d33a737f47",
            "a50e9412739b45a598770ac633879469"
          ]
        },
        "outputId": "87768c33-72ea-4108-80ac-116211940ea9"
      },
      "source": [
        "# Make the training \n",
        "\n",
        "train_dataset = dsets.MNIST(root='./data', train=True, download=True, transform=composed)"
      ],
      "execution_count": 9,
      "outputs": [
        {
          "output_type": "stream",
          "text": [
            "Downloading http://yann.lecun.com/exdb/mnist/train-images-idx3-ubyte.gz to ./data/MNIST/raw/train-images-idx3-ubyte.gz\n"
          ],
          "name": "stdout"
        },
        {
          "output_type": "display_data",
          "data": {
            "application/vnd.jupyter.widget-view+json": {
              "model_id": "2fd7e60c31864e3bb8ed1ecbff1ab51c",
              "version_minor": 0,
              "version_major": 2
            },
            "text/plain": [
              "HBox(children=(IntProgress(value=1, bar_style='info', max=1), HTML(value='')))"
            ]
          },
          "metadata": {
            "tags": []
          }
        },
        {
          "output_type": "stream",
          "text": [
            "Extracting ./data/MNIST/raw/train-images-idx3-ubyte.gz to ./data/MNIST/raw\n",
            "Downloading http://yann.lecun.com/exdb/mnist/train-labels-idx1-ubyte.gz to ./data/MNIST/raw/train-labels-idx1-ubyte.gz\n"
          ],
          "name": "stdout"
        },
        {
          "output_type": "display_data",
          "data": {
            "application/vnd.jupyter.widget-view+json": {
              "model_id": "fd75d73d17824f9091263641089239b5",
              "version_minor": 0,
              "version_major": 2
            },
            "text/plain": [
              "HBox(children=(IntProgress(value=1, bar_style='info', max=1), HTML(value='')))"
            ]
          },
          "metadata": {
            "tags": []
          }
        },
        {
          "output_type": "stream",
          "text": [
            "Extracting ./data/MNIST/raw/train-labels-idx1-ubyte.gz to ./data/MNIST/raw\n",
            "Downloading http://yann.lecun.com/exdb/mnist/t10k-images-idx3-ubyte.gz to ./data/MNIST/raw/t10k-images-idx3-ubyte.gz\n"
          ],
          "name": "stdout"
        },
        {
          "output_type": "display_data",
          "data": {
            "application/vnd.jupyter.widget-view+json": {
              "model_id": "f61a34415a8d46d990018b32a1df7532",
              "version_minor": 0,
              "version_major": 2
            },
            "text/plain": [
              "HBox(children=(IntProgress(value=1, bar_style='info', max=1), HTML(value='')))"
            ]
          },
          "metadata": {
            "tags": []
          }
        },
        {
          "output_type": "stream",
          "text": [
            "Extracting ./data/MNIST/raw/t10k-images-idx3-ubyte.gz to ./data/MNIST/raw\n",
            "Downloading http://yann.lecun.com/exdb/mnist/t10k-labels-idx1-ubyte.gz to ./data/MNIST/raw/t10k-labels-idx1-ubyte.gz\n"
          ],
          "name": "stdout"
        },
        {
          "output_type": "display_data",
          "data": {
            "application/vnd.jupyter.widget-view+json": {
              "model_id": "52ebcb53f43a46388a980953ef654fff",
              "version_minor": 0,
              "version_major": 2
            },
            "text/plain": [
              "HBox(children=(IntProgress(value=1, bar_style='info', max=1), HTML(value='')))"
            ]
          },
          "metadata": {
            "tags": []
          }
        },
        {
          "output_type": "stream",
          "text": [
            "Extracting ./data/MNIST/raw/t10k-labels-idx1-ubyte.gz to ./data/MNIST/raw\n",
            "Processing...\n",
            "\n",
            "\n",
            "\n",
            "Done!\n"
          ],
          "name": "stdout"
        },
        {
          "output_type": "stream",
          "text": [
            "/pytorch/torch/csrc/utils/tensor_numpy.cpp:141: UserWarning: The given NumPy array is not writeable, and PyTorch does not support non-writeable tensors. This means you can write to the underlying (supposedly non-writeable) NumPy array using the tensor. You may want to copy the array to protect its data or make it writeable before converting it to a tensor. This type of warning will be suppressed for the rest of this program.\n"
          ],
          "name": "stderr"
        }
      ]
    },
    {
      "cell_type": "markdown",
      "metadata": {
        "id": "Jr-HADeWESKb",
        "colab_type": "text"
      },
      "source": [
        "Load the testing dataset by setting the parameters train  <code>False</code>."
      ]
    },
    {
      "cell_type": "code",
      "metadata": {
        "id": "UTqHS--yESKb",
        "colab_type": "code",
        "colab": {}
      },
      "source": [
        "# Make the validating \n",
        "\n",
        "validation_dataset = dsets.MNIST(root='./data', train=False, download=True, transform=composed)"
      ],
      "execution_count": 0,
      "outputs": []
    },
    {
      "cell_type": "markdown",
      "metadata": {
        "id": "-TCJV7juESKd",
        "colab_type": "text"
      },
      "source": [
        "We can see the data type is long."
      ]
    },
    {
      "cell_type": "code",
      "metadata": {
        "id": "f4nHv7xbESKe",
        "colab_type": "code",
        "colab": {
          "base_uri": "https://localhost:8080/",
          "height": 34
        },
        "outputId": "16174cdb-2082-4cb7-e568-bd88e78d8955"
      },
      "source": [
        "# Show the data type for each element in dataset\n",
        "\n",
        "type(train_dataset[0][1])"
      ],
      "execution_count": 12,
      "outputs": [
        {
          "output_type": "execute_result",
          "data": {
            "text/plain": [
              "int"
            ]
          },
          "metadata": {
            "tags": []
          },
          "execution_count": 12
        }
      ]
    },
    {
      "cell_type": "markdown",
      "metadata": {
        "id": "S4FObAsUESKh",
        "colab_type": "text"
      },
      "source": [
        "Each element in the rectangular tensor corresponds to a number representing a pixel intensity as demonstrated by the following image."
      ]
    },
    {
      "cell_type": "markdown",
      "metadata": {
        "id": "_3HSHpYuESKh",
        "colab_type": "text"
      },
      "source": [
        "<img src=\"https://ibm.box.com/shared/static/7024mnculm8w2oh0080y71cpa48cib2k.png\" width=\"550\" alt=\"MNIST data image\">"
      ]
    },
    {
      "cell_type": "markdown",
      "metadata": {
        "id": "72IGIWaxESKi",
        "colab_type": "text"
      },
      "source": [
        "Print out the fourth label "
      ]
    },
    {
      "cell_type": "code",
      "metadata": {
        "id": "msLQu9O1ESKi",
        "colab_type": "code",
        "colab": {
          "base_uri": "https://localhost:8080/",
          "height": 34
        },
        "outputId": "c008d872-8700-4813-8447-6453d5a3023f"
      },
      "source": [
        "# The label for the fourth data element\n",
        "\n",
        "train_dataset[3][1]"
      ],
      "execution_count": 13,
      "outputs": [
        {
          "output_type": "execute_result",
          "data": {
            "text/plain": [
              "1"
            ]
          },
          "metadata": {
            "tags": []
          },
          "execution_count": 13
        }
      ]
    },
    {
      "cell_type": "markdown",
      "metadata": {
        "id": "64zC0AJvESKk",
        "colab_type": "text"
      },
      "source": [
        "Plot the fourth sample "
      ]
    },
    {
      "cell_type": "code",
      "metadata": {
        "id": "h6eL9PAZESKk",
        "colab_type": "code",
        "colab": {
          "base_uri": "https://localhost:8080/",
          "height": 281
        },
        "outputId": "1bed04b5-e8b6-4795-8ba7-cc11f673ef68"
      },
      "source": [
        "# The image for the fourth data element\n",
        "\n",
        "show_data(train_dataset[3])"
      ],
      "execution_count": 14,
      "outputs": [
        {
          "output_type": "display_data",
          "data": {
            "image/png": "[encoded data removed]",
            "text/plain": [
              "<Figure size 432x288 with 1 Axes>"
            ]
          },
          "metadata": {
            "tags": [],
            "needs_background": "light"
          }
        }
      ]
    },
    {
      "cell_type": "markdown",
      "metadata": {
        "id": "sO5LVtuNESKm",
        "colab_type": "text"
      },
      "source": [
        "The fourth sample is a \"1\"."
      ]
    },
    {
      "cell_type": "markdown",
      "metadata": {
        "id": "6bt1x_83ESKm",
        "colab_type": "text"
      },
      "source": [
        "<!--Empty Space for separating topics-->"
      ]
    },
    {
      "cell_type": "markdown",
      "metadata": {
        "id": "fEuuuWKhESKn",
        "colab_type": "text"
      },
      "source": [
        "<h2 id=\"CNN\">Build a Convolutional Neural Network Class</h2>"
      ]
    },
    {
      "cell_type": "markdown",
      "metadata": {
        "id": "kqazqYxHESKn",
        "colab_type": "text"
      },
      "source": [
        "Build a Convolutional Network class with two Convolutional layers and one fully connected layer. Pre-determine the size of the final output matrix. The parameters in the constructor are the number of output channels for the first and second layer."
      ]
    },
    {
      "cell_type": "code",
      "metadata": {
        "id": "XkqJYzq_ESKn",
        "colab_type": "code",
        "colab": {}
      },
      "source": [
        "# Build the convolutional Neural Network Class\n",
        "\n",
        "class CNN(nn.Module):\n",
        "    \n",
        "    # Contructor\n",
        "    def __init__(self, out_1=16, out_2=32):\n",
        "        super(CNN, self).__init__()\n",
        "        self.cnn1 = nn.Conv2d(in_channels=1, out_channels=out_1, kernel_size=3, stride=1, padding=1)\n",
        "        self.relu1 = nn.ReLU()\n",
        "        self.maxpool1 = nn.MaxPool2d(kernel_size=2)\n",
        "        self.cnn2 = nn.Conv2d(in_channels=out_1, out_channels=out_2, kernel_size=3, stride=1, padding=1)\n",
        "        self.relu2 = nn.ReLU()\n",
        "        self.maxpool2 = nn.MaxPool2d(kernel_size=2)\n",
        "        self.fc1 = nn.Linear(out_2 * 2 * 2, 10)\n",
        "    \n",
        "    # Prediction\n",
        "    def forward(self, x):\n",
        "        out = self.cnn1(x)\n",
        "        out = self.relu1(out)\n",
        "        out = self.maxpool1(out)\n",
        "        out = self.cnn2(out)\n",
        "        out = self.relu2(out)\n",
        "        out = self.maxpool2(out)\n",
        "        out = out.view(out.size(0), -1)\n",
        "        #print(out.shape[1]) # Number of input neurons i.e 128\n",
        "        out = self.fc1(out)\n",
        "        return out\n",
        "    \n",
        "    # Outputs in each steps\n",
        "    def activations(self, x):\n",
        "        #outputs activation this is not necessary\n",
        "        z1 = self.cnn1(x)\n",
        "        a1 = self.relu1(z1)\n",
        "        out = self.maxpool1(a1)\n",
        "        \n",
        "        z2 = self.cnn2(out)\n",
        "        a2 = self.relu2(z2)\n",
        "        out = self.maxpool2(a2)\n",
        "        out = out.view(out.size(0),-1)\n",
        "        return z1, a1, z2, a2, out"
      ],
      "execution_count": 0,
      "outputs": []
    },
    {
      "cell_type": "markdown",
      "metadata": {
        "id": "Ro6lJz-oESKp",
        "colab_type": "text"
      },
      "source": [
        "<!--Empty Space for separating topics-->"
      ]
    },
    {
      "cell_type": "markdown",
      "metadata": {
        "id": "ld5kn463ESKq",
        "colab_type": "text"
      },
      "source": [
        "<h2 id=\"Train\">Define the Convolutional Neural Network Classifier, Criterion function, Optimizer and Train the Model</h2> "
      ]
    },
    {
      "cell_type": "markdown",
      "metadata": {
        "id": "PpiajEaVESKq",
        "colab_type": "text"
      },
      "source": [
        "There are 16 output channels for the first layer, and 32 output channels for the second layer "
      ]
    },
    {
      "cell_type": "code",
      "metadata": {
        "id": "AFP4qdv5ESKq",
        "colab_type": "code",
        "colab": {}
      },
      "source": [
        "# Create the model object using CNN class\n",
        "\n",
        "model = CNN(out_1=16, out_2=32)"
      ],
      "execution_count": 0,
      "outputs": []
    },
    {
      "cell_type": "markdown",
      "metadata": {
        "id": "a2eB64gAESKt",
        "colab_type": "text"
      },
      "source": [
        "Plot the model parameters for the kernels before training the kernels. The kernels are initialized randomly."
      ]
    },
    {
      "cell_type": "code",
      "metadata": {
        "id": "D6-Mq6U6ESKt",
        "colab_type": "code",
        "colab": {
          "base_uri": "https://localhost:8080/",
          "height": 562
        },
        "outputId": "041f68b5-a740-446a-882a-66b63f851df2"
      },
      "source": [
        "# Plot the parameters\n",
        "\n",
        "plot_parameters(model.state_dict()['cnn1.weight'], number_rows=4, name=\"1st layer kernels before training \")\n",
        "plot_parameters(model.state_dict()['cnn2.weight'], number_rows=4, name='2nd layer kernels before training' )"
      ],
      "execution_count": 23,
      "outputs": [
        {
          "output_type": "display_data",
          "data": {
            "image/png": "[encoded data removed]",
            "text/plain": [
              "<Figure size 432x288 with 16 Axes>"
            ]
          },
          "metadata": {
            "tags": []
          }
        },
        {
          "output_type": "display_data",
          "data": {
            "image/png": "[encoded data removed]",
            "text/plain": [
              "<Figure size 432x288 with 32 Axes>"
            ]
          },
          "metadata": {
            "tags": []
          }
        }
      ]
    },
    {
      "cell_type": "markdown",
      "metadata": {
        "id": "-R7JUtL2ESKw",
        "colab_type": "text"
      },
      "source": [
        "Define the loss function, the optimizer and the dataset loader "
      ]
    },
    {
      "cell_type": "code",
      "metadata": {
        "id": "iyJQHDGSESKw",
        "colab_type": "code",
        "colab": {}
      },
      "source": [
        "criterion = nn.CrossEntropyLoss()\n",
        "learning_rate = 0.1\n",
        "optimizer = torch.optim.SGD(model.parameters(), lr=learning_rate)\n",
        "train_loader = torch.utils.data.DataLoader(dataset=train_dataset, batch_size=100)\n",
        "validation_loader = torch.utils.data.DataLoader(dataset=validation_dataset, batch_size=5000)"
      ],
      "execution_count": 0,
      "outputs": []
    },
    {
      "cell_type": "markdown",
      "metadata": {
        "id": "0IK9bz1dESKy",
        "colab_type": "text"
      },
      "source": [
        "Train the model and determine validation accuracy technically test accuracy **(This may take a long time)**"
      ]
    },
    {
      "cell_type": "code",
      "metadata": {
        "id": "GD9n2n4WESKy",
        "colab_type": "code",
        "colab": {}
      },
      "source": [
        "# Train the model\n",
        "\n",
        "n_epochs = 3\n",
        "loss_list = []\n",
        "accuracy_list = []\n",
        "N_test = len(validation_dataset)\n",
        "\n",
        "def train_model(n_epochs):\n",
        "    for epoch in range(n_epochs):\n",
        "        for x, y in train_loader:\n",
        "            optimizer.zero_grad()\n",
        "            z = model(x)\n",
        "            loss = criterion(z, y)\n",
        "            loss.backward()\n",
        "            optimizer.step()\n",
        "            \n",
        "        correct=0\n",
        "        #perform a prediction on the validation  data  \n",
        "        for x_test, y_test in validation_loader:\n",
        "            z = model(x_test)\n",
        "            _, yhat = torch.max(z.data, 1)\n",
        "            correct += (yhat == y_test).sum().item()\n",
        "        accuracy = correct / N_test\n",
        "        accuracy_list.append(accuracy)\n",
        "        loss_list.append(loss.data)\n",
        "        \n",
        "train_model(n_epochs)"
      ],
      "execution_count": 0,
      "outputs": []
    },
    {
      "cell_type": "markdown",
      "metadata": {
        "id": "YlNRoucKESK0",
        "colab_type": "text"
      },
      "source": [
        "<!--Empty Space for separating topics-->"
      ]
    },
    {
      "cell_type": "markdown",
      "metadata": {
        "id": "cE4U4YaJESK0",
        "colab_type": "text"
      },
      "source": [
        "<h2 id=\"Result\">Analyze Results</h2> "
      ]
    },
    {
      "cell_type": "markdown",
      "metadata": {
        "id": "_Alos3NrESK1",
        "colab_type": "text"
      },
      "source": [
        "Plot the loss and accuracy on the validation data:"
      ]
    },
    {
      "cell_type": "code",
      "metadata": {
        "id": "VdfkzJiRESK1",
        "colab_type": "code",
        "colab": {
          "base_uri": "https://localhost:8080/",
          "height": 297
        },
        "outputId": "7576461e-3532-4348-c7c7-26460e7bba42"
      },
      "source": [
        "# Plot the loss and accuracy\n",
        "\n",
        "fig, ax1 = plt.subplots()\n",
        "color = 'tab:red'\n",
        "ax1.plot(loss_list, color=color)\n",
        "ax1.set_xlabel('epoch', color=color)\n",
        "ax1.set_ylabel('total loss', color=color)\n",
        "ax1.tick_params(axis='y', color=color)\n",
        "    \n",
        "ax2 = ax1.twinx()  \n",
        "color = 'tab:blue'\n",
        "ax2.set_ylabel('accuracy', color=color)  \n",
        "ax2.plot( accuracy_list, color=color)\n",
        "ax2.tick_params(axis='y', color=color)\n",
        "fig.tight_layout()"
      ],
      "execution_count": 26,
      "outputs": [
        {
          "output_type": "display_data",
          "data": {
            "image/png": "[encoded data removed]",
            "text/plain": [
              "<Figure size 432x288 with 2 Axes>"
            ]
          },
          "metadata": {
            "tags": [],
            "needs_background": "light"
          }
        }
      ]
    },
    {
      "cell_type": "markdown",
      "metadata": {
        "id": "Re6dDUD1ESK3",
        "colab_type": "text"
      },
      "source": [
        "View the results of the parameters for the Convolutional layers "
      ]
    },
    {
      "cell_type": "code",
      "metadata": {
        "id": "fdhHvjgBESK3",
        "colab_type": "code",
        "colab": {
          "base_uri": "https://localhost:8080/",
          "height": 487
        },
        "outputId": "1281ba51-d8e3-42ca-9636-fffd25c0cc03"
      },
      "source": [
        "# Plot the channels\n",
        "\n",
        "plot_channels(model.state_dict()['cnn1.weight'])\n",
        "plot_channels(model.state_dict()['cnn2.weight'])"
      ],
      "execution_count": 27,
      "outputs": [
        {
          "output_type": "display_data",
          "data": {
            "image/png": "[encoded data removed]",
            "text/plain": [
              "<Figure size 432x288 with 16 Axes>"
            ]
          },
          "metadata": {
            "tags": [],
            "needs_background": "light"
          }
        },
        {
          "output_type": "display_data",
          "data": {
            "image/png": "[encoded data removed]",
            "text/plain": [
              "<Figure size 432x288 with 512 Axes>"
            ]
          },
          "metadata": {
            "tags": [],
            "needs_background": "light"
          }
        }
      ]
    },
    {
      "cell_type": "markdown",
      "metadata": {
        "id": "kNmAXNMtESK6",
        "colab_type": "text"
      },
      "source": [
        "Consider the following sample "
      ]
    },
    {
      "cell_type": "code",
      "metadata": {
        "id": "ECbLZnH4ESK6",
        "colab_type": "code",
        "colab": {
          "base_uri": "https://localhost:8080/",
          "height": 281
        },
        "outputId": "4fe838f9-29c8-48c3-f35f-897679c7605c"
      },
      "source": [
        "# Show the second image\n",
        "\n",
        "show_data(train_dataset[1])"
      ],
      "execution_count": 28,
      "outputs": [
        {
          "output_type": "display_data",
          "data": {
            "image/png": "[encoded data removed]",
            "text/plain": [
              "<Figure size 432x288 with 1 Axes>"
            ]
          },
          "metadata": {
            "tags": [],
            "needs_background": "light"
          }
        }
      ]
    },
    {
      "cell_type": "markdown",
      "metadata": {
        "id": "WkkFpPYeESK8",
        "colab_type": "text"
      },
      "source": [
        "Determine the activations "
      ]
    },
    {
      "cell_type": "code",
      "metadata": {
        "id": "humwYAaJESK8",
        "colab_type": "code",
        "colab": {}
      },
      "source": [
        "# Use the CNN activations class to see the steps\n",
        "\n",
        "out = model.activations(train_dataset[1][0].view(1, 1, IMAGE_SIZE, IMAGE_SIZE))"
      ],
      "execution_count": 0,
      "outputs": []
    },
    {
      "cell_type": "markdown",
      "metadata": {
        "id": "1NzYjJ7zESK9",
        "colab_type": "text"
      },
      "source": [
        "Plot out the first set of activations "
      ]
    },
    {
      "cell_type": "code",
      "metadata": {
        "id": "-4amAktvESK-",
        "colab_type": "code",
        "colab": {
          "base_uri": "https://localhost:8080/",
          "height": 262
        },
        "outputId": "cd13ca84-9e9b-4a00-89f7-e745ea56ac77"
      },
      "source": [
        "# Plot the outputs after the first CNN\n",
        "\n",
        "plot_activations(out[0], number_rows=4, name=\"Output after the 1st CNN\")"
      ],
      "execution_count": 30,
      "outputs": [
        {
          "output_type": "display_data",
          "data": {
            "image/png": "[encoded data removed]",
            "text/plain": [
              "<Figure size 432x288 with 16 Axes>"
            ]
          },
          "metadata": {
            "tags": []
          }
        }
      ]
    },
    {
      "cell_type": "markdown",
      "metadata": {
        "id": "qPa_paN5ESLA",
        "colab_type": "text"
      },
      "source": [
        "The image below is the result after applying the relu activation function "
      ]
    },
    {
      "cell_type": "code",
      "metadata": {
        "id": "8kPAXVCxESLA",
        "colab_type": "code",
        "colab": {
          "base_uri": "https://localhost:8080/",
          "height": 262
        },
        "outputId": "68cef1eb-9c1c-4f66-eef8-327cf6f07303"
      },
      "source": [
        "# Plot the outputs after the first Relu\n",
        "\n",
        "plot_activations(out[1], number_rows=4, name=\"Output after the 1st Relu\")"
      ],
      "execution_count": 31,
      "outputs": [
        {
          "output_type": "display_data",
          "data": {
            "image/png": "[encoded data removed]",
            "text/plain": [
              "<Figure size 432x288 with 16 Axes>"
            ]
          },
          "metadata": {
            "tags": []
          }
        }
      ]
    },
    {
      "cell_type": "markdown",
      "metadata": {
        "id": "aCyGiNJ6ESLB",
        "colab_type": "text"
      },
      "source": [
        "The image below is the result of the activation map after the second output layer."
      ]
    },
    {
      "cell_type": "code",
      "metadata": {
        "id": "8rIybruVESLC",
        "colab_type": "code",
        "colab": {
          "base_uri": "https://localhost:8080/",
          "height": 262
        },
        "outputId": "31108588-5eef-44ff-fbe0-b91f44582257"
      },
      "source": [
        "# Plot the outputs after the second CNN\n",
        "\n",
        "plot_activations(out[2], number_rows=32 // 4, name=\"Output after the 2nd CNN\")"
      ],
      "execution_count": 32,
      "outputs": [
        {
          "output_type": "display_data",
          "data": {
            "image/png": "[encoded data removed]",
            "text/plain": [
              "<Figure size 432x288 with 32 Axes>"
            ]
          },
          "metadata": {
            "tags": []
          }
        }
      ]
    },
    {
      "cell_type": "markdown",
      "metadata": {
        "id": "r8XjBcGQESLE",
        "colab_type": "text"
      },
      "source": [
        "The image below is the result of the activation map after applying the second relu  "
      ]
    },
    {
      "cell_type": "code",
      "metadata": {
        "id": "d3w6kIl1ESLE",
        "colab_type": "code",
        "colab": {
          "base_uri": "https://localhost:8080/",
          "height": 256
        },
        "outputId": "31ffe0fb-df9b-43e8-a7eb-53b20f110e8c"
      },
      "source": [
        "# Plot the outputs after the second Relu\n",
        "\n",
        "plot_activations(out[3], number_rows=4, name=\"Output after the 2nd Relu\")"
      ],
      "execution_count": 33,
      "outputs": [
        {
          "output_type": "display_data",
          "data": {
            "image/png": "[encoded data removed]",
            "text/plain": [
              "<Figure size 432x288 with 32 Axes>"
            ]
          },
          "metadata": {
            "tags": []
          }
        }
      ]
    },
    {
      "cell_type": "markdown",
      "metadata": {
        "id": "gAnQ2BhCESLG",
        "colab_type": "text"
      },
      "source": [
        "We can  see the result for the third sample "
      ]
    },
    {
      "cell_type": "code",
      "metadata": {
        "id": "_qCD96izESLG",
        "colab_type": "code",
        "colab": {
          "base_uri": "https://localhost:8080/",
          "height": 281
        },
        "outputId": "da739912-c6ec-4e5d-98d0-6a4f5b2943c8"
      },
      "source": [
        "# Show the third image\n",
        "\n",
        "show_data(train_dataset[2])"
      ],
      "execution_count": 34,
      "outputs": [
        {
          "output_type": "display_data",
          "data": {
            "image/png": "[encoded data removed]",
            "text/plain": [
              "<Figure size 432x288 with 1 Axes>"
            ]
          },
          "metadata": {
            "tags": [],
            "needs_background": "light"
          }
        }
      ]
    },
    {
      "cell_type": "code",
      "metadata": {
        "id": "NwPH4KY1ESLI",
        "colab_type": "code",
        "colab": {}
      },
      "source": [
        "# Use the CNN activations class to see the steps\n",
        "\n",
        "out = model.activations(train_dataset[2][0].view(1, 1, IMAGE_SIZE, IMAGE_SIZE))"
      ],
      "execution_count": 0,
      "outputs": []
    },
    {
      "cell_type": "code",
      "metadata": {
        "id": "OHBxxbaoESLJ",
        "colab_type": "code",
        "colab": {
          "base_uri": "https://localhost:8080/",
          "height": 262
        },
        "outputId": "36caaf89-85ff-4e52-d818-e8ba70f91ba6"
      },
      "source": [
        "# Plot the outputs after the first CNN\n",
        "\n",
        "plot_activations(out[0], number_rows=4, name=\"Output after the 1st CNN\")"
      ],
      "execution_count": 36,
      "outputs": [
        {
          "output_type": "display_data",
          "data": {
            "image/png": "[encoded data removed]",
            "text/plain": [
              "<Figure size 432x288 with 16 Axes>"
            ]
          },
          "metadata": {
            "tags": []
          }
        }
      ]
    },
    {
      "cell_type": "code",
      "metadata": {
        "id": "I-aXFGKdESLL",
        "colab_type": "code",
        "colab": {
          "base_uri": "https://localhost:8080/",
          "height": 262
        },
        "outputId": "454d8536-47af-4f89-d7cc-47dccee2bb78"
      },
      "source": [
        "# Plot the outputs after the first Relu\n",
        "\n",
        "plot_activations(out[1], number_rows=4, name=\"Output after the 1st Relu\")"
      ],
      "execution_count": 37,
      "outputs": [
        {
          "output_type": "display_data",
          "data": {
            "image/png": "[encoded data removed]",
            "text/plain": [
              "<Figure size 432x288 with 16 Axes>"
            ]
          },
          "metadata": {
            "tags": []
          }
        }
      ]
    },
    {
      "cell_type": "code",
      "metadata": {
        "id": "ONeRNtEDESLM",
        "colab_type": "code",
        "colab": {
          "base_uri": "https://localhost:8080/",
          "height": 262
        },
        "outputId": "d0b948d5-71c2-4e45-dd8d-1198eee9aa29"
      },
      "source": [
        "# Plot the outputs after the second CNN\n",
        "\n",
        "plot_activations(out[2], number_rows=32 // 4, name=\"Output after the 2nd CNN\")"
      ],
      "execution_count": 38,
      "outputs": [
        {
          "output_type": "display_data",
          "data": {
            "image/png": "[encoded data removed]",
            "text/plain": [
              "<Figure size 432x288 with 32 Axes>"
            ]
          },
          "metadata": {
            "tags": []
          }
        }
      ]
    },
    {
      "cell_type": "code",
      "metadata": {
        "id": "CC6MnKd3ESLO",
        "colab_type": "code",
        "colab": {
          "base_uri": "https://localhost:8080/",
          "height": 256
        },
        "outputId": "08af411b-180d-4e44-e9db-45525a379e3e"
      },
      "source": [
        "# Plot the outputs after the second Relu\n",
        "\n",
        "plot_activations(out[3], number_rows=4, name=\"Output after the 2nd Relu\")"
      ],
      "execution_count": 39,
      "outputs": [
        {
          "output_type": "display_data",
          "data": {
            "image/png": "[encoded data removed]",
            "text/plain": [
              "<Figure size 432x288 with 32 Axes>"
            ]
          },
          "metadata": {
            "tags": []
          }
        }
      ]
    },
    {
      "cell_type": "markdown",
      "metadata": {
        "id": "OCf4R7x5ESLQ",
        "colab_type": "text"
      },
      "source": [
        "Plot the first five mis-classified samples:"
      ]
    },
    {
      "cell_type": "code",
      "metadata": {
        "id": "Ru2mbKp8ESLR",
        "colab_type": "code",
        "colab": {
          "base_uri": "https://localhost:8080/",
          "height": 1000
        },
        "outputId": "6fdcc6ea-9b86-46bb-ff14-8227f6da42ed"
      },
      "source": [
        "# Plot the mis-classified samples\n",
        "\n",
        "count = 0\n",
        "for x, y in torch.utils.data.DataLoader(dataset=validation_dataset, batch_size=1):\n",
        "    z = model(x)\n",
        "    _, yhat = torch.max(z, 1)\n",
        "    if yhat != y:\n",
        "        show_data((x, y))\n",
        "        plt.show()\n",
        "        print(\"yhat: \",yhat)\n",
        "        count += 1\n",
        "    if count >= 5:\n",
        "        break  "
      ],
      "execution_count": 40,
      "outputs": [
        {
          "output_type": "display_data",
          "data": {
            "image/png": "[encoded data removed]",
            "text/plain": [
              "<Figure size 432x288 with 1 Axes>"
            ]
          },
          "metadata": {
            "tags": [],
            "needs_background": "light"
          }
        },
        {
          "output_type": "stream",
          "text": [
            "yhat:  tensor([6])\n"
          ],
          "name": "stdout"
        },
        {
          "output_type": "display_data",
          "data": {
            "image/png": "[encoded data removed]",
            "text/plain": [
              "<Figure size 432x288 with 1 Axes>"
            ]
          },
          "metadata": {
            "tags": [],
            "needs_background": "light"
          }
        },
        {
          "output_type": "stream",
          "text": [
            "yhat:  tensor([9])\n"
          ],
          "name": "stdout"
        },
        {
          "output_type": "display_data",
          "data": {
            "image/png": "[encoded data removed]",
            "text/plain": [
              "<Figure size 432x288 with 1 Axes>"
            ]
          },
          "metadata": {
            "tags": [],
            "needs_background": "light"
          }
        },
        {
          "output_type": "stream",
          "text": [
            "yhat:  tensor([4])\n"
          ],
          "name": "stdout"
        },
        {
          "output_type": "display_data",
          "data": {
            "image/png": "[encoded data removed]",
            "text/plain": [
              "<Figure size 432x288 with 1 Axes>"
            ]
          },
          "metadata": {
            "tags": [],
            "needs_background": "light"
          }
        },
        {
          "output_type": "stream",
          "text": [
            "yhat:  tensor([9])\n"
          ],
          "name": "stdout"
        },
        {
          "output_type": "display_data",
          "data": {
            "image/png": "[encoded data removed]",
            "text/plain": [
              "<Figure size 432x288 with 1 Axes>"
            ]
          },
          "metadata": {
            "tags": [],
            "needs_background": "light"
          }
        },
        {
          "output_type": "stream",
          "text": [
            "yhat:  tensor([7])\n"
          ],
          "name": "stdout"
        }
      ]
    },
    {
      "cell_type": "markdown",
      "metadata": {
        "id": "jwFmqLCqESLT",
        "colab_type": "text"
      },
      "source": [
        "<!--Empty Space for separating topics-->"
      ]
    },
    {
      "cell_type": "markdown",
      "metadata": {
        "id": "tq1ZVbwyESLV",
        "colab_type": "text"
      },
      "source": [
        "<a href=\"http://cocl.us/NotebooksPython101bottom\">\n",
        "    <img src=\"https://ibm.box.com/shared/static/irypdxea2q4th88zu1o1tsd06dya10go.png\" width=\"750\" alt=\"course Python 101\"/>\n",
        "</a>"
      ]
    },
    {
      "cell_type": "markdown",
      "metadata": {
        "id": "QJrWGzFsESLW",
        "colab_type": "text"
      },
      "source": [
        "<h2>About the Authors:</h2> \n",
        "\n",
        "<a href=\"https://www.linkedin.com/in/joseph-s-50398b136/\">Joseph Santarcangelo</a> has a PhD in Electrical Engineering, his research focused on using machine learning, signal processing, and computer vision to determine how videos impact human cognition. Joseph has been working for IBM since he completed his PhD."
      ]
    },
    {
      "cell_type": "markdown",
      "metadata": {
        "id": "Svf1w_S4ESLW",
        "colab_type": "text"
      },
      "source": [
        "Other contributors: <a href=\"https://www.linkedin.com/in/michelleccarey/\">Michelle Carey</a>, <a href=\"www.linkedin.com/in/jiahui-mavis-zhou-a4537814a\">Mavis Zhou</a>"
      ]
    },
    {
      "cell_type": "markdown",
      "metadata": {
        "id": "iFJ7K7AIESLW",
        "colab_type": "text"
      },
      "source": [
        "Thanks to Magnus <a href=\"http://www.hvass-labs.org/\">Erik Hvass Pedersen</a> whose tutorials helped me understand convolutional Neural Network"
      ]
    },
    {
      "cell_type": "markdown",
      "metadata": {
        "id": "GLpAGZZQESLW",
        "colab_type": "text"
      },
      "source": [
        "<hr>"
      ]
    },
    {
      "cell_type": "markdown",
      "metadata": {
        "id": "HjAJwVLbESLX",
        "colab_type": "text"
      },
      "source": [
        "Copyright &copy; 2018 <a href=\"cognitiveclass.ai?utm_source=bducopyrightlink&utm_medium=dswb&utm_campaign=bdu\">cognitiveclass.ai</a>. This notebook and its source code are released under the terms of the <a href=\"https://bigdatauniversity.com/mit-license/\">MIT License</a>."
      ]
    }
  ]
}