{
  "nbformat": 4,
  "nbformat_minor": 0,
  "metadata": {
    "kernelspec": {
      "display_name": "Python 3",
      "language": "python",
      "name": "python3"
    },
    "language_info": {
      "codemirror_mode": {
        "name": "ipython",
        "version": 3
      },
      "file_extension": ".py",
      "mimetype": "text/x-python",
      "name": "python",
      "nbconvert_exporter": "python",
      "pygments_lexer": "ipython3",
      "version": "3.6.6"
    },
    "colab": {
      "name": "6.1.1What is Convolution.ipynb",
      "provenance": []
    }
  },
  "cells": [
    {
      "cell_type": "markdown",
      "metadata": {
        "id": "kr8gJZE6O8iy",
        "colab_type": "text"
      },
      "source": [
        "<a href=\"http://cocl.us/pytorch_link_top\">\n",
        "    <img src=\"https://s3-api.us-geo.objectstorage.softlayer.net/cf-courses-data/CognitiveClass/DL0110EN/notebook_images%20/Pytochtop.png\" width=\"750\" alt=\"IBM Product \" />\n",
        "</a> "
      ]
    },
    {
      "cell_type": "markdown",
      "metadata": {
        "id": "Hio4hZovO8iz",
        "colab_type": "text"
      },
      "source": [
        "<img src=\"https://s3-api.us-geo.objectstorage.softlayer.net/cf-courses-data/CognitiveClass/DL0110EN/notebook_images%20/cc-logo-square.png\" width=\"200\" alt=\"cognitiveclass.ai logo\" />\n",
        "\n",
        "<h1 align=center><font size = 5>What's Convolution </h1 >"
      ]
    },
    {
      "cell_type": "markdown",
      "metadata": {
        "id": "oIS-zdZHO8iz",
        "colab_type": "text"
      },
      "source": [
        "\n",
        "# Table of Contents\n",
        "In this lab, you will study convolution and review how the different operations change the relationship between input and output.\n",
        "\n",
        "<div class=\"alert alert-block alert-info\" style=\"margin-top: 20px\">\n",
        "<li><a href=\"#ref0\">What is Convolution  </a></li>\n",
        "\n",
        "<li><a href=\"#ref1\">Determining  the Size of Output</a></li>\n",
        "<li><a href=\"#ref2\">Stride</a></li>\n",
        "<li><a href=\"#ref3\">Zero Padding </a></li>\n",
        "<li><a href=\"#ref4\">Practice Questions </a></li>\n",
        "\n",
        "<br>\n",
        "<p></p>\n",
        "Estimated Time Needed: <strong>25 min</strong>\n",
        "</div>\n",
        "\n",
        "<hr>"
      ]
    },
    {
      "cell_type": "markdown",
      "metadata": {
        "id": "-fgaiaD1O8i0",
        "colab_type": "text"
      },
      "source": [
        "Import the following libraries: "
      ]
    },
    {
      "cell_type": "code",
      "metadata": {
        "id": "Rl-fuAvAO8i1",
        "colab_type": "code",
        "colab": {}
      },
      "source": [
        "import torch \n",
        "import torch.nn as nn\n",
        "import matplotlib.pyplot as plt\n",
        "import numpy as np\n",
        "from scipy import ndimage, misc"
      ],
      "execution_count": 0,
      "outputs": []
    },
    {
      "cell_type": "markdown",
      "metadata": {
        "id": "dHqFRjbPO8i5",
        "colab_type": "text"
      },
      "source": [
        "<a id=\"ref0\"></a>\n",
        "<h2 align=center>What is Convolution?</h2>"
      ]
    },
    {
      "cell_type": "markdown",
      "metadata": {
        "id": "j__embwvO8i5",
        "colab_type": "text"
      },
      "source": [
        "Convolution is a linear operation similar to a linear equation, dot product, or matrix multiplication. Convolution has several advantages for analyzing images. As discussed in the video, convolution preserves the relationship between elements, and it requires fewer parameters than other methods.  "
      ]
    },
    {
      "cell_type": "markdown",
      "metadata": {
        "id": "LjCDw5UwO8i6",
        "colab_type": "text"
      },
      "source": [
        "You can see the relationship between the different methods that you learned:\n",
        "\n",
        "$linear \\ equation :y=wx+b$\n",
        "\n",
        "$linear\\ equation\\ with\\ multiple \\ variables \\ where \\ \\mathbf{x} \\ is \\ a \\ vector \\ \\mathbf{y}=\\mathbf{wx}+b$\n",
        "\n",
        "$ \\ matrix\\ multiplication \\ where \\ \\mathbf{X} \\ in \\ a \\ matrix \\ \\mathbf{y}=\\mathbf{wX}+\\mathbf{b} $\n",
        "\n",
        "$\\ convolution \\ where \\ \\mathbf{X} \\ and \\ \\mathbf{Y} \\ is \\ a \\ tensor \\  \\mathbf{Y}=\\mathbf{w}*\\mathbf{X}+\\mathbf{b}$"
      ]
    },
    {
      "cell_type": "markdown",
      "metadata": {
        "id": "XqaMYr0iO8i6",
        "colab_type": "text"
      },
      "source": [
        "In convolution, the parameter <b>w</b> is called a kernel. You can perform convolution on images where you let the variable image denote the variable X and w denote the parameter."
      ]
    },
    {
      "cell_type": "markdown",
      "metadata": {
        "id": "ptJ18j97O8i7",
        "colab_type": "text"
      },
      "source": [
        "<img src = \"https://s3-api.us-geo.objectstorage.softlayer.net/cf-courses-data/CognitiveClass/DL0110EN/notebook_images%20/chapter%206/6.1.1xw.png\" width = 500, align = \"center\">"
      ]
    },
    {
      "cell_type": "markdown",
      "metadata": {
        "id": "gR229FKoO8i8",
        "colab_type": "text"
      },
      "source": [
        "Create a two-dimensional convolution object by using the constructor Conv2d, the parameter <code>in_channels</code> and <code>out_channels</code> will be used for this section, and the parameter kernel_size will be three.\n"
      ]
    },
    {
      "cell_type": "code",
      "metadata": {
        "id": "ZT0WnXzsO8i8",
        "colab_type": "code",
        "colab": {
          "base_uri": "https://localhost:8080/",
          "height": 34
        },
        "outputId": "639d829d-bba9-443d-97c8-7bc6d35960b2"
      },
      "source": [
        "conv = nn.Conv2d(in_channels=1, out_channels=1,kernel_size=3)\n",
        "conv"
      ],
      "execution_count": 2,
      "outputs": [
        {
          "output_type": "execute_result",
          "data": {
            "text/plain": [
              "Conv2d(1, 1, kernel_size=(3, 3), stride=(1, 1))"
            ]
          },
          "metadata": {
            "tags": []
          },
          "execution_count": 2
        }
      ]
    },
    {
      "cell_type": "markdown",
      "metadata": {
        "id": "slnj2E8hO8i_",
        "colab_type": "text"
      },
      "source": [
        "Because the parameters in <code>nn.Conv2d</code> are randomly initialized and learned through training, give them some values."
      ]
    },
    {
      "cell_type": "code",
      "metadata": {
        "id": "uJ3RBmOJO8i_",
        "colab_type": "code",
        "colab": {
          "base_uri": "https://localhost:8080/",
          "height": 68
        },
        "outputId": "3fd56645-e534-46f1-f5a5-48e1b958f749"
      },
      "source": [
        "conv.state_dict()['weight'][0][0]=torch.tensor([[1.0,0,-1.0],[2.0,0,-2.0],[1.0,0.0,-1.0]])\n",
        "conv.state_dict()['bias'][0]=0.0\n",
        "conv.state_dict()"
      ],
      "execution_count": 3,
      "outputs": [
        {
          "output_type": "execute_result",
          "data": {
            "text/plain": [
              "OrderedDict([('weight', tensor([[[[ 1.,  0., -1.],\n",
              "                        [ 2.,  0., -2.],\n",
              "                        [ 1.,  0., -1.]]]])), ('bias', tensor([0.]))])"
            ]
          },
          "metadata": {
            "tags": []
          },
          "execution_count": 3
        }
      ]
    },
    {
      "cell_type": "markdown",
      "metadata": {
        "id": "3_DcsU2zO8jC",
        "colab_type": "text"
      },
      "source": [
        "Create a dummy tensor to represent an image. The shape of the image is (1,1,5,5) where:\n",
        "\n",
        "(number of inputs, number of channels, number of rows, number of columns ) \n",
        "\n",
        "Set the third column to 1:"
      ]
    },
    {
      "cell_type": "code",
      "metadata": {
        "id": "UL-cEbIpO8jD",
        "colab_type": "code",
        "colab": {
          "base_uri": "https://localhost:8080/",
          "height": 102
        },
        "outputId": "c59880d4-d3b2-43c4-ff67-17121235134e"
      },
      "source": [
        "image=torch.zeros(1,1,5,5)\n",
        "image[0,0,:,2]=1\n",
        "image"
      ],
      "execution_count": 4,
      "outputs": [
        {
          "output_type": "execute_result",
          "data": {
            "text/plain": [
              "tensor([[[[0., 0., 1., 0., 0.],\n",
              "          [0., 0., 1., 0., 0.],\n",
              "          [0., 0., 1., 0., 0.],\n",
              "          [0., 0., 1., 0., 0.],\n",
              "          [0., 0., 1., 0., 0.]]]])"
            ]
          },
          "metadata": {
            "tags": []
          },
          "execution_count": 4
        }
      ]
    },
    {
      "cell_type": "markdown",
      "metadata": {
        "id": "RkM49qOXO8jF",
        "colab_type": "text"
      },
      "source": [
        "Call the object <code>conv</code> on the tensor <code>image</code> as an input to perform the convolution and assign the result to the tensor <code>z</code>. "
      ]
    },
    {
      "cell_type": "code",
      "metadata": {
        "id": "mSZBDPZMO8jG",
        "colab_type": "code",
        "colab": {
          "base_uri": "https://localhost:8080/",
          "height": 68
        },
        "outputId": "70cbce3c-4b0b-4431-baaf-7ea8d8cfdfaa"
      },
      "source": [
        "z=conv(image)\n",
        "z"
      ],
      "execution_count": 5,
      "outputs": [
        {
          "output_type": "execute_result",
          "data": {
            "text/plain": [
              "tensor([[[[-4.,  0.,  4.],\n",
              "          [-4.,  0.,  4.],\n",
              "          [-4.,  0.,  4.]]]], grad_fn=<MkldnnConvolutionBackward>)"
            ]
          },
          "metadata": {
            "tags": []
          },
          "execution_count": 5
        }
      ]
    },
    {
      "cell_type": "markdown",
      "metadata": {
        "id": "p8r0hOLsO8jJ",
        "colab_type": "text"
      },
      "source": [
        "The following animation illustrates the process, the kernel performs at the element-level multiplication on every element in the image in the corresponding region. The values are then added together. The kernel is then shifted and the process is repeated. "
      ]
    },
    {
      "cell_type": "markdown",
      "metadata": {
        "id": "8DWBzRZhO8jK",
        "colab_type": "text"
      },
      "source": [
        "<img src = \"https://s3-api.us-geo.objectstorage.softlayer.net/cf-courses-data/CognitiveClass/DL0110EN/notebook_images%20/chapter%206/6.1.1convltuon.gif\" width = 500, align = \"center\">"
      ]
    },
    {
      "cell_type": "markdown",
      "metadata": {
        "id": "69rU83KBO8jK",
        "colab_type": "text"
      },
      "source": [
        "\n",
        "<a id=\"ref1\"></a>\n",
        "<h2 align=center>Determining  the Size of the Output</h2>"
      ]
    },
    {
      "cell_type": "markdown",
      "metadata": {
        "id": "q_uKQ3kPO8jL",
        "colab_type": "text"
      },
      "source": [
        "The size of the output is an important parameter. In this lab, you will assume square images. For rectangular images, the same formula can be used in for each dimension independently.  \n",
        "\n",
        "Let M be the size of the input and K be the size of the kernel. The size of the output is given by the following formula:"
      ]
    },
    {
      "cell_type": "markdown",
      "metadata": {
        "id": "oYuutPXGO8jL",
        "colab_type": "text"
      },
      "source": [
        "$$M_{new}=M-K+1$$"
      ]
    },
    {
      "cell_type": "markdown",
      "metadata": {
        "id": "kMIEykMwO8jL",
        "colab_type": "text"
      },
      "source": [
        "Create a kernel of size 2:"
      ]
    },
    {
      "cell_type": "code",
      "metadata": {
        "id": "MwpjFbx6O8jM",
        "colab_type": "code",
        "colab": {
          "base_uri": "https://localhost:8080/",
          "height": 34
        },
        "outputId": "d03c2b18-78ef-41c2-caca-0c998234b4fe"
      },
      "source": [
        "K=2\n",
        "conv1 = nn.Conv2d(in_channels=1, out_channels=1,kernel_size=K)\n",
        "conv1.state_dict()['weight'][0][0]=torch.tensor([[1.0,1.0],[1.0,1.0]])\n",
        "conv1.state_dict()['bias'][0]=0.0\n",
        "conv1.state_dict()\n",
        "conv1"
      ],
      "execution_count": 6,
      "outputs": [
        {
          "output_type": "execute_result",
          "data": {
            "text/plain": [
              "Conv2d(1, 1, kernel_size=(2, 2), stride=(1, 1))"
            ]
          },
          "metadata": {
            "tags": []
          },
          "execution_count": 6
        }
      ]
    },
    {
      "cell_type": "markdown",
      "metadata": {
        "id": "Qznixb4TO8jO",
        "colab_type": "text"
      },
      "source": [
        "Create an image of size 2:"
      ]
    },
    {
      "cell_type": "code",
      "metadata": {
        "id": "wEi1voyKO8jP",
        "colab_type": "code",
        "colab": {}
      },
      "source": [
        "M=4\n",
        "image1=torch.ones(1,1,M,M)"
      ],
      "execution_count": 0,
      "outputs": []
    },
    {
      "cell_type": "markdown",
      "metadata": {
        "id": "aBLwELNPO8jS",
        "colab_type": "text"
      },
      "source": [
        "<img src = \"https://s3-api.us-geo.objectstorage.softlayer.net/cf-courses-data/CognitiveClass/DL0110EN/notebook_images%20/chapter%206/6.1.1kernal2.png\" width = 500, align = \"center\">"
      ]
    },
    {
      "cell_type": "markdown",
      "metadata": {
        "id": "mdXpMHPkO8jS",
        "colab_type": "text"
      },
      "source": [
        "The following equation provides the output:"
      ]
    },
    {
      "cell_type": "markdown",
      "metadata": {
        "id": "n25A7MWSO8jT",
        "colab_type": "text"
      },
      "source": [
        "$$M_{new}=M-K+1$$\n",
        "$$M_{new}=4-2+1$$\n",
        "$$M_{new}=3$$"
      ]
    },
    {
      "cell_type": "markdown",
      "metadata": {
        "id": "Jk4_z5ZNO8jT",
        "colab_type": "text"
      },
      "source": [
        "The following animation illustrates the process: The first iteration of the kernel overlay of the images produces one output. As the kernel is of size K, there are M-K  elements for the kernel to move in the horizontal direction. The same logic applies to the vertical direction.  "
      ]
    },
    {
      "cell_type": "markdown",
      "metadata": {
        "id": "4oKRjdomO8jU",
        "colab_type": "text"
      },
      "source": [
        "<img src = \"https://s3-api.us-geo.objectstorage.softlayer.net/cf-courses-data/CognitiveClass/DL0110EN/notebook_images%20/chapter%206/6.1.1outsize.gif\" width = 500, align = \"center\">"
      ]
    },
    {
      "cell_type": "markdown",
      "metadata": {
        "id": "Buxpb5NnO8jU",
        "colab_type": "text"
      },
      "source": [
        "Perform the convolution and verify the size is correct:"
      ]
    },
    {
      "cell_type": "code",
      "metadata": {
        "id": "VnBE6kiLO8jV",
        "colab_type": "code",
        "colab": {
          "base_uri": "https://localhost:8080/",
          "height": 85
        },
        "outputId": "588e6327-b9c0-4676-eaa3-1fd185d057dc"
      },
      "source": [
        "z1=conv1(image1)\n",
        "print(\"z1:\",z1)\n",
        "print(\"shape:\",z1.shape[2:4])"
      ],
      "execution_count": 8,
      "outputs": [
        {
          "output_type": "stream",
          "text": [
            "z1: tensor([[[[4., 4., 4.],\n",
            "          [4., 4., 4.],\n",
            "          [4., 4., 4.]]]], grad_fn=<MkldnnConvolutionBackward>)\n",
            "shape: torch.Size([3, 3])\n"
          ],
          "name": "stdout"
        }
      ]
    },
    {
      "cell_type": "markdown",
      "metadata": {
        "id": "shvbATGzO8jZ",
        "colab_type": "text"
      },
      "source": [
        "<a id=\"ref2\"></a>\n",
        "<h2 align=center>Stride parameter</h2>"
      ]
    },
    {
      "cell_type": "markdown",
      "metadata": {
        "id": "igGUMyuKO8jZ",
        "colab_type": "text"
      },
      "source": [
        "The parameter stride changes the number of shifts the kernel moves per iteration. As a result, the output size also changes and is given by the following formula:"
      ]
    },
    {
      "cell_type": "markdown",
      "metadata": {
        "id": "86gOvOjvO8ja",
        "colab_type": "text"
      },
      "source": [
        "$$M_{new}=\\dfrac{M-K}{stride}+1$$\n"
      ]
    },
    {
      "cell_type": "markdown",
      "metadata": {
        "id": "_KJZw7f-O8ja",
        "colab_type": "text"
      },
      "source": [
        "Create a convolution object with a stride of 2:"
      ]
    },
    {
      "cell_type": "code",
      "metadata": {
        "id": "qgcUfY-IO8jb",
        "colab_type": "code",
        "colab": {
          "base_uri": "https://localhost:8080/",
          "height": 51
        },
        "outputId": "27f099f5-e3f7-47d5-89fd-6970ebdc756c"
      },
      "source": [
        "conv3 = nn.Conv2d(in_channels=1, out_channels=1,kernel_size=2,stride=2)\n",
        "\n",
        "conv3.state_dict()['weight'][0][0]=torch.tensor([[1.0,1.0],[1.0,1.0]])\n",
        "conv3.state_dict()['bias'][0]=0.0\n",
        "conv3.state_dict()"
      ],
      "execution_count": 9,
      "outputs": [
        {
          "output_type": "execute_result",
          "data": {
            "text/plain": [
              "OrderedDict([('weight', tensor([[[[1., 1.],\n",
              "                        [1., 1.]]]])), ('bias', tensor([0.]))])"
            ]
          },
          "metadata": {
            "tags": []
          },
          "execution_count": 9
        }
      ]
    },
    {
      "cell_type": "markdown",
      "metadata": {
        "id": "2ZizMtyJO8jd",
        "colab_type": "text"
      },
      "source": [
        "For an image with a size of 4, calculate the output size:"
      ]
    },
    {
      "cell_type": "markdown",
      "metadata": {
        "id": "b5Tnj9jtO8jd",
        "colab_type": "text"
      },
      "source": [
        "$$M_{new}=\\dfrac{M-K}{stride}+1$$\n",
        "$$M_{new}=\\dfrac{4-2}{2}+1$$\n",
        "$$M_{new}=2$$"
      ]
    },
    {
      "cell_type": "markdown",
      "metadata": {
        "id": "OLo9bCUqO8jd",
        "colab_type": "text"
      },
      "source": [
        "The following animation illustrates the process: The first iteration of the kernel overlay of the images produces one output. Because the kernel is of size K, there are M-K=2 elements. The stride is 2 because it will move 2 elements at a time. As a result, you divide M-K by the stride value 2:\n"
      ]
    },
    {
      "cell_type": "markdown",
      "metadata": {
        "id": "DYWLyDFOO8je",
        "colab_type": "text"
      },
      "source": [
        "<img src = \"https://s3-api.us-geo.objectstorage.softlayer.net/cf-courses-data/CognitiveClass/DL0110EN/notebook_images%20/chapter%206/6.1.1stride2.gif\" width = 500, align = \"center\">"
      ]
    },
    {
      "cell_type": "markdown",
      "metadata": {
        "id": "WpEsVg7OO8je",
        "colab_type": "text"
      },
      "source": [
        "Perform the convolution and verify the size is correct: "
      ]
    },
    {
      "cell_type": "code",
      "metadata": {
        "id": "0X2HOPddO8jf",
        "colab_type": "code",
        "colab": {
          "base_uri": "https://localhost:8080/",
          "height": 68
        },
        "outputId": "c7adaac0-7bcb-49ab-8f41-cb33bd4e0c7e"
      },
      "source": [
        "z3=conv3(image1)\n",
        "\n",
        "print(\"z3:\",z3)\n",
        "print(\"shape:\",z3.shape[2:4])"
      ],
      "execution_count": 10,
      "outputs": [
        {
          "output_type": "stream",
          "text": [
            "z3: tensor([[[[4., 4.],\n",
            "          [4., 4.]]]], grad_fn=<MkldnnConvolutionBackward>)\n",
            "shape: torch.Size([2, 2])\n"
          ],
          "name": "stdout"
        }
      ]
    },
    {
      "cell_type": "markdown",
      "metadata": {
        "id": "ac9i5vyuO8jh",
        "colab_type": "text"
      },
      "source": [
        "<a id='ref3'></a>\n",
        "<h2 align=center>Zero Padding </h2>\n"
      ]
    },
    {
      "cell_type": "markdown",
      "metadata": {
        "id": "HuI3jdbaO8ji",
        "colab_type": "text"
      },
      "source": [
        "As you apply successive convolutions, the image will shrink. You can apply zero padding to keep the image at a reasonable size, which also holds information at the borders."
      ]
    },
    {
      "cell_type": "markdown",
      "metadata": {
        "id": "yGJS3SBLO8ji",
        "colab_type": "text"
      },
      "source": [
        "In addition, you might not get integer values for the size of the kernel. Consider the following image:"
      ]
    },
    {
      "cell_type": "code",
      "metadata": {
        "id": "4Gd5yHCeO8jj",
        "colab_type": "code",
        "colab": {
          "base_uri": "https://localhost:8080/",
          "height": 85
        },
        "outputId": "05b76dde-5019-4d4e-d7a4-c9865ba3c3ab"
      },
      "source": [
        "image1"
      ],
      "execution_count": 11,
      "outputs": [
        {
          "output_type": "execute_result",
          "data": {
            "text/plain": [
              "tensor([[[[1., 1., 1., 1.],\n",
              "          [1., 1., 1., 1.],\n",
              "          [1., 1., 1., 1.],\n",
              "          [1., 1., 1., 1.]]]])"
            ]
          },
          "metadata": {
            "tags": []
          },
          "execution_count": 11
        }
      ]
    },
    {
      "cell_type": "markdown",
      "metadata": {
        "id": "FvQJvckhO8jl",
        "colab_type": "text"
      },
      "source": [
        "Try performing convolutions with the <code>kernel_size=2</code> and a <code>stride=3</code>. Use these values:\n",
        "\n",
        "$$M_{new}=\\dfrac{M-K}{stride}+1$$\n",
        "$$M_{new}=\\dfrac{4-2}{3}+1$$\n",
        "$$M_{new}=1.666$$"
      ]
    },
    {
      "cell_type": "code",
      "metadata": {
        "id": "dKciBupcO8jm",
        "colab_type": "code",
        "colab": {
          "base_uri": "https://localhost:8080/",
          "height": 51
        },
        "outputId": "7d4a3653-9c49-4e90-e16f-9460c89138d4"
      },
      "source": [
        "conv4 = nn.Conv2d(in_channels=1, out_channels=1,kernel_size=2,stride=3)\n",
        "conv4.state_dict()['weight'][0][0]=torch.tensor([[1.0,1.0],[1.0,1.0]])\n",
        "conv4.state_dict()['bias'][0]=0.0\n",
        "conv4.state_dict()\n",
        "z4=conv4(image1)\n",
        "print(\"z4:\",z4)\n",
        "print(\"z4:\",z4.shape[2:4])"
      ],
      "execution_count": 12,
      "outputs": [
        {
          "output_type": "stream",
          "text": [
            "z4: tensor([[[[4.]]]], grad_fn=<MkldnnConvolutionBackward>)\n",
            "z4: torch.Size([1, 1])\n"
          ],
          "name": "stdout"
        }
      ]
    },
    {
      "cell_type": "markdown",
      "metadata": {
        "id": "oa9n7lv6O8jo",
        "colab_type": "text"
      },
      "source": [
        "You can add rows and columns of zeros around the image. This is called padding. In the constructor <code>Conv2d</code>, you specify the number of rows or columns of zeros that you want to add with the parameter padding. \n",
        "\n",
        "For a square image, you merely pad an extra column of zeros to the first column and the last column. Repeat the process for the rows. As a result, for a square image, the width and height is the original size plus 2 x the number of padding elements specified. You can then determine the size of the output after subsequent operations accordingly as shown in the following equation where you determine the size of an image after padding and then applying a convolutions kernel of size K."
      ]
    },
    {
      "cell_type": "markdown",
      "metadata": {
        "id": "LNs3tLoQO8jo",
        "colab_type": "text"
      },
      "source": [
        "$$M'=M+2 \\times padding$$\n",
        "$$M_{new}=M'-K+1$$"
      ]
    },
    {
      "cell_type": "markdown",
      "metadata": {
        "id": "H2ALk1awO8jo",
        "colab_type": "text"
      },
      "source": [
        "Consider the following example:"
      ]
    },
    {
      "cell_type": "code",
      "metadata": {
        "id": "tKjldxnzO8jp",
        "colab_type": "code",
        "colab": {
          "base_uri": "https://localhost:8080/",
          "height": 68
        },
        "outputId": "0f4c0aa7-59bd-4bf0-a146-0d8d4013303d"
      },
      "source": [
        "conv5 = nn.Conv2d(in_channels=1, out_channels=1,kernel_size=2,stride=3,padding=1)\n",
        "\n",
        "conv5.state_dict()['weight'][0][0]=torch.tensor([[1.0,1.0],[1.0,1.0]])\n",
        "conv5.state_dict()['bias'][0]=0.0\n",
        "conv5.state_dict()\n",
        "z5=conv5(image1)\n",
        "print(\"z5:\",z5)\n",
        "print(\"z5:\",z4.shape[2:4])"
      ],
      "execution_count": 13,
      "outputs": [
        {
          "output_type": "stream",
          "text": [
            "z5: tensor([[[[1., 2.],\n",
            "          [2., 4.]]]], grad_fn=<MkldnnConvolutionBackward>)\n",
            "z5: torch.Size([1, 1])\n"
          ],
          "name": "stdout"
        }
      ]
    },
    {
      "cell_type": "code",
      "metadata": {
        "id": "e6VDDhgmO8jr",
        "colab_type": "code",
        "colab": {}
      },
      "source": [
        ""
      ],
      "execution_count": 0,
      "outputs": []
    },
    {
      "cell_type": "markdown",
      "metadata": {
        "id": "IKXbqFcSO8jt",
        "colab_type": "text"
      },
      "source": [
        "The process is summarized in the following  animation: "
      ]
    },
    {
      "cell_type": "markdown",
      "metadata": {
        "id": "D5dX0MQLO8jt",
        "colab_type": "text"
      },
      "source": [
        "<img src = \"https://s3-api.us-geo.objectstorage.softlayer.net/cf-courses-data/CognitiveClass/DL0110EN/notebook_images%20/chapter%206/6.1.1zeropad.gif\" width = 500, align = \"center\">"
      ]
    },
    {
      "cell_type": "markdown",
      "metadata": {
        "id": "nVVIKS0xO8jt",
        "colab_type": "text"
      },
      "source": [
        "<a id='ref4'></a>\n",
        "<h2 align=center>Practice Question </h2>"
      ]
    },
    {
      "cell_type": "markdown",
      "metadata": {
        "id": "OFE0n0LOO8ju",
        "colab_type": "text"
      },
      "source": [
        " A kernel of zeros with a kernel size=3  is applied to the following image: "
      ]
    },
    {
      "cell_type": "code",
      "metadata": {
        "id": "T7MbNsBIO8ju",
        "colab_type": "code",
        "colab": {
          "base_uri": "https://localhost:8080/",
          "height": 85
        },
        "outputId": "fd854f6f-f779-4df8-bcea-bfa3829b7906"
      },
      "source": [
        "Image=torch.randn((1,1,4,4))\n",
        "Image"
      ],
      "execution_count": 14,
      "outputs": [
        {
          "output_type": "execute_result",
          "data": {
            "text/plain": [
              "tensor([[[[ 1.2754, -0.7396, -0.5461, -0.6633],\n",
              "          [ 1.0199, -1.5861, -0.8873, -0.3379],\n",
              "          [-2.8060,  1.8261, -1.5033,  0.2077],\n",
              "          [-1.1047,  0.2647, -0.1366, -0.5470]]]])"
            ]
          },
          "metadata": {
            "tags": []
          },
          "execution_count": 14
        }
      ]
    },
    {
      "cell_type": "markdown",
      "metadata": {
        "id": "FRisFzXDO8jx",
        "colab_type": "text"
      },
      "source": [
        "Question: Without using the function, determine what the outputs values are as each element:"
      ]
    },
    {
      "cell_type": "markdown",
      "metadata": {
        "id": "rnnG7pn_O8jy",
        "colab_type": "text"
      },
      "source": [
        "Double-click __here__ for the solution.\n",
        "\n",
        "<!-- Your answer is below:\n",
        "As each element of the kernel is zero, and for every  output, the image is multiplied  by the  kernel, the result is always zero \n",
        "\n",
        "-->"
      ]
    },
    {
      "cell_type": "markdown",
      "metadata": {
        "id": "5e2h1SlNO8jy",
        "colab_type": "text"
      },
      "source": [
        "Question: Use the following convolution object to perform convolution on the tensor   <code>Image</code>:"
      ]
    },
    {
      "cell_type": "code",
      "metadata": {
        "id": "FiOWn2m0O8jz",
        "colab_type": "code",
        "colab": {}
      },
      "source": [
        "conv = nn.Conv2d(in_channels=1, out_channels=1,kernel_size=3)\n",
        "conv.state_dict()['weight'][0][0]=torch.tensor([[0,0,0],[0,0,0],[0,0.0,0]])\n",
        "conv.state_dict()['bias'][0]=0.0"
      ],
      "execution_count": 0,
      "outputs": []
    },
    {
      "cell_type": "markdown",
      "metadata": {
        "id": "a3KpBqFvO8j1",
        "colab_type": "text"
      },
      "source": [
        "Double-click __here__ for the solution.\n",
        "<!-- Your answer is below:\n",
        "conv(Image)\n",
        "-->"
      ]
    },
    {
      "cell_type": "markdown",
      "metadata": {
        "id": "wNGLEk_vO8j1",
        "colab_type": "text"
      },
      "source": [
        "Question: You have an image of size 4. The parameters are as follows  kernel_size=2,stride=2. What is the size of the output?"
      ]
    },
    {
      "cell_type": "code",
      "metadata": {
        "id": "g8hYooxUO8j1",
        "colab_type": "code",
        "colab": {}
      },
      "source": [
        "2"
      ],
      "execution_count": 0,
      "outputs": []
    },
    {
      "cell_type": "markdown",
      "metadata": {
        "id": "GWsAOSFPO8j3",
        "colab_type": "text"
      },
      "source": [
        "Double-click __here__ for the solution.\n",
        "\n",
        "<!-- Your answer is below:\n",
        "(M-K)/stride +1\n",
        "(4-2)/2 +1\n",
        "2\n",
        "-->"
      ]
    },
    {
      "cell_type": "markdown",
      "metadata": {
        "id": "BeTNDsMDO8j4",
        "colab_type": "text"
      },
      "source": [
        "<a href=\"http://cocl.us/pytorch_link_bottom\">\n",
        "    <img src=\"https://s3-api.us-geo.objectstorage.softlayer.net/cf-courses-data/CognitiveClass/DL0110EN/notebook_images%20/notebook_bottom%20.png\" width=\"750\" alt=\"PyTorch Bottom\" />\n",
        "</a>"
      ]
    },
    {
      "cell_type": "markdown",
      "metadata": {
        "id": "vp8cNBjPO8j4",
        "colab_type": "text"
      },
      "source": [
        "### About the Authors:  \n",
        "[Joseph Santarcangelo]( https://www.linkedin.com/in/joseph-s-50398b136/) has a PhD in Electrical Engineering. His research focused on using machine learning, signal processing, and computer vision to determine how videos impact human cognition. \n",
        "\n",
        "Other contributors: [Michelle Carey](  https://www.linkedin.com/in/michelleccarey/), [Mavis Zhou](  https://www.linkedin.com/in/jiahui-mavis-zhou-a4537814a/) "
      ]
    },
    {
      "cell_type": "markdown",
      "metadata": {
        "id": "mRZVJHcnO8j4",
        "colab_type": "text"
      },
      "source": [
        "<hr>"
      ]
    },
    {
      "cell_type": "markdown",
      "metadata": {
        "id": "439NL14tO8j5",
        "colab_type": "text"
      },
      "source": [
        "Copyright &copy; 2018 [cognitiveclass.ai](cognitiveclass.ai?utm_source=bducopyrightlink&utm_medium=dswb&utm_campaign=bdu). This notebook and its source code are released under the terms of the [MIT License](https://bigdatauniversity.com/mit-license/)."
      ]
    }
  ]
}